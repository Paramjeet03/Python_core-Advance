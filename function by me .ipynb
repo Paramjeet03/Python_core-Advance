{
 "cells": [
  {
   "cell_type": "raw",
   "id": "a9636d61-f08a-48d1-92f0-19053594f5a3",
   "metadata": {},
   "source": [
    "> def\n",
    "    > local variable\n",
    "    > global variable\n",
    "    > local scope\n",
    "    > global scope\n",
    "    > arguments:\n",
    "        > default arguments\n",
    "        > positional arguments\n",
    "        > keyword arguments (it use while calling a func. only)\n",
    "        > arbitary keyword arguments\n",
    "        > arbitary positional arguments\n",
    "> lambda func.\n",
    "> nested func.\n",
    "> decorator\n",
    "> generator\n",
    "> yield"
   ]
  },
  {
   "cell_type": "code",
   "execution_count": 3,
   "id": "b44a5971-6253-459b-9b06-cd530881b32f",
   "metadata": {},
   "outputs": [
    {
     "name": "stdout",
     "output_type": "stream",
     "text": [
      "hello world\n"
     ]
    }
   ],
   "source": [
    "print('hello world')"
   ]
  },
  {
   "cell_type": "code",
   "execution_count": 4,
   "id": "2c189e9d-cda1-496f-8ed5-74aed7178691",
   "metadata": {},
   "outputs": [
    {
     "name": "stdout",
     "output_type": "stream",
     "text": [
      "hello world\n",
      "hello world\n",
      "hello world\n",
      "hello world\n",
      "hello world\n"
     ]
    }
   ],
   "source": [
    "print('hello world')\n",
    "print('hello world')\n",
    "print('hello world')\n",
    "print('hello world')\n",
    "print('hello world')"
   ]
  },
  {
   "cell_type": "code",
   "execution_count": 5,
   "id": "aa6a0390-4ec7-4827-9d45-04d69e4d9c01",
   "metadata": {},
   "outputs": [
    {
     "name": "stdout",
     "output_type": "stream",
     "text": [
      "hello world\n",
      "hello world\n",
      "hello world\n",
      "hello world\n",
      "hello world\n"
     ]
    }
   ],
   "source": [
    "for i in range(5):\n",
    "    print('hello world')"
   ]
  },
  {
   "cell_type": "code",
   "execution_count": 19,
   "id": "d234d7a1-e981-4ed2-867d-7a0912142f91",
   "metadata": {},
   "outputs": [
    {
     "name": "stdout",
     "output_type": "stream",
     "text": [
      "world\n"
     ]
    }
   ],
   "source": [
    "print('world') # when we write another a program after it run a another program."
   ]
  },
  {
   "cell_type": "code",
   "execution_count": 20,
   "id": "63a7c4eb-9768-408e-8679-ab29a25edb41",
   "metadata": {},
   "outputs": [
    {
     "name": "stdout",
     "output_type": "stream",
     "text": [
      "hello world\n",
      "hello world\n",
      "hello world\n",
      "hello world\n",
      "hello world\n"
     ]
    }
   ],
   "source": [
    "for i in range(5):\n",
    "    print('hello world')"
   ]
  },
  {
   "cell_type": "code",
   "execution_count": 21,
   "id": "44e93014-8f2b-450b-91b0-252f428aec53",
   "metadata": {},
   "outputs": [],
   "source": [
    "def suraj_1():\n",
    "    for i in range(5): # too change the range .\n",
    "        print('hello world')"
   ]
  },
  {
   "cell_type": "code",
   "execution_count": 9,
   "id": "ff548d15-cf1f-435b-9622-fc87489099c6",
   "metadata": {},
   "outputs": [
    {
     "name": "stdout",
     "output_type": "stream",
     "text": [
      "hello world\n",
      "hello world\n",
      "hello world\n",
      "hello world\n",
      "hello world\n"
     ]
    }
   ],
   "source": [
    "suraj_1()"
   ]
  },
  {
   "cell_type": "code",
   "execution_count": 22,
   "id": "f276707b-fc33-4b85-85de-09fcdc091e02",
   "metadata": {},
   "outputs": [],
   "source": [
    "def suraj_1(a):\n",
    "    for i in range(a):\n",
    "        print(i,'hello world')"
   ]
  },
  {
   "cell_type": "code",
   "execution_count": 11,
   "id": "a3b80d8e-3d96-4a0c-a7b8-13240fe66425",
   "metadata": {},
   "outputs": [
    {
     "name": "stdout",
     "output_type": "stream",
     "text": [
      "0 hello world\n",
      "1 hello world\n",
      "2 hello world\n",
      "3 hello world\n",
      "4 hello world\n",
      "5 hello world\n",
      "6 hello world\n",
      "7 hello world\n",
      "8 hello world\n",
      "9 hello world\n"
     ]
    }
   ],
   "source": [
    "suraj_1(10)"
   ]
  },
  {
   "cell_type": "code",
   "execution_count": 23,
   "id": "3c8c04a5-ae1e-4d38-b0de-06cfe9c951d6",
   "metadata": {},
   "outputs": [],
   "source": [
    "def suraj_1(a):\n",
    "    for i in range(a+1):\n",
    "        print(i,'hello world')"
   ]
  },
  {
   "cell_type": "code",
   "execution_count": 14,
   "id": "ff53a0ec-6f18-4f85-9872-f0de08fdf537",
   "metadata": {},
   "outputs": [
    {
     "name": "stdout",
     "output_type": "stream",
     "text": [
      "0 hello world\n",
      "1 hello world\n",
      "2 hello world\n",
      "3 hello world\n",
      "4 hello world\n",
      "5 hello world\n",
      "6 hello world\n",
      "7 hello world\n",
      "8 hello world\n",
      "9 hello world\n",
      "10 hello world\n"
     ]
    }
   ],
   "source": [
    "suraj_1(10)"
   ]
  },
  {
   "cell_type": "code",
   "execution_count": 24,
   "id": "6bf26ffa-fbe6-45fb-b96a-e64407c16186",
   "metadata": {},
   "outputs": [],
   "source": [
    "def suraj_1(a,b):\n",
    "    for i in range(a,b+1):  # too change the range and fix the intial value .\n",
    "        print(i,'hello world')"
   ]
  },
  {
   "cell_type": "code",
   "execution_count": 16,
   "id": "bd49a7e6-4583-4173-8e68-40a2230c45fc",
   "metadata": {},
   "outputs": [
    {
     "name": "stdout",
     "output_type": "stream",
     "text": [
      "1 hello world\n",
      "2 hello world\n",
      "3 hello world\n",
      "4 hello world\n",
      "5 hello world\n",
      "6 hello world\n",
      "7 hello world\n",
      "8 hello world\n",
      "9 hello world\n",
      "10 hello world\n"
     ]
    }
   ],
   "source": [
    "suraj_1(1,10)"
   ]
  },
  {
   "cell_type": "code",
   "execution_count": 25,
   "id": "32f8b3b5-9201-4b72-b9dc-0ea0f098f7b3",
   "metadata": {},
   "outputs": [],
   "source": [
    "def suraj_1(a,b,c):\n",
    "    for i in range(a,b+1,c): # too change the range and fix the intial value or add stepping .\n",
    "        print(i,'hello world')"
   ]
  },
  {
   "cell_type": "code",
   "execution_count": 26,
   "id": "857a7feb-60b5-46c2-a4f8-2ce2dc33f7a8",
   "metadata": {},
   "outputs": [
    {
     "name": "stdout",
     "output_type": "stream",
     "text": [
      "1 hello world\n",
      "3 hello world\n",
      "5 hello world\n",
      "7 hello world\n",
      "9 hello world\n"
     ]
    }
   ],
   "source": [
    "suraj_1(1,10,2)"
   ]
  },
  {
   "cell_type": "markdown",
   "id": "29af3ed6-2d58-4825-91f9-16f1554ccf5a",
   "metadata": {},
   "source": [
    "### local variable:- these access in particular region in def.but out side it not work.\n",
    "     > local scope"
   ]
  },
  {
   "cell_type": "code",
   "execution_count": 8,
   "id": "a03a1485-ed21-4a3b-9bcc-6e526b4f5935",
   "metadata": {},
   "outputs": [],
   "source": [
    "def add1():\n",
    "    a=10\n",
    "    b=20\n",
    "    print(a+b)"
   ]
  },
  {
   "cell_type": "code",
   "execution_count": 10,
   "id": "dd8d8bfd-9cd0-458d-8f3c-710768b3e11b",
   "metadata": {},
   "outputs": [
    {
     "name": "stdout",
     "output_type": "stream",
     "text": [
      "30\n"
     ]
    }
   ],
   "source": [
    "add1()"
   ]
  },
  {
   "cell_type": "code",
   "execution_count": 11,
   "id": "45f25c7a-57a9-4970-b880-22b3a6fc9f29",
   "metadata": {},
   "outputs": [
    {
     "ename": "NameError",
     "evalue": "name 'a' is not defined",
     "output_type": "error",
     "traceback": [
      "\u001b[1;31m---------------------------------------------------------------------------\u001b[0m",
      "\u001b[1;31mNameError\u001b[0m                                 Traceback (most recent call last)",
      "Cell \u001b[1;32mIn[11], line 1\u001b[0m\n\u001b[1;32m----> 1\u001b[0m \u001b[43ma\u001b[49m\n",
      "\u001b[1;31mNameError\u001b[0m: name 'a' is not defined"
     ]
    }
   ],
   "source": [
    "a"
   ]
  },
  {
   "cell_type": "code",
   "execution_count": 12,
   "id": "31f55102-7a4e-4372-b80d-9741b943d406",
   "metadata": {},
   "outputs": [
    {
     "ename": "SyntaxError",
     "evalue": "invalid syntax (146700037.py, line 1)",
     "output_type": "error",
     "traceback": [
      "\u001b[1;36m  Cell \u001b[1;32mIn[12], line 1\u001b[1;36m\u001b[0m\n\u001b[1;33m    b=\u001b[0m\n\u001b[1;37m      ^\u001b[0m\n\u001b[1;31mSyntaxError\u001b[0m\u001b[1;31m:\u001b[0m invalid syntax\n"
     ]
    }
   ],
   "source": [
    "b="
   ]
  },
  {
   "cell_type": "markdown",
   "id": "f5874dfc-6880-4d88-86d9-d0b0d63474e7",
   "metadata": {},
   "source": [
    "### gobal variable:- these access in out in def.\n",
    "    > global scope"
   ]
  },
  {
   "cell_type": "code",
   "execution_count": 13,
   "id": "a3dce1ad-adf8-43e4-93d5-ea937b699e03",
   "metadata": {},
   "outputs": [],
   "source": [
    "a=10"
   ]
  },
  {
   "cell_type": "code",
   "execution_count": 14,
   "id": "3887b48a-a8f9-469b-acde-fe4362f7aca4",
   "metadata": {},
   "outputs": [],
   "source": [
    "b=30"
   ]
  },
  {
   "cell_type": "code",
   "execution_count": 15,
   "id": "250ffb29-c4d9-43e1-b80d-0d6cd833992b",
   "metadata": {},
   "outputs": [],
   "source": [
    "def add2():\n",
    "    print(a+b)"
   ]
  },
  {
   "cell_type": "code",
   "execution_count": 16,
   "id": "eeb91c2c-f424-4bb9-92af-b8bd433be970",
   "metadata": {},
   "outputs": [
    {
     "name": "stdout",
     "output_type": "stream",
     "text": [
      "40\n"
     ]
    }
   ],
   "source": [
    "add2()"
   ]
  },
  {
   "cell_type": "code",
   "execution_count": 17,
   "id": "cadce74f-316c-4ced-a14c-bf098b725e5c",
   "metadata": {},
   "outputs": [
    {
     "data": {
      "text/plain": [
       "10"
      ]
     },
     "execution_count": 17,
     "metadata": {},
     "output_type": "execute_result"
    }
   ],
   "source": [
    "a"
   ]
  },
  {
   "cell_type": "code",
   "execution_count": 18,
   "id": "bb12d689-e97d-472f-b399-b1f0a5f10948",
   "metadata": {},
   "outputs": [
    {
     "data": {
      "text/plain": [
       "30"
      ]
     },
     "execution_count": 18,
     "metadata": {},
     "output_type": "execute_result"
    }
   ],
   "source": [
    "b"
   ]
  },
  {
   "cell_type": "markdown",
   "id": "7e2ea081-c4e9-4a69-8541-2c0d27e0559b",
   "metadata": {},
   "source": [
    "# arguments:\n",
    "        > default arguments\n",
    "        \n",
    "        > positional arguments\n",
    "        \n",
    "        > keyword arguments (it use while calling a func. only)\n",
    "        \n",
    "        > arbitary positional arguments\n",
    "        \n",
    "        > arbitary keyword arguments\n",
    "        "
   ]
  },
  {
   "cell_type": "markdown",
   "id": "e67ff99a-0c5e-4760-8d20-8bf7ca243fdb",
   "metadata": {},
   "source": [
    "### Default arguments :-\n",
    "         this type argumentin which func. run of by default values."
   ]
  },
  {
   "cell_type": "code",
   "execution_count": 24,
   "id": "ea70968a-c055-47fa-9d1f-67b771479035",
   "metadata": {},
   "outputs": [],
   "source": [
    "def add3(a=10,b=30):\n",
    "    print(a+b)"
   ]
  },
  {
   "cell_type": "code",
   "execution_count": 25,
   "id": "be3b7bb8-aa94-4a69-95cd-f950a58e2ff7",
   "metadata": {},
   "outputs": [
    {
     "name": "stdout",
     "output_type": "stream",
     "text": [
      "40\n"
     ]
    }
   ],
   "source": [
    "add3()"
   ]
  },
  {
   "cell_type": "code",
   "execution_count": 26,
   "id": "6b9853db-3f43-494f-92b9-808821ac6738",
   "metadata": {},
   "outputs": [
    {
     "name": "stdout",
     "output_type": "stream",
     "text": [
      "130\n"
     ]
    }
   ],
   "source": [
    "add3(100)"
   ]
  },
  {
   "cell_type": "markdown",
   "id": "9cd1530a-c549-4487-b87d-3193f365e3fd",
   "metadata": {},
   "source": [
    "### positional arguments:-\n",
    "            this type arguments in which we change the function program value."
   ]
  },
  {
   "cell_type": "code",
   "execution_count": 27,
   "id": "df21c702-9e5b-4158-b611-079760c64bd5",
   "metadata": {},
   "outputs": [],
   "source": [
    "def add4(a,b):\n",
    "    print(a+b)"
   ]
  },
  {
   "cell_type": "code",
   "execution_count": 28,
   "id": "7f3d13c5-dc02-441d-bd57-a51d63947d7c",
   "metadata": {},
   "outputs": [
    {
     "name": "stdout",
     "output_type": "stream",
     "text": [
      "30\n"
     ]
    }
   ],
   "source": [
    "add4(10,20)"
   ]
  },
  {
   "cell_type": "code",
   "execution_count": 29,
   "id": "ac2c1e6b-6c42-4add-ab05-14dbb5956eed",
   "metadata": {},
   "outputs": [],
   "source": [
    "def add4(a,b):\n",
    "    print('a  :',a)\n",
    "    print('b  :',b)\n",
    "    print(a+b)"
   ]
  },
  {
   "cell_type": "code",
   "execution_count": 30,
   "id": "beb8e28f-a07f-417b-92b9-3d5949ff3251",
   "metadata": {},
   "outputs": [
    {
     "name": "stdout",
     "output_type": "stream",
     "text": [
      "a  : 10\n",
      "b  : 90\n",
      "100\n"
     ]
    }
   ],
   "source": [
    "add4(10,90)"
   ]
  },
  {
   "cell_type": "markdown",
   "id": "aeca1445-de68-4e20-bce2-bd091b331e67",
   "metadata": {},
   "source": [
    "###  keyword arguments (it use while calling a func. only)\n",
    "               this type arguments in which we change the order of assign varaiable"
   ]
  },
  {
   "cell_type": "code",
   "execution_count": 31,
   "id": "e7b431b1-273a-4621-9b2a-57cae2e87fc7",
   "metadata": {},
   "outputs": [],
   "source": [
    "def add5(a,b):\n",
    "    print('a  :',a)\n",
    "    print('b  :',b)\n",
    "    print(a+b)"
   ]
  },
  {
   "cell_type": "code",
   "execution_count": 33,
   "id": "2bcad09b-3f40-4f79-9677-1ae0619bfd39",
   "metadata": {},
   "outputs": [
    {
     "name": "stdout",
     "output_type": "stream",
     "text": [
      "a  : 10\n",
      "b  : 20\n",
      "30\n"
     ]
    }
   ],
   "source": [
    "add5(b=20,a=10)"
   ]
  },
  {
   "cell_type": "markdown",
   "id": "86d81e38-6916-4d43-90ae-0362f83b7603",
   "metadata": {},
   "source": [
    "Note:-\n",
    "\n",
    ">in other langauge we import the builtins fuction before a write a program.but in python not declaration is nesscery because it opperate automatically."
   ]
  },
  {
   "cell_type": "code",
   "execution_count": 36,
   "id": "ea50a670-49ad-4bd5-a54f-d363a29a602d",
   "metadata": {},
   "outputs": [],
   "source": [
    "import builtins"
   ]
  },
  {
   "cell_type": "code",
   "execution_count": 37,
   "id": "5687db67-9b70-4eb5-8b53-242341cd697d",
   "metadata": {},
   "outputs": [
    {
     "name": "stdout",
     "output_type": "stream",
     "text": [
      "hello world\n"
     ]
    }
   ],
   "source": [
    "builtins.print('hello world')"
   ]
  },
  {
   "cell_type": "code",
   "execution_count": 38,
   "id": "7ef32da4-6a2a-4756-9d96-09462f3cbd48",
   "metadata": {},
   "outputs": [
    {
     "data": {
      "text/plain": [
       "str"
      ]
     },
     "execution_count": 38,
     "metadata": {},
     "output_type": "execute_result"
    }
   ],
   "source": [
    "builtins.type('hello world')"
   ]
  },
  {
   "cell_type": "markdown",
   "id": "1d31478c-bd8f-4798-af85-78f691c3b606",
   "metadata": {},
   "source": [
    " ### arbitary positional arguments:-\n",
    "         this type arguments in which allow to user enter many value u want.and store it in a tuple"
   ]
  },
  {
   "cell_type": "code",
   "execution_count": 43,
   "id": "2cd4165b-dff8-4a1c-b3ab-808cce66e6fc",
   "metadata": {},
   "outputs": [],
   "source": [
    "a=1,2,2,3,4   # packing and unpacking"
   ]
  },
  {
   "cell_type": "code",
   "execution_count": 44,
   "id": "ca43a74d-6cc3-4f44-8f9e-916532421bd3",
   "metadata": {},
   "outputs": [
    {
     "data": {
      "text/plain": [
       "(1, 2, 2, 3, 4)"
      ]
     },
     "execution_count": 44,
     "metadata": {},
     "output_type": "execute_result"
    }
   ],
   "source": [
    "a"
   ]
  },
  {
   "cell_type": "code",
   "execution_count": 45,
   "id": "c4518fb6-45bb-4227-803c-88860770da4d",
   "metadata": {},
   "outputs": [
    {
     "data": {
      "text/plain": [
       "tuple"
      ]
     },
     "execution_count": 45,
     "metadata": {},
     "output_type": "execute_result"
    }
   ],
   "source": [
    "type(a)"
   ]
  },
  {
   "cell_type": "code",
   "execution_count": 47,
   "id": "5ac48b45-caef-4220-acf8-9d177f888473",
   "metadata": {},
   "outputs": [],
   "source": [
    "def add6(*m):\n",
    "    a=0\n",
    "    for i in m:\n",
    "        a=a+i\n",
    "    print('total sum is',a)"
   ]
  },
  {
   "cell_type": "code",
   "execution_count": 49,
   "id": "07b0012e-33db-454a-8003-55a0bc5dcf29",
   "metadata": {},
   "outputs": [
    {
     "name": "stdout",
     "output_type": "stream",
     "text": [
      "total sum is 12356877\n"
     ]
    }
   ],
   "source": [
    "add6(7777,888,743,789,890,12345790)"
   ]
  },
  {
   "cell_type": "markdown",
   "id": "bf96ddc5-2463-41dd-9ed1-5a95ba3101fb",
   "metadata": {},
   "source": [
    "# return:-"
   ]
  },
  {
   "cell_type": "code",
   "execution_count": 77,
   "id": "d9ef36a3-018b-4068-9104-3f5ebf22df96",
   "metadata": {},
   "outputs": [],
   "source": [
    "def add3(c=10,v=30):\n",
    "    print(c+v)"
   ]
  },
  {
   "cell_type": "code",
   "execution_count": 78,
   "id": "be03c366-e7cd-407b-b649-5e04d5fa9501",
   "metadata": {},
   "outputs": [
    {
     "name": "stdout",
     "output_type": "stream",
     "text": [
      "40\n"
     ]
    }
   ],
   "source": [
    "t=add3()"
   ]
  },
  {
   "cell_type": "code",
   "execution_count": 80,
   "id": "92192b94-3fbd-454e-951b-639451e320d0",
   "metadata": {},
   "outputs": [
    {
     "name": "stdout",
     "output_type": "stream",
     "text": [
      "None\n"
     ]
    }
   ],
   "source": [
    "print(t)"
   ]
  },
  {
   "cell_type": "markdown",
   "id": "59d504b6-0325-41b4-844d-6899e3a34fc3",
   "metadata": {},
   "source": [
    "## print func. make the varaible not asignable because it print the value not save. "
   ]
  },
  {
   "cell_type": "code",
   "execution_count": 4,
   "id": "df3f1f02-8418-427f-be8d-1e539c608c54",
   "metadata": {},
   "outputs": [],
   "source": [
    "def add14(c=10,v=30):\n",
    "    return(c+v)"
   ]
  },
  {
   "cell_type": "code",
   "execution_count": 8,
   "id": "7a384c82-6bfe-406d-b6e8-1f24b9060bfc",
   "metadata": {},
   "outputs": [],
   "source": [
    "w=add14()"
   ]
  },
  {
   "cell_type": "code",
   "execution_count": 9,
   "id": "c1a5648b-061c-4517-a8be-9407052cd4d2",
   "metadata": {},
   "outputs": [
    {
     "data": {
      "text/plain": [
       "50"
      ]
     },
     "execution_count": 9,
     "metadata": {},
     "output_type": "execute_result"
    }
   ],
   "source": [
    "w+10"
   ]
  },
  {
   "cell_type": "markdown",
   "id": "c4e98264-b672-4f09-81b1-9d2897451884",
   "metadata": {},
   "source": [
    "### arbitary keyword arguments  :-\n",
    "               this type arguments is use for gernate dictonary. and take 2 arguments at a time."
   ]
  },
  {
   "cell_type": "code",
   "execution_count": 7,
   "id": "da7ed28a-6c4b-44f2-b78b-65890852c141",
   "metadata": {},
   "outputs": [],
   "source": [
    "def rahul(**r):\n",
    "    return r"
   ]
  },
  {
   "cell_type": "code",
   "execution_count": 8,
   "id": "ef53726e-8044-435f-9549-a13270f7763e",
   "metadata": {},
   "outputs": [],
   "source": [
    "a=rahul(name='mohan',name2='prince',name3='rohan')"
   ]
  },
  {
   "cell_type": "code",
   "execution_count": 9,
   "id": "02db7945-08eb-466f-9d1e-84c6aef8e719",
   "metadata": {},
   "outputs": [
    {
     "data": {
      "text/plain": [
       "dict"
      ]
     },
     "execution_count": 9,
     "metadata": {},
     "output_type": "execute_result"
    }
   ],
   "source": [
    "type(a)"
   ]
  },
  {
   "cell_type": "code",
   "execution_count": 10,
   "id": "55a42733-a57b-441a-963a-358ef14c2d2c",
   "metadata": {},
   "outputs": [
    {
     "data": {
      "text/plain": [
       "{'name': 'mohan', 'name2': 'prince', 'name3': 'rohan'}"
      ]
     },
     "execution_count": 10,
     "metadata": {},
     "output_type": "execute_result"
    }
   ],
   "source": [
    "a"
   ]
  },
  {
   "cell_type": "code",
   "execution_count": 12,
   "id": "f9da096c-d787-455b-8ebd-63df92129505",
   "metadata": {},
   "outputs": [],
   "source": [
    "def rahul(**r):\n",
    "    print(r.values())\n",
    "    return "
   ]
  },
  {
   "cell_type": "code",
   "execution_count": 14,
   "id": "3a78fc6e-c9d2-40d5-ab2b-7eb9d53d6783",
   "metadata": {},
   "outputs": [
    {
     "name": "stdout",
     "output_type": "stream",
     "text": [
      "dict_values(['mohan', 'prince', 'rohan'])\n"
     ]
    }
   ],
   "source": [
    "rahul(name='mohan',name2='prince',name3='rohan')"
   ]
  },
  {
   "cell_type": "code",
   "execution_count": 15,
   "id": "b59f2c0d-2af4-43e8-b56b-a0757f5745a9",
   "metadata": {},
   "outputs": [],
   "source": [
    "def rahul(**r):\n",
    "    print(r.keys())\n",
    "    return "
   ]
  },
  {
   "cell_type": "code",
   "execution_count": 16,
   "id": "61fa9297-e791-49d2-a7f3-0eacb265023a",
   "metadata": {},
   "outputs": [
    {
     "name": "stdout",
     "output_type": "stream",
     "text": [
      "dict_keys(['name', 'name2', 'name3'])\n"
     ]
    }
   ],
   "source": [
    "rahul(name='mohan',name2='prince',name3='rohan')"
   ]
  },
  {
   "cell_type": "markdown",
   "id": "2dbb274c-7b9b-4ddb-ad6b-a5edc1e4083e",
   "metadata": {},
   "source": [
    "# Nested function :-"
   ]
  },
  {
   "cell_type": "code",
   "execution_count": 18,
   "id": "e3088717-fa8a-42bc-b526-47acb369aa12",
   "metadata": {},
   "outputs": [],
   "source": [
    "def suraj():\n",
    "    print('I am a engineer')"
   ]
  },
  {
   "cell_type": "code",
   "execution_count": 19,
   "id": "37e0978e-0714-4b18-aea7-73bb3f1d5123",
   "metadata": {},
   "outputs": [
    {
     "name": "stdout",
     "output_type": "stream",
     "text": [
      "I am a engineer\n"
     ]
    }
   ],
   "source": [
    "suraj()"
   ]
  },
  {
   "cell_type": "code",
   "execution_count": 46,
   "id": "fdf179d0-0d11-4279-a9ca-09b6390d7aad",
   "metadata": {},
   "outputs": [],
   "source": [
    "def my(arg):\n",
    "    def self():\n",
    "        print('my name is paramjeet')\n",
    "        arg()\n",
    "    return self"
   ]
  },
  {
   "cell_type": "code",
   "execution_count": 47,
   "id": "bb3e9180-f2c9-4500-a897-555861653da6",
   "metadata": {},
   "outputs": [],
   "source": [
    "val=my(suraj)"
   ]
  },
  {
   "cell_type": "code",
   "execution_count": 48,
   "id": "d14ae7a4-c8b7-468d-8fd7-8b3e3e37a64a",
   "metadata": {},
   "outputs": [
    {
     "name": "stdout",
     "output_type": "stream",
     "text": [
      "my name is paramjeet\n",
      "I am a engineer\n"
     ]
    }
   ],
   "source": [
    "val()"
   ]
  },
  {
   "cell_type": "code",
   "execution_count": 50,
   "id": "919f574a-9df8-4503-883f-708c8e3b418a",
   "metadata": {},
   "outputs": [],
   "source": [
    "def intro():\n",
    "    print('i am a ai tranier')"
   ]
  },
  {
   "cell_type": "code",
   "execution_count": 51,
   "id": "f22c3cc6-d20b-4842-9015-2f3e50dd4ce1",
   "metadata": {},
   "outputs": [
    {
     "name": "stdout",
     "output_type": "stream",
     "text": [
      "i am a ai tranier\n"
     ]
    }
   ],
   "source": [
    "intro()"
   ]
  },
  {
   "cell_type": "code",
   "execution_count": 56,
   "id": "3744fccd-3362-4994-b689-a6d7e8e44522",
   "metadata": {},
   "outputs": [],
   "source": [
    "def myself(arg):\n",
    "    def name():\n",
    "        print('my name is paramjeet')\n",
    "        arg()\n",
    "    return name"
   ]
  },
  {
   "cell_type": "code",
   "execution_count": 57,
   "id": "1337f8b8-2101-4e55-b2d7-510d45f4d155",
   "metadata": {},
   "outputs": [],
   "source": [
    "ok= myself(intro)"
   ]
  },
  {
   "cell_type": "code",
   "execution_count": 58,
   "id": "4024eb43-3bc9-4e13-b820-f858ead10fa2",
   "metadata": {},
   "outputs": [
    {
     "name": "stdout",
     "output_type": "stream",
     "text": [
      "my name is paramjeet\n",
      "i am a ai tranier\n"
     ]
    }
   ],
   "source": [
    "ok()"
   ]
  },
  {
   "cell_type": "code",
   "execution_count": 60,
   "id": "7b88c34e-8899-4ee3-9651-3f7ec4b9dd7f",
   "metadata": {},
   "outputs": [
    {
     "name": "stdout",
     "output_type": "stream",
     "text": [
      "my name is paramjeet\n",
      "i am a ai tranier\n"
     ]
    }
   ],
   "source": [
    "def intro():\n",
    "    print('i am a ai tranier')\n",
    "def myself(arg):\n",
    "    def name():\n",
    "        print('my name is paramjeet')\n",
    "        arg()\n",
    "    return name\n",
    "ok= myself(intro)\n",
    "ok()"
   ]
  },
  {
   "cell_type": "markdown",
   "id": "8ae07040-8690-488d-853a-7927d789722c",
   "metadata": {},
   "source": [
    "## decorator :-\n",
    "           it is use to skip this ok= myself(intro) and ok() steps\n"
   ]
  },
  {
   "cell_type": "code",
   "execution_count": 70,
   "id": "99eabf7c-2195-45c6-920b-b23cb955c2cc",
   "metadata": {},
   "outputs": [],
   "source": [
    "def myself(arg):\n",
    "    def name():\n",
    "        print('my name is paramjeet')\n",
    "        arg()\n",
    "    return name\n"
   ]
  },
  {
   "cell_type": "code",
   "execution_count": 71,
   "id": "dfaa3cc3-aa2c-4959-bb73-1d17b27de9f4",
   "metadata": {},
   "outputs": [],
   "source": [
    "@myself\n",
    "def intro():\n",
    "    print('i am a ai tranier')"
   ]
  },
  {
   "cell_type": "code",
   "execution_count": 72,
   "id": "9650663c-9d1e-4949-b58c-8bbb4230ea76",
   "metadata": {},
   "outputs": [
    {
     "name": "stdout",
     "output_type": "stream",
     "text": [
      "my name is paramjeet\n",
      "i am a ai tranier\n"
     ]
    }
   ],
   "source": [
    "intro()"
   ]
  },
  {
   "cell_type": "markdown",
   "id": "f60489c8-c0aa-46fc-95bc-562d6512b499",
   "metadata": {},
   "source": [
    "## generator (yield):- Imp."
   ]
  },
  {
   "cell_type": "markdown",
   "id": "624f5324-9a63-4e42-a274-432b4d2ff6b1",
   "metadata": {},
   "source": [
    "## what Generator ?\n",
    "## Ans :- A Func. we contain yield keyword called generator"
   ]
  },
  {
   "cell_type": "code",
   "execution_count": 74,
   "id": "92f79373-ca50-431f-bd58-743ae7af50e0",
   "metadata": {},
   "outputs": [],
   "source": [
    "def self():\n",
    "    yield 1\n",
    "    yield 2\n",
    "    yield 3"
   ]
  },
  {
   "cell_type": "code",
   "execution_count": 84,
   "id": "e995e3f4-3983-4c95-b291-c0929ab41215",
   "metadata": {},
   "outputs": [],
   "source": [
    "b=self()"
   ]
  },
  {
   "cell_type": "code",
   "execution_count": 78,
   "id": "c8001b81-7faa-4677-9988-52c3e7eb1f93",
   "metadata": {},
   "outputs": [
    {
     "data": {
      "text/plain": [
       "1"
      ]
     },
     "execution_count": 78,
     "metadata": {},
     "output_type": "execute_result"
    }
   ],
   "source": [
    "next(a)"
   ]
  },
  {
   "cell_type": "code",
   "execution_count": 79,
   "id": "68ef786e-ac0e-470b-9e36-71c2be2b434e",
   "metadata": {},
   "outputs": [
    {
     "data": {
      "text/plain": [
       "2"
      ]
     },
     "execution_count": 79,
     "metadata": {},
     "output_type": "execute_result"
    }
   ],
   "source": [
    "next(b)"
   ]
  },
  {
   "cell_type": "code",
   "execution_count": 80,
   "id": "316d241b-076c-416d-956b-95751df91a69",
   "metadata": {},
   "outputs": [
    {
     "data": {
      "text/plain": [
       "3"
      ]
     },
     "execution_count": 80,
     "metadata": {},
     "output_type": "execute_result"
    }
   ],
   "source": [
    "next(b)"
   ]
  },
  {
   "cell_type": "code",
   "execution_count": 81,
   "id": "77f1a442-f4ab-4d9e-97a2-a9fbfbe547f0",
   "metadata": {},
   "outputs": [
    {
     "ename": "StopIteration",
     "evalue": "",
     "output_type": "error",
     "traceback": [
      "\u001b[1;31m---------------------------------------------------------------------------\u001b[0m",
      "\u001b[1;31mStopIteration\u001b[0m                             Traceback (most recent call last)",
      "Cell \u001b[1;32mIn[81], line 1\u001b[0m\n\u001b[1;32m----> 1\u001b[0m \u001b[38;5;28;43mnext\u001b[39;49m\u001b[43m(\u001b[49m\u001b[43ma\u001b[49m\u001b[43m)\u001b[49m\n",
      "\u001b[1;31mStopIteration\u001b[0m: "
     ]
    }
   ],
   "source": [
    "next(b)"
   ]
  },
  {
   "cell_type": "code",
   "execution_count": 87,
   "id": "3f2d6d40-dc1d-41d0-9fde-9978ff189130",
   "metadata": {},
   "outputs": [
    {
     "data": {
      "text/plain": [
       "3"
      ]
     },
     "execution_count": 87,
     "metadata": {},
     "output_type": "execute_result"
    }
   ],
   "source": [
    "b.__next__()"
   ]
  },
  {
   "cell_type": "markdown",
   "id": "8ab9727c",
   "metadata": {},
   "source": [
    "# lambda func. :-\n",
    "\n",
    "> It does not have name.\n",
    "\n",
    "> It have single statement or expression"
   ]
  },
  {
   "cell_type": "code",
   "execution_count": 2,
   "id": "6252728c",
   "metadata": {},
   "outputs": [],
   "source": [
    "def intro():\n",
    "    print('my name is suraj')"
   ]
  },
  {
   "cell_type": "code",
   "execution_count": 3,
   "id": "55ebc2c2",
   "metadata": {},
   "outputs": [
    {
     "name": "stdout",
     "output_type": "stream",
     "text": [
      "my name is suraj\n"
     ]
    }
   ],
   "source": [
    "intro()"
   ]
  },
  {
   "cell_type": "code",
   "execution_count": 6,
   "id": "baa90e3e",
   "metadata": {},
   "outputs": [],
   "source": [
    "x=lambda: print('my name is suraj')\n"
   ]
  },
  {
   "cell_type": "code",
   "execution_count": 8,
   "id": "9bcd7b9a",
   "metadata": {},
   "outputs": [
    {
     "name": "stdout",
     "output_type": "stream",
     "text": [
      "my name is suraj\n"
     ]
    }
   ],
   "source": [
    "x()"
   ]
  },
  {
   "cell_type": "markdown",
   "id": "bae904b1",
   "metadata": {},
   "source": [
    "### Note:- lambda is type of func. which is use to as comparihsion .the main motive of lambda is short the lenght of code."
   ]
  }
 ],
 "metadata": {
  "kernelspec": {
   "display_name": "Python 3 (ipykernel)",
   "language": "python",
   "name": "python3"
  },
  "language_info": {
   "codemirror_mode": {
    "name": "ipython",
    "version": 3
   },
   "file_extension": ".py",
   "mimetype": "text/x-python",
   "name": "python",
   "nbconvert_exporter": "python",
   "pygments_lexer": "ipython3",
   "version": "3.10.9"
  }
 },
 "nbformat": 4,
 "nbformat_minor": 5
}
