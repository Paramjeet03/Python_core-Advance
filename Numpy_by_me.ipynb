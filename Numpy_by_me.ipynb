{
 "cells": [
  {
   "cell_type": "markdown",
   "id": "54b87ed2-ad9b-4da9-ba0e-3bea13ce3690",
   "metadata": {},
   "source": [
    "# Numpy:-\n",
    "\n",
    "### 1.> It is a array-matrix module which develope by travis oliphant in c++.\n",
    "\n",
    "### 2.> It deals with unstructed data.\n",
    "\n",
    "### 3.> In python it come with warper which convert the code into c++.\n",
    "\n",
    "### 4.> In pandas , internally numpy is working.\n",
    "\n",
    "### 5.> Numpy is used to create (1d,2d,3d...)array.\n",
    "\n",
    "### 6.> Array is a data type which store simple data into a container."
   ]
  },
  {
   "cell_type": "code",
   "execution_count": 1,
   "id": "2215404b-e805-45f1-8b2f-623071007335",
   "metadata": {},
   "outputs": [
    {
     "name": "stdout",
     "output_type": "stream",
     "text": [
      "Requirement already satisfied: numpy in c:\\users\\paramjeet\\anaconda3\\lib\\site-packages (1.26.0)\n",
      "Note: you may need to restart the kernel to use updated packages.\n"
     ]
    }
   ],
   "source": [
    "pip install numpy"
   ]
  },
  {
   "cell_type": "code",
   "execution_count": 2,
   "id": "e43d4632-003b-489e-b6c5-f13bd62831bd",
   "metadata": {},
   "outputs": [],
   "source": [
    "import numpy as np"
   ]
  },
  {
   "cell_type": "code",
   "execution_count": 16,
   "id": "570822a3-ae31-4d9a-9bbf-0b6e7b9e9ba5",
   "metadata": {},
   "outputs": [
    {
     "data": {
      "text/plain": [
       "array([[0, 0, 0, 0, 0, 0, 0, 0, 0, 0],\n",
       "       [0, 0, 0, 0, 0, 0, 0, 0, 0, 0],\n",
       "       [0, 0, 0, 0, 0, 0, 0, 0, 0, 0],\n",
       "       [0, 0, 0, 0, 0, 0, 0, 0, 0, 0],\n",
       "       [0, 0, 0, 0, 0, 0, 0, 0, 0, 0],\n",
       "       [0, 0, 0, 0, 0, 0, 0, 0, 0, 0],\n",
       "       [0, 0, 0, 0, 0, 0, 0, 0, 0, 0],\n",
       "       [0, 0, 0, 0, 0, 0, 0, 0, 0, 0],\n",
       "       [0, 0, 0, 0, 0, 0, 0, 0, 0, 0],\n",
       "       [0, 0, 0, 0, 0, 0, 0, 0, 0, 0]])"
      ]
     },
     "execution_count": 16,
     "metadata": {},
     "output_type": "execute_result"
    }
   ],
   "source": [
    "np.zeros((10,10),dtype=np.int_)"
   ]
  },
  {
   "cell_type": "code",
   "execution_count": 17,
   "id": "e12b886f-6d1f-48b6-a129-4b1b66a79528",
   "metadata": {},
   "outputs": [
    {
     "data": {
      "text/plain": [
       "array([[1, 1, 1, 1, 1, 1, 1, 1, 1, 1],\n",
       "       [1, 1, 1, 1, 1, 1, 1, 1, 1, 1],\n",
       "       [1, 1, 1, 1, 1, 1, 1, 1, 1, 1],\n",
       "       [1, 1, 1, 1, 1, 1, 1, 1, 1, 1],\n",
       "       [1, 1, 1, 1, 1, 1, 1, 1, 1, 1],\n",
       "       [1, 1, 1, 1, 1, 1, 1, 1, 1, 1],\n",
       "       [1, 1, 1, 1, 1, 1, 1, 1, 1, 1],\n",
       "       [1, 1, 1, 1, 1, 1, 1, 1, 1, 1],\n",
       "       [1, 1, 1, 1, 1, 1, 1, 1, 1, 1],\n",
       "       [1, 1, 1, 1, 1, 1, 1, 1, 1, 1]])"
      ]
     },
     "execution_count": 17,
     "metadata": {},
     "output_type": "execute_result"
    }
   ],
   "source": [
    "np.ones((10,10),dtype=np.int_)"
   ]
  },
  {
   "cell_type": "code",
   "execution_count": 18,
   "id": "53bac08f-e017-432e-98cd-bd4b69e897d7",
   "metadata": {},
   "outputs": [],
   "source": [
    "a=[1,2,3,4,5,6,7]"
   ]
  },
  {
   "cell_type": "code",
   "execution_count": 26,
   "id": "df505bce-f08b-4daf-b51c-5473e8c4e9db",
   "metadata": {},
   "outputs": [
    {
     "name": "stdout",
     "output_type": "stream",
     "text": [
      "[1 2 3 4 5 6 7] dimension:---> 1\n"
     ]
    }
   ],
   "source": [
    "b=np.array(a)\n",
    "print(b,'dimension:--->',b.ndim)"
   ]
  },
  {
   "cell_type": "code",
   "execution_count": 31,
   "id": "769f1127-1413-4ff1-8ef4-094f52708d32",
   "metadata": {},
   "outputs": [
    {
     "name": "stdout",
     "output_type": "stream",
     "text": [
      "[[1 2 3 4 5 6 7]\n",
      " [1 2 3 4 5 6 7]] dimension:---> 2\n"
     ]
    }
   ],
   "source": [
    "c=np.array([[1,2,3,4,5,6,7],[1,2,3,4,5,6,7]])\n",
    "print(c,'dimension:--->',c.ndim)"
   ]
  },
  {
   "cell_type": "code",
   "execution_count": 35,
   "id": "024ea24e-be49-4a93-98ac-9052859b9150",
   "metadata": {},
   "outputs": [
    {
     "data": {
      "text/plain": [
       "array([[10, 10, 10, 10, 10],\n",
       "       [10, 10, 10, 10, 10],\n",
       "       [10, 10, 10, 10, 10],\n",
       "       [10, 10, 10, 10, 10]])"
      ]
     },
     "execution_count": 35,
     "metadata": {},
     "output_type": "execute_result"
    }
   ],
   "source": [
    "np.full((4,5),10,dtype=np.int_)"
   ]
  },
  {
   "cell_type": "code",
   "execution_count": 40,
   "id": "63aa2d58-7f8a-4d9f-b0f3-482339ae54b8",
   "metadata": {},
   "outputs": [
    {
     "name": "stdout",
     "output_type": "stream",
     "text": [
      "[[ 1  2  3  4  5  6  7]\n",
      " [10  0 20  5  5 30 80]] dimension:---> 2\n"
     ]
    }
   ],
   "source": [
    "c=np.array([[1,2,3,4,5,6,7],[10,0,20,5,5,30,80]],order='F')\n",
    "print(c,'dimension:--->',c.ndim)"
   ]
  },
  {
   "cell_type": "code",
   "execution_count": 46,
   "id": "b90d4352-b13b-41bb-9cd1-bb45244559f8",
   "metadata": {},
   "outputs": [
    {
     "data": {
      "text/plain": [
       "array([[52, 69, 55],\n",
       "       [48, 25, 15],\n",
       "       [32, 89, 93],\n",
       "       [79, 76, 23],\n",
       "       [62, 57, 94],\n",
       "       [91, 61, 58],\n",
       "       [73, 61, 32],\n",
       "       [87, 37, 41],\n",
       "       [92, 32, 99],\n",
       "       [45, 79, 98]])"
      ]
     },
     "execution_count": 46,
     "metadata": {},
     "output_type": "execute_result"
    }
   ],
   "source": [
    "x=np.random.randint(10,100,(10,3),np.int_)\n",
    "x"
   ]
  },
  {
   "cell_type": "code",
   "execution_count": 55,
   "id": "4d7f4e4a-3516-488b-acd6-ad4d3019ba4a",
   "metadata": {},
   "outputs": [
    {
     "data": {
      "text/plain": [
       "array([[52, 69],\n",
       "       [55, 48],\n",
       "       [25, 15],\n",
       "       [32, 89],\n",
       "       [93, 79],\n",
       "       [76, 23],\n",
       "       [62, 57],\n",
       "       [94, 91],\n",
       "       [61, 58],\n",
       "       [73, 61],\n",
       "       [32, 87],\n",
       "       [37, 41],\n",
       "       [92, 32],\n",
       "       [99, 45],\n",
       "       [79, 98]])"
      ]
     },
     "execution_count": 55,
     "metadata": {},
     "output_type": "execute_result"
    }
   ],
   "source": [
    "c=np.reshape(x,(15,2),order='c')\n",
    "c"
   ]
  },
  {
   "cell_type": "code",
   "execution_count": 68,
   "id": "23ae54c9-2799-4d0d-9ed3-c950b2d26562",
   "metadata": {},
   "outputs": [
    {
     "data": {
      "text/plain": [
       "array([[52, 61],\n",
       "       [48, 61],\n",
       "       [32, 37],\n",
       "       [79, 32],\n",
       "       [62, 79],\n",
       "       [91, 55],\n",
       "       [73, 15],\n",
       "       [87, 93],\n",
       "       [92, 23],\n",
       "       [45, 94],\n",
       "       [69, 58],\n",
       "       [25, 32],\n",
       "       [89, 41],\n",
       "       [76, 99],\n",
       "       [57, 98]])"
      ]
     },
     "execution_count": 68,
     "metadata": {},
     "output_type": "execute_result"
    }
   ],
   "source": [
    "d=np.reshape(x,(15,2),order='f')\n",
    "d"
   ]
  },
  {
   "cell_type": "code",
   "execution_count": 69,
   "id": "ca946cfa-b123-4a65-9c32-83774066ffa0",
   "metadata": {},
   "outputs": [
    {
     "data": {
      "text/plain": [
       "array([ 100.,  200.,  300.,  400.,  500.,  600.,  700.,  800.,  900.,\n",
       "       1000.])"
      ]
     },
     "execution_count": 69,
     "metadata": {},
     "output_type": "execute_result"
    }
   ],
   "source": [
    "np.linspace(100,1000,10)"
   ]
  },
  {
   "cell_type": "code",
   "execution_count": 70,
   "id": "5d58abc6-74e7-467d-82c9-b224ea755199",
   "metadata": {},
   "outputs": [
    {
     "data": {
      "text/plain": [
       "array([[52, 69],\n",
       "       [55, 48],\n",
       "       [25, 15],\n",
       "       [32, 89],\n",
       "       [93, 79],\n",
       "       [76, 23],\n",
       "       [62, 57],\n",
       "       [94, 91],\n",
       "       [61, 58],\n",
       "       [73, 61],\n",
       "       [32, 87],\n",
       "       [37, 41],\n",
       "       [92, 32],\n",
       "       [99, 45],\n",
       "       [79, 98]])"
      ]
     },
     "execution_count": 70,
     "metadata": {},
     "output_type": "execute_result"
    }
   ],
   "source": [
    "c"
   ]
  },
  {
   "cell_type": "code",
   "execution_count": 71,
   "id": "2fa96041-91c4-4380-91ad-651c58ffb1b5",
   "metadata": {},
   "outputs": [
    {
     "data": {
      "text/plain": [
       "array([[52, 61],\n",
       "       [48, 61],\n",
       "       [32, 37],\n",
       "       [79, 32],\n",
       "       [62, 79],\n",
       "       [91, 55],\n",
       "       [73, 15],\n",
       "       [87, 93],\n",
       "       [92, 23],\n",
       "       [45, 94],\n",
       "       [69, 58],\n",
       "       [25, 32],\n",
       "       [89, 41],\n",
       "       [76, 99],\n",
       "       [57, 98]])"
      ]
     },
     "execution_count": 71,
     "metadata": {},
     "output_type": "execute_result"
    }
   ],
   "source": [
    "d"
   ]
  },
  {
   "cell_type": "code",
   "execution_count": 87,
   "id": "7b6b5ad9-8beb-4bb4-ba0f-82c5cdc05b27",
   "metadata": {},
   "outputs": [
    {
     "name": "stdout",
     "output_type": "stream",
     "text": [
      "[[ 2  0]\n",
      " [52  8]]\n"
     ]
    }
   ],
   "source": [
    "a=np.array([[2,0],[52,8]])\n",
    "b=np.array([[20,0],[52,80]])\n",
    "print(a)  "
   ]
  },
  {
   "cell_type": "code",
   "execution_count": 88,
   "id": "34a4ee41-671a-4fbe-b2b6-4f923f0a52e4",
   "metadata": {},
   "outputs": [
    {
     "data": {
      "text/plain": [
       "array([[20,  0],\n",
       "       [52, 80]])"
      ]
     },
     "execution_count": 88,
     "metadata": {},
     "output_type": "execute_result"
    }
   ],
   "source": [
    "b"
   ]
  },
  {
   "cell_type": "code",
   "execution_count": 89,
   "id": "318ee68b-464f-4961-9a3c-4ff147ec3c7e",
   "metadata": {},
   "outputs": [
    {
     "data": {
      "text/plain": [
       "array([[  40,    0],\n",
       "       [1456,  640]])"
      ]
     },
     "execution_count": 89,
     "metadata": {},
     "output_type": "execute_result"
    }
   ],
   "source": [
    "a.dot(b)"
   ]
  },
  {
   "cell_type": "code",
   "execution_count": 92,
   "id": "c313a7e3-5201-4372-8e1c-5fa711120655",
   "metadata": {},
   "outputs": [
    {
     "data": {
      "text/plain": [
       "array([[ 2,  0, 20,  0],\n",
       "       [52,  8, 52, 80]])"
      ]
     },
     "execution_count": 92,
     "metadata": {},
     "output_type": "execute_result"
    }
   ],
   "source": [
    "np.hstack((a,b))\n"
   ]
  },
  {
   "cell_type": "code",
   "execution_count": 93,
   "id": "84dd95aa-076c-4c32-ad8e-3e4dbcc5cdbd",
   "metadata": {},
   "outputs": [
    {
     "data": {
      "text/plain": [
       "array([[ 2,  0],\n",
       "       [52,  8],\n",
       "       [20,  0],\n",
       "       [52, 80]])"
      ]
     },
     "execution_count": 93,
     "metadata": {},
     "output_type": "execute_result"
    }
   ],
   "source": [
    "np.vstack((a,b))\n"
   ]
  },
  {
   "cell_type": "code",
   "execution_count": 94,
   "id": "c85d0238-5398-4855-b131-9797cefa0bd2",
   "metadata": {},
   "outputs": [
    {
     "data": {
      "text/plain": [
       "array([[ 2,  0],\n",
       "       [52,  8]])"
      ]
     },
     "execution_count": 94,
     "metadata": {},
     "output_type": "execute_result"
    }
   ],
   "source": [
    "a"
   ]
  },
  {
   "cell_type": "code",
   "execution_count": 97,
   "id": "bddc30c5-3d0b-4911-9ea8-853dd757f6de",
   "metadata": {},
   "outputs": [
    {
     "data": {
      "text/plain": [
       "array([[ 2, 52],\n",
       "       [ 0,  8]])"
      ]
     },
     "execution_count": 97,
     "metadata": {},
     "output_type": "execute_result"
    }
   ],
   "source": [
    "a.transpose()"
   ]
  },
  {
   "cell_type": "code",
   "execution_count": 98,
   "id": "1168a417-45c3-4148-902e-a7d419266213",
   "metadata": {},
   "outputs": [
    {
     "data": {
      "text/plain": [
       "array([[ 2, 52],\n",
       "       [ 0,  8]])"
      ]
     },
     "execution_count": 98,
     "metadata": {},
     "output_type": "execute_result"
    }
   ],
   "source": [
    "a.T"
   ]
  },
  {
   "cell_type": "code",
   "execution_count": null,
   "id": "52e3c345-851c-4d54-9f1b-bb19cc7f774c",
   "metadata": {},
   "outputs": [],
   "source": []
  }
 ],
 "metadata": {
  "kernelspec": {
   "display_name": "Python 3 (ipykernel)",
   "language": "python",
   "name": "python3"
  },
  "language_info": {
   "codemirror_mode": {
    "name": "ipython",
    "version": 3
   },
   "file_extension": ".py",
   "mimetype": "text/x-python",
   "name": "python",
   "nbconvert_exporter": "python",
   "pygments_lexer": "ipython3",
   "version": "3.10.9"
  }
 },
 "nbformat": 4,
 "nbformat_minor": 5
}
