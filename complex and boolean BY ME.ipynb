{
 "cells": [
  {
   "cell_type": "markdown",
   "id": "0248b526-3d1a-4657-a5c1-38325a90ec3e",
   "metadata": {},
   "source": [
    "COMPLEX:-\n",
    "\n",
    ">COMPLEX CONSTRUCTOR IS complex().\n",
    "\n",
    ">COMPLEX LITERAL IS 0j.\n",
    "\n",
    ">MATHMATICAL EXPRESSION OF COMPLEX IS a+0j."
   ]
  },
  {
   "cell_type": "code",
   "execution_count": 7,
   "id": "95db84b3-3177-4382-8050-85db7c42bdd2",
   "metadata": {},
   "outputs": [
    {
     "data": {
      "text/plain": [
       "(complex, 0j)"
      ]
     },
     "execution_count": 7,
     "metadata": {},
     "output_type": "execute_result"
    }
   ],
   "source": [
    "a=complex()\n",
    "type(a),a"
   ]
  },
  {
   "cell_type": "code",
   "execution_count": 9,
   "id": "c2f7e1a8-ee0f-490f-a8dd-c0942ec4a362",
   "metadata": {},
   "outputs": [
    {
     "data": {
      "text/plain": [
       "(complex, 0j)"
      ]
     },
     "execution_count": 9,
     "metadata": {},
     "output_type": "execute_result"
    }
   ],
   "source": [
    "a=0j\n",
    "type(a),a"
   ]
  },
  {
   "cell_type": "code",
   "execution_count": 13,
   "id": "18b9a16d-2d05-4d22-b783-2ad64604ed68",
   "metadata": {},
   "outputs": [
    {
     "data": {
      "text/plain": [
       "(2+4j)"
      ]
     },
     "execution_count": 13,
     "metadata": {},
     "output_type": "execute_result"
    }
   ],
   "source": [
    "complex(2,4) #it support only 2 arrgument. 1st one is use for a and 2nd one is use for j."
   ]
  },
  {
   "cell_type": "code",
   "execution_count": 14,
   "id": "aa51982f-4435-486b-ba75-cd3616ceef63",
   "metadata": {},
   "outputs": [
    {
     "ename": "TypeError",
     "evalue": "complex() takes at most 2 arguments (3 given)",
     "output_type": "error",
     "traceback": [
      "\u001b[1;31m---------------------------------------------------------------------------\u001b[0m",
      "\u001b[1;31mTypeError\u001b[0m                                 Traceback (most recent call last)",
      "Cell \u001b[1;32mIn[14], line 1\u001b[0m\n\u001b[1;32m----> 1\u001b[0m \u001b[38;5;28;43mcomplex\u001b[39;49m\u001b[43m(\u001b[49m\u001b[38;5;241;43m2\u001b[39;49m\u001b[43m,\u001b[49m\u001b[38;5;241;43m4\u001b[39;49m\u001b[43m,\u001b[49m\u001b[38;5;241;43m1\u001b[39;49m\u001b[43m)\u001b[49m\n",
      "\u001b[1;31mTypeError\u001b[0m: complex() takes at most 2 arguments (3 given)"
     ]
    }
   ],
   "source": [
    "complex(2,4,1)"
   ]
  },
  {
   "cell_type": "markdown",
   "id": "9de831b9-b4cd-4d70-bb87-550b3d823f94",
   "metadata": {},
   "source": [
    "NOTE:-\n",
    "     IT SUPPORT ARTHMETIC OPERATION. FOR EXAMPLE:-"
   ]
  },
  {
   "cell_type": "code",
   "execution_count": 16,
   "id": "378fff98-c9b0-4a68-b7a1-cc396307ad1a",
   "metadata": {},
   "outputs": [],
   "source": [
    "A=2+4J"
   ]
  },
  {
   "cell_type": "code",
   "execution_count": 17,
   "id": "c459306d-1ce2-4bc8-a64c-4aa3d9cdab5b",
   "metadata": {},
   "outputs": [],
   "source": [
    "B=6+2J"
   ]
  },
  {
   "cell_type": "code",
   "execution_count": 18,
   "id": "e4ec2844-36b5-482e-8ee7-c3e050293ef5",
   "metadata": {},
   "outputs": [
    {
     "data": {
      "text/plain": [
       "(8+6j)"
      ]
     },
     "execution_count": 18,
     "metadata": {},
     "output_type": "execute_result"
    }
   ],
   "source": [
    "A+B"
   ]
  },
  {
   "cell_type": "code",
   "execution_count": 19,
   "id": "d064ad62-9f2f-428e-820f-74a9b3d8fb86",
   "metadata": {},
   "outputs": [
    {
     "data": {
      "text/plain": [
       "(-4+2j)"
      ]
     },
     "execution_count": 19,
     "metadata": {},
     "output_type": "execute_result"
    }
   ],
   "source": [
    "A-B"
   ]
  },
  {
   "cell_type": "code",
   "execution_count": 20,
   "id": "3a3cd2b1-b60c-4f5e-b808-e1e0ee9fd105",
   "metadata": {},
   "outputs": [
    {
     "data": {
      "text/plain": [
       "(4+28j)"
      ]
     },
     "execution_count": 20,
     "metadata": {},
     "output_type": "execute_result"
    }
   ],
   "source": [
    "A*B"
   ]
  },
  {
   "cell_type": "code",
   "execution_count": 23,
   "id": "f7de47e5-1a6c-40d1-9315-d2e50fdc8f32",
   "metadata": {},
   "outputs": [
    {
     "data": {
      "text/plain": [
       "(0.49999999999999994+0.5j)"
      ]
     },
     "execution_count": 23,
     "metadata": {},
     "output_type": "execute_result"
    }
   ],
   "source": [
    "A/B"
   ]
  },
  {
   "cell_type": "code",
   "execution_count": null,
   "id": "3290edc0-6dde-4d05-8808-1d2e77f86dbe",
   "metadata": {},
   "outputs": [],
   "source": [
    "NOTE:- IT USE FOR RESEARCH AND MAKING A PROGRAMMING LANGAUAGE OR IT USE FOR DIRECTLY COMMUNCATE WITH MACHINE."
   ]
  },
  {
   "cell_type": "markdown",
   "id": "1f5d2aab-f16f-41d8-bae1-06d741d78f8b",
   "metadata": {},
   "source": [
    "BOOLEAN:-\n",
    "\n",
    "> BOOLEAN CONSTRUCTOR IS bool().\n",
    "\n",
    "> BOOLEAN LITERAL IS False."
   ]
  },
  {
   "cell_type": "code",
   "execution_count": 27,
   "id": "43e0b7c2-a2c9-4c27-b9f8-6a8481af6061",
   "metadata": {},
   "outputs": [],
   "source": [
    "a=bool()"
   ]
  },
  {
   "cell_type": "code",
   "execution_count": 29,
   "id": "487c5bcf-908c-45e7-b38d-1e00ce22a80a",
   "metadata": {},
   "outputs": [
    {
     "name": "stdout",
     "output_type": "stream",
     "text": [
      "<class 'bool'> False\n"
     ]
    }
   ],
   "source": [
    "print(type(a),a)"
   ]
  },
  {
   "cell_type": "code",
   "execution_count": 33,
   "id": "63aca0d8-4ec1-4ab3-8ac8-75ffc342ce3b",
   "metadata": {},
   "outputs": [
    {
     "name": "stdout",
     "output_type": "stream",
     "text": [
      "<class 'bool'> False\n"
     ]
    }
   ],
   "source": [
    "b=False\n",
    "print(type(b),b)"
   ]
  },
  {
   "cell_type": "code",
   "execution_count": 47,
   "id": "1400c7a0-e953-4f62-842d-7ec66e31e7cf",
   "metadata": {},
   "outputs": [
    {
     "data": {
      "text/plain": [
       "True"
      ]
     },
     "execution_count": 47,
     "metadata": {},
     "output_type": "execute_result"
    }
   ],
   "source": [
    "bool(234) # none(EMPTY) bool show false result and some data having bool show true ."
   ]
  },
  {
   "cell_type": "markdown",
   "id": "d2609446-5fef-427b-abd3-a2016210f30c",
   "metadata": {},
   "source": [
    "NOTE:-\n",
    "\n",
    "GIVE CONDITION IN WHICH BOOL SHOW FALSE"
   ]
  },
  {
   "cell_type": "markdown",
   "id": "84f88895-cbfd-46c3-a2d6-fded77117f84",
   "metadata": {},
   "source": [
    "BY CONSTRUCTOR:-"
   ]
  },
  {
   "cell_type": "code",
   "execution_count": 75,
   "id": "8a51b31f-605a-4c7a-9b0d-f0d819759541",
   "metadata": {},
   "outputs": [
    {
     "data": {
      "text/plain": [
       "False"
      ]
     },
     "execution_count": 75,
     "metadata": {},
     "output_type": "execute_result"
    }
   ],
   "source": [
    "bool(int())"
   ]
  },
  {
   "cell_type": "code",
   "execution_count": 76,
   "id": "6b46f53c-f40e-41f8-9800-5e67fb7ad00b",
   "metadata": {},
   "outputs": [
    {
     "data": {
      "text/plain": [
       "False"
      ]
     },
     "execution_count": 76,
     "metadata": {},
     "output_type": "execute_result"
    }
   ],
   "source": [
    "bool(float())"
   ]
  },
  {
   "cell_type": "code",
   "execution_count": 77,
   "id": "996a6b60-f72c-4b0b-9209-10bc2d179323",
   "metadata": {},
   "outputs": [
    {
     "data": {
      "text/plain": [
       "False"
      ]
     },
     "execution_count": 77,
     "metadata": {},
     "output_type": "execute_result"
    }
   ],
   "source": [
    "bool(str())"
   ]
  },
  {
   "cell_type": "code",
   "execution_count": 78,
   "id": "695a3b3f-8d2d-413f-9772-747be87ee7dc",
   "metadata": {},
   "outputs": [
    {
     "data": {
      "text/plain": [
       "False"
      ]
     },
     "execution_count": 78,
     "metadata": {},
     "output_type": "execute_result"
    }
   ],
   "source": [
    "bool(list())"
   ]
  },
  {
   "cell_type": "code",
   "execution_count": 79,
   "id": "c4b48962-89fc-4040-b35b-bff7a5a321a6",
   "metadata": {},
   "outputs": [
    {
     "data": {
      "text/plain": [
       "False"
      ]
     },
     "execution_count": 79,
     "metadata": {},
     "output_type": "execute_result"
    }
   ],
   "source": [
    "bool(tuple())"
   ]
  },
  {
   "cell_type": "code",
   "execution_count": 80,
   "id": "0c2225fb-a314-4f5f-bfad-baa8b3e3b13f",
   "metadata": {},
   "outputs": [
    {
     "data": {
      "text/plain": [
       "False"
      ]
     },
     "execution_count": 80,
     "metadata": {},
     "output_type": "execute_result"
    }
   ],
   "source": [
    "bool(set())"
   ]
  },
  {
   "cell_type": "code",
   "execution_count": 81,
   "id": "b0ac6f4d-994f-4481-b84e-91db725722f5",
   "metadata": {},
   "outputs": [
    {
     "data": {
      "text/plain": [
       "False"
      ]
     },
     "execution_count": 81,
     "metadata": {},
     "output_type": "execute_result"
    }
   ],
   "source": [
    "bool(frozenset())"
   ]
  },
  {
   "cell_type": "code",
   "execution_count": 82,
   "id": "98755650-d268-4521-b41c-9013378a2d51",
   "metadata": {},
   "outputs": [
    {
     "data": {
      "text/plain": [
       "False"
      ]
     },
     "execution_count": 82,
     "metadata": {},
     "output_type": "execute_result"
    }
   ],
   "source": [
    "bool(dict())"
   ]
  },
  {
   "cell_type": "code",
   "execution_count": 83,
   "id": "44a38083-dde0-4a25-9f75-664a8c25d9e9",
   "metadata": {},
   "outputs": [
    {
     "data": {
      "text/plain": [
       "False"
      ]
     },
     "execution_count": 83,
     "metadata": {},
     "output_type": "execute_result"
    }
   ],
   "source": [
    "bool(complex())"
   ]
  },
  {
   "cell_type": "code",
   "execution_count": 84,
   "id": "5b5b6620-5047-4c34-a652-f8758c127091",
   "metadata": {},
   "outputs": [
    {
     "data": {
      "text/plain": [
       "False"
      ]
     },
     "execution_count": 84,
     "metadata": {},
     "output_type": "execute_result"
    }
   ],
   "source": [
    "bool(bool())"
   ]
  },
  {
   "cell_type": "markdown",
   "id": "f1c93d27-68ac-4201-aa4f-1b261a2bb542",
   "metadata": {},
   "source": [
    "By Literal:-"
   ]
  },
  {
   "cell_type": "code",
   "execution_count": 85,
   "id": "f80259f0-bbd0-46e2-8edb-c278ee34de8f",
   "metadata": {},
   "outputs": [
    {
     "data": {
      "text/plain": [
       "False"
      ]
     },
     "execution_count": 85,
     "metadata": {},
     "output_type": "execute_result"
    }
   ],
   "source": [
    "bool(0)"
   ]
  },
  {
   "cell_type": "code",
   "execution_count": 86,
   "id": "bbccd798-812b-4c46-94b7-3d26e42c98d5",
   "metadata": {},
   "outputs": [
    {
     "data": {
      "text/plain": [
       "False"
      ]
     },
     "execution_count": 86,
     "metadata": {},
     "output_type": "execute_result"
    }
   ],
   "source": [
    "bool(0.0)"
   ]
  },
  {
   "cell_type": "code",
   "execution_count": 87,
   "id": "938a6e9e-e8d7-45fa-a6ee-b485b705086f",
   "metadata": {},
   "outputs": [
    {
     "data": {
      "text/plain": [
       "False"
      ]
     },
     "execution_count": 87,
     "metadata": {},
     "output_type": "execute_result"
    }
   ],
   "source": [
    "bool('')"
   ]
  },
  {
   "cell_type": "code",
   "execution_count": 88,
   "id": "287f2190-211e-4fb5-a9da-6b64cd7012c7",
   "metadata": {},
   "outputs": [
    {
     "data": {
      "text/plain": [
       "False"
      ]
     },
     "execution_count": 88,
     "metadata": {},
     "output_type": "execute_result"
    }
   ],
   "source": [
    "bool(\"\")"
   ]
  },
  {
   "cell_type": "code",
   "execution_count": 89,
   "id": "eb1987c0-ffe4-4d67-b00a-76033c47e953",
   "metadata": {},
   "outputs": [
    {
     "data": {
      "text/plain": [
       "False"
      ]
     },
     "execution_count": 89,
     "metadata": {},
     "output_type": "execute_result"
    }
   ],
   "source": [
    "bool('''''')"
   ]
  },
  {
   "cell_type": "code",
   "execution_count": 90,
   "id": "ccb5e0e3-c251-4f1e-b550-370cee087eac",
   "metadata": {},
   "outputs": [
    {
     "data": {
      "text/plain": [
       "False"
      ]
     },
     "execution_count": 90,
     "metadata": {},
     "output_type": "execute_result"
    }
   ],
   "source": [
    "bool(\"\"\"\"\"\")"
   ]
  },
  {
   "cell_type": "code",
   "execution_count": 91,
   "id": "f98b6228-d854-4412-ace9-ca355aaed837",
   "metadata": {},
   "outputs": [
    {
     "data": {
      "text/plain": [
       "False"
      ]
     },
     "execution_count": 91,
     "metadata": {},
     "output_type": "execute_result"
    }
   ],
   "source": [
    "bool([])"
   ]
  },
  {
   "cell_type": "code",
   "execution_count": 100,
   "id": "24901ff1-dae4-4d11-83f1-650851bc526f",
   "metadata": {},
   "outputs": [
    {
     "data": {
      "text/plain": [
       "False"
      ]
     },
     "execution_count": 100,
     "metadata": {},
     "output_type": "execute_result"
    }
   ],
   "source": [
    "bool(())"
   ]
  },
  {
   "cell_type": "code",
   "execution_count": 103,
   "id": "fd165495-10b3-4407-a61d-4211404feb6e",
   "metadata": {},
   "outputs": [
    {
     "data": {
      "text/plain": [
       "False"
      ]
     },
     "execution_count": 103,
     "metadata": {},
     "output_type": "execute_result"
    }
   ],
   "source": [
    "bool({})"
   ]
  },
  {
   "cell_type": "code",
   "execution_count": 104,
   "id": "9b72b5e0-7318-4fe3-a467-953b17b53141",
   "metadata": {},
   "outputs": [
    {
     "data": {
      "text/plain": [
       "False"
      ]
     },
     "execution_count": 104,
     "metadata": {},
     "output_type": "execute_result"
    }
   ],
   "source": [
    "bool(0j)"
   ]
  },
  {
   "cell_type": "code",
   "execution_count": 105,
   "id": "97dc4b33-77f6-4c83-89c5-72739c2e0886",
   "metadata": {},
   "outputs": [
    {
     "data": {
      "text/plain": [
       "False"
      ]
     },
     "execution_count": 105,
     "metadata": {},
     "output_type": "execute_result"
    }
   ],
   "source": [
    "bool(False)"
   ]
  },
  {
   "cell_type": "code",
   "execution_count": 106,
   "id": "6ddeaf4d-1dcf-434d-9e80-5bc8bebe7771",
   "metadata": {},
   "outputs": [
    {
     "data": {
      "text/plain": [
       "False"
      ]
     },
     "execution_count": 106,
     "metadata": {},
     "output_type": "execute_result"
    }
   ],
   "source": [
    "bool()"
   ]
  },
  {
   "cell_type": "code",
   "execution_count": 107,
   "id": "fdbf9fd9-06a6-4cd2-98f0-6057a58b2334",
   "metadata": {},
   "outputs": [
    {
     "data": {
      "text/plain": [
       "False"
      ]
     },
     "execution_count": 107,
     "metadata": {},
     "output_type": "execute_result"
    }
   ],
   "source": [
    "bool()"
   ]
  },
  {
   "cell_type": "markdown",
   "id": "26343edb-2002-4bbf-8607-b0066614acf0",
   "metadata": {},
   "source": [
    "some other condition :-"
   ]
  },
  {
   "cell_type": "code",
   "execution_count": 111,
   "id": "7240a023-2e1f-4e96-8314-d18a0b9bcf27",
   "metadata": {},
   "outputs": [
    {
     "ename": "TypeError",
     "evalue": "unhashable type: 'dict'",
     "output_type": "error",
     "traceback": [
      "\u001b[1;31m---------------------------------------------------------------------------\u001b[0m",
      "\u001b[1;31mTypeError\u001b[0m                                 Traceback (most recent call last)",
      "Cell \u001b[1;32mIn[111], line 1\u001b[0m\n\u001b[1;32m----> 1\u001b[0m \u001b[38;5;28mbool\u001b[39m({{}})\n",
      "\u001b[1;31mTypeError\u001b[0m: unhashable type: 'dict'"
     ]
    }
   ],
   "source": [
    "bool({{}}) # because list is a mutable datatype.and dict not support it."
   ]
  },
  {
   "cell_type": "code",
   "execution_count": 115,
   "id": "783be15a-f3f8-41c7-b1e8-63c7c68bbfcf",
   "metadata": {},
   "outputs": [
    {
     "ename": "NameError",
     "evalue": "name 'krishna' is not defined",
     "output_type": "error",
     "traceback": [
      "\u001b[1;31m---------------------------------------------------------------------------\u001b[0m",
      "\u001b[1;31mNameError\u001b[0m                                 Traceback (most recent call last)",
      "Cell \u001b[1;32mIn[115], line 1\u001b[0m\n\u001b[1;32m----> 1\u001b[0m \u001b[38;5;28mbool\u001b[39m({\u001b[43mkrishna\u001b[49m})\n",
      "\u001b[1;31mNameError\u001b[0m: name 'krishna' is not defined"
     ]
    }
   ],
   "source": [
    "bool({krishna}) # because krishna are not defined by programmer."
   ]
  },
  {
   "cell_type": "code",
   "execution_count": 117,
   "id": "08fd9c98-943d-4152-90dc-f88bdbd6179b",
   "metadata": {},
   "outputs": [
    {
     "data": {
      "text/plain": [
       "True"
      ]
     },
     "execution_count": 117,
     "metadata": {},
     "output_type": "execute_result"
    }
   ],
   "source": [
    "bool({\"krishna\"})"
   ]
  },
  {
   "cell_type": "code",
   "execution_count": null,
   "id": "bdda28bc-85e2-4d19-b3ee-4fb214c41a31",
   "metadata": {},
   "outputs": [],
   "source": []
  }
 ],
 "metadata": {
  "kernelspec": {
   "display_name": "Python 3 (ipykernel)",
   "language": "python",
   "name": "python3"
  },
  "language_info": {
   "codemirror_mode": {
    "name": "ipython",
    "version": 3
   },
   "file_extension": ".py",
   "mimetype": "text/x-python",
   "name": "python",
   "nbconvert_exporter": "python",
   "pygments_lexer": "ipython3",
   "version": "3.10.9"
  }
 },
 "nbformat": 4,
 "nbformat_minor": 5
}
