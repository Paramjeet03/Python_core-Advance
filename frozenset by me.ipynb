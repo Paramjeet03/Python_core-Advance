{
 "cells": [
  {
   "cell_type": "markdown",
   "id": "e436f20d-8a35-4e71-9cb5-e6d24b43197e",
   "metadata": {},
   "source": [
    "# Frozenset:-\n",
    "\n",
    "> frozenset constructure is set().\n",
    "\n",
    "> frozenset literal is not available.\n",
    "\n",
    "> frozenset is a unordered set of sequance of element.\n",
    "\n",
    "> frozenset does not support indexing. \n",
    "\n",
    "> frozenset does not support silicing. \n",
    "\n",
    "> frozenset does not support concatination.\n",
    "\n",
    "> frozenset not support duplicate value.\n",
    "\n",
    "> frozenset removes duplicate value using hashing table and store id.\n",
    "\n",
    "> frozenset is immutable data type.\n",
    "\n",
    "> frozenset support only immutable data type.\n",
    "\n",
    "> frozenset support nested set\n",
    "\n",
    "> frozenset method.\n"
   ]
  },
  {
   "cell_type": "code",
   "execution_count": 3,
   "id": "0d49c255-85f6-4290-9461-59d5c580f3dc",
   "metadata": {},
   "outputs": [
    {
     "name": "stdout",
     "output_type": "stream",
     "text": [
      "<class 'frozenset'> frozenset()\n"
     ]
    },
    {
     "data": {
      "text/plain": [
       "0"
      ]
     },
     "execution_count": 3,
     "metadata": {},
     "output_type": "execute_result"
    }
   ],
   "source": [
    "a=frozenset()\n",
    "print(type(a),a)\n",
    "len(a)"
   ]
  },
  {
   "cell_type": "code",
   "execution_count": 6,
   "id": "39f064b6-5bfa-4e1a-a9ae-0a7bb639e8b7",
   "metadata": {},
   "outputs": [
    {
     "data": {
      "text/plain": [
       "frozenset({1, 2, 3, 4, 5, 6, 55, 555})"
      ]
     },
     "execution_count": 6,
     "metadata": {},
     "output_type": "execute_result"
    }
   ],
   "source": [
    "a=frozenset({1,2,3,4,5,555,555,555,55,55,5,5,6,6}) #frozenset not support duplicate value.\n",
    "a"
   ]
  },
  {
   "cell_type": "code",
   "execution_count": 8,
   "id": "de5d7a06-872b-435c-8e43-81dc2e97893d",
   "metadata": {},
   "outputs": [
    {
     "ename": "TypeError",
     "evalue": "'frozenset' object is not subscriptable",
     "output_type": "error",
     "traceback": [
      "\u001b[1;31m---------------------------------------------------------------------------\u001b[0m",
      "\u001b[1;31mTypeError\u001b[0m                                 Traceback (most recent call last)",
      "Cell \u001b[1;32mIn[8], line 1\u001b[0m\n\u001b[1;32m----> 1\u001b[0m \u001b[43ma\u001b[49m\u001b[43m[\u001b[49m\u001b[38;5;241;43m0\u001b[39;49m\u001b[43m]\u001b[49m\n",
      "\u001b[1;31mTypeError\u001b[0m: 'frozenset' object is not subscriptable"
     ]
    }
   ],
   "source": [
    "a[0] #frozenset does not support indexing and slicing"
   ]
  },
  {
   "cell_type": "code",
   "execution_count": 11,
   "id": "cb1b1a01-81e4-4603-83b8-0571b5203b24",
   "metadata": {},
   "outputs": [
    {
     "ename": "TypeError",
     "evalue": "unsupported operand type(s) for +: 'frozenset' and 'frozenset'",
     "output_type": "error",
     "traceback": [
      "\u001b[1;31m---------------------------------------------------------------------------\u001b[0m",
      "\u001b[1;31mTypeError\u001b[0m                                 Traceback (most recent call last)",
      "Cell \u001b[1;32mIn[11], line 1\u001b[0m\n\u001b[1;32m----> 1\u001b[0m \u001b[38;5;28;43mfrozenset\u001b[39;49m\u001b[43m(\u001b[49m\u001b[43m{\u001b[49m\u001b[38;5;241;43m1\u001b[39;49m\u001b[43m,\u001b[49m\u001b[38;5;241;43m2\u001b[39;49m\u001b[43m,\u001b[49m\u001b[38;5;241;43m3\u001b[39;49m\u001b[43m,\u001b[49m\u001b[38;5;241;43m4\u001b[39;49m\u001b[43m,\u001b[49m\u001b[38;5;241;43m5\u001b[39;49m\u001b[43m}\u001b[49m\u001b[43m)\u001b[49m\u001b[38;5;241;43m+\u001b[39;49m\u001b[38;5;28;43mfrozenset\u001b[39;49m\u001b[43m(\u001b[49m\u001b[43m{\u001b[49m\u001b[38;5;241;43m5\u001b[39;49m\u001b[43m,\u001b[49m\u001b[38;5;241;43m7\u001b[39;49m\u001b[43m,\u001b[49m\u001b[38;5;241;43m8\u001b[39;49m\u001b[43m,\u001b[49m\u001b[38;5;241;43m9\u001b[39;49m\u001b[43m,\u001b[49m\u001b[38;5;241;43m0\u001b[39;49m\u001b[43m}\u001b[49m\u001b[43m)\u001b[49m\n",
      "\u001b[1;31mTypeError\u001b[0m: unsupported operand type(s) for +: 'frozenset' and 'frozenset'"
     ]
    }
   ],
   "source": [
    "frozenset({1,2,3,4,5})+frozenset({5,7,8,9,0}) #frozenset does not support concatination."
   ]
  },
  {
   "cell_type": "code",
   "execution_count": 14,
   "id": "4560883e-d12f-41d9-86f4-ab809c613187",
   "metadata": {},
   "outputs": [
    {
     "ename": "TypeError",
     "evalue": "unhashable type: 'list'",
     "output_type": "error",
     "traceback": [
      "\u001b[1;31m---------------------------------------------------------------------------\u001b[0m",
      "\u001b[1;31mTypeError\u001b[0m                                 Traceback (most recent call last)",
      "Cell \u001b[1;32mIn[14], line 1\u001b[0m\n\u001b[1;32m----> 1\u001b[0m \u001b[38;5;28mfrozenset\u001b[39m({[\u001b[38;5;241m1\u001b[39m,\u001b[38;5;241m2\u001b[39m,\u001b[38;5;241m3\u001b[39m]})\n",
      "\u001b[1;31mTypeError\u001b[0m: unhashable type: 'list'"
     ]
    }
   ],
   "source": [
    "frozenset({[1,2,3]}) #frozenset support only immutable data type."
   ]
  },
  {
   "cell_type": "code",
   "execution_count": 17,
   "id": "0fa9982a-3a62-40c5-b0e4-808acabe41f6",
   "metadata": {},
   "outputs": [
    {
     "data": {
      "text/plain": [
       "frozenset({1, 2, 3, frozenset({1, 2, 3})})"
      ]
     },
     "execution_count": 17,
     "metadata": {},
     "output_type": "execute_result"
    }
   ],
   "source": [
    "frozenset({1,2,3,frozenset({1,2,3})})"
   ]
  },
  {
   "cell_type": "markdown",
   "id": "acb3ed19-87b4-49ee-a1ce-1461ffb776cf",
   "metadata": {},
   "source": [
    "METHOD OF FROZENSET SAME AS SET."
   ]
  }
 ],
 "metadata": {
  "kernelspec": {
   "display_name": "Python 3 (ipykernel)",
   "language": "python",
   "name": "python3"
  },
  "language_info": {
   "codemirror_mode": {
    "name": "ipython",
    "version": 3
   },
   "file_extension": ".py",
   "mimetype": "text/x-python",
   "name": "python",
   "nbconvert_exporter": "python",
   "pygments_lexer": "ipython3",
   "version": "3.10.9"
  }
 },
 "nbformat": 4,
 "nbformat_minor": 5
}
