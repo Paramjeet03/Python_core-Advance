{
 "cells": [
  {
   "cell_type": "markdown",
   "id": "3de85f97-b2f0-4ede-ab41-c18f4ef9330e",
   "metadata": {},
   "source": [
    "# Regular Expression:- It is a concept which use to filter the string.\n",
    "\n",
    ">sub():- substitution\n",
    "\n",
    ">split() :-\n",
    "\n",
    ">search() :-\n",
    "\n",
    ">find() :-\n",
    "\n",
    "## module of regEx is re.\n"
   ]
  },
  {
   "cell_type": "code",
   "execution_count": 14,
   "id": "58169157-21c5-4e5b-9aa0-1d07ec6dd2f5",
   "metadata": {},
   "outputs": [
    {
     "data": {
      "text/plain": [
       "'surajisabadboy'"
      ]
     },
     "execution_count": 14,
     "metadata": {},
     "output_type": "execute_result"
    }
   ],
   "source": [
    "a='suraj####12346746556is2526219190/.,,a=--=-326+bad%^&**(boy.'\n",
    "import re\n",
    "re.sub('[0-9!$%&\\'()*+,-./:;<=>?@[\\\\]^_`{|}~#/]','',a)"
   ]
  },
  {
   "cell_type": "code",
   "execution_count": 15,
   "id": "6a1a3481-3603-42b6-85ef-8cf151df6b3b",
   "metadata": {},
   "outputs": [
    {
     "data": {
      "text/plain": [
       "'!\"#$%&\\'()*+,-./:;<=>?@[\\\\]^_`{|}~'"
      ]
     },
     "execution_count": 15,
     "metadata": {},
     "output_type": "execute_result"
    }
   ],
   "source": [
    "import string\n",
    "string.punctuation"
   ]
  },
  {
   "cell_type": "code",
   "execution_count": 27,
   "id": "97c9438e-955b-4bbf-b40e-704a96afcbeb",
   "metadata": {},
   "outputs": [
    {
     "data": {
      "text/plain": [
       "'suraj is a bad boy'"
      ]
     },
     "execution_count": 27,
     "metadata": {},
     "output_type": "execute_result"
    }
   ],
   "source": [
    "a='suraj####12346746556 is2526219190/.,, a=--=-326+ bad%&**( boy.'\n",
    "import re\n",
    "re.sub('[^A-z ]','',a)"
   ]
  },
  {
   "cell_type": "code",
   "execution_count": 34,
   "id": "6529f345-976c-409e-9efe-98f6a33f6fe9",
   "metadata": {},
   "outputs": [
    {
     "name": "stdout",
     "output_type": "stream",
     "text": [
      "suraj is a bad boy"
     ]
    }
   ],
   "source": [
    "a='suraj####12346746556 is2526219190/.,, a=--=-326+ bad%&**( boy.'\n",
    "b='!\"#$%&\\'()*+,-./:;<=>?@[\\\\]^_`{|}~0123456789'\n",
    "for i in a:\n",
    "    if i not in b:\n",
    "        print(i,end='')"
   ]
  },
  {
   "cell_type": "markdown",
   "id": "a64b9c81-5541-4d79-acb4-b5b3809c459a",
   "metadata": {},
   "source": [
    "# func.of sub by me :-"
   ]
  },
  {
   "cell_type": "code",
   "execution_count": 38,
   "id": "6528ecd3-113f-42d8-bd48-44949a343e6f",
   "metadata": {},
   "outputs": [],
   "source": [
    "def suraj(giv_str,remve,replace):\n",
    "    string=''\n",
    "    for i in giv_str:\n",
    "        if i not in remve:\n",
    "            string+=i\n",
    "        else:\n",
    "            string+=replace\n",
    "    print(string)"
   ]
  },
  {
   "cell_type": "code",
   "execution_count": 45,
   "id": "67a09c5a-3352-4aa0-85e0-02c16c6e8d8a",
   "metadata": {},
   "outputs": [
    {
     "name": "stdout",
     "output_type": "stream",
     "text": [
      "myname\n"
     ]
    }
   ],
   "source": [
    "suraj('my0997name45677;,.','!\"#$%&\\'()*+,-./:;<=>?@[\\\\]^_`{|}~0123456789','')"
   ]
  },
  {
   "cell_type": "code",
   "execution_count": 54,
   "id": "0eec3062-169d-4779-b1fb-4551e4397e27",
   "metadata": {},
   "outputs": [],
   "source": [
    "import suraj_substitution"
   ]
  },
  {
   "cell_type": "code",
   "execution_count": 57,
   "id": "766602d8-3367-4b37-a26d-e649641a6390",
   "metadata": {},
   "outputs": [
    {
     "name": "stdout",
     "output_type": "stream",
     "text": [
      "bywdsidswjsdiushdu\n"
     ]
    }
   ],
   "source": [
    "suraj_substitution.suraj('bywdsids984569wjsdiushdu.,/./.','!\"#$%&\\'()*+,-./:;<=>?@[\\\\]^_`{|}~0123456789','')"
   ]
  },
  {
   "cell_type": "code",
   "execution_count": null,
   "id": "f33d06e0-d431-4b10-8f41-c1e5aac96992",
   "metadata": {},
   "outputs": [],
   "source": []
  }
 ],
 "metadata": {
  "kernelspec": {
   "display_name": "Python 3 (ipykernel)",
   "language": "python",
   "name": "python3"
  },
  "language_info": {
   "codemirror_mode": {
    "name": "ipython",
    "version": 3
   },
   "file_extension": ".py",
   "mimetype": "text/x-python",
   "name": "python",
   "nbconvert_exporter": "python",
   "pygments_lexer": "ipython3",
   "version": "3.10.9"
  }
 },
 "nbformat": 4,
 "nbformat_minor": 5
}
