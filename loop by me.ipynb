{
 "cells": [
  {
   "cell_type": "markdown",
   "id": "e5d651bf-b5e2-45a0-9f2e-0cb1b0ed7cdf",
   "metadata": {},
   "source": [
    "# loop:-\n",
    "# 1) for   2) while"
   ]
  },
  {
   "cell_type": "markdown",
   "id": "eeb2dbb7-5431-472f-a6b1-b6808b729e9b",
   "metadata": {},
   "source": [
    "# 1) for:-"
   ]
  },
  {
   "cell_type": "code",
   "execution_count": 1,
   "id": "1b601cf0-ab4f-4d71-97c0-24eb1509bf37",
   "metadata": {},
   "outputs": [
    {
     "name": "stdout",
     "output_type": "stream",
     "text": [
      "HELLO WORLD 0\n",
      "HELLO WORLD 1\n",
      "HELLO WORLD 2\n",
      "HELLO WORLD 3\n",
      "HELLO WORLD 4\n"
     ]
    }
   ],
   "source": [
    "for i in range(5):\n",
    "    print('HELLO WORLD',i)"
   ]
  },
  {
   "cell_type": "code",
   "execution_count": 1,
   "id": "5377cee1-cc9b-41ec-8dcb-ed10e60b480f",
   "metadata": {},
   "outputs": [
    {
     "name": "stdout",
     "output_type": "stream",
     "text": [
      "0 surajtanwar\n",
      "1 surajtanwar\n",
      "2 surajtanwar\n",
      "3 surajtanwar\n"
     ]
    }
   ],
   "source": [
    "for i in range(4): # range start from zero that why it print upto 3\n",
    "    print (i,'suraj',end='') \n",
    "    print('tanwar')"
   ]
  },
  {
   "cell_type": "markdown",
   "id": "717430a9-3f46-4b63-b1a5-dd00d86c55c1",
   "metadata": {},
   "source": [
    "# Iterable :- a data type which contain magic method/dunder method is called iterable. note :-techanical term def__iter__()\n",
    "## example:- list,tuple,set,frozenset,dict"
   ]
  },
  {
   "cell_type": "code",
   "execution_count": 9,
   "id": "8b762ca8-ab14-48d1-8f6f-a7339714552e",
   "metadata": {},
   "outputs": [],
   "source": [
    "a=dict()"
   ]
  },
  {
   "cell_type": "code",
   "execution_count": 10,
   "id": "94eb5526-3299-46b6-8e5a-374d733255af",
   "metadata": {},
   "outputs": [
    {
     "data": {
      "text/plain": [
       "['__class__',\n",
       " '__class_getitem__',\n",
       " '__contains__',\n",
       " '__delattr__',\n",
       " '__delitem__',\n",
       " '__dir__',\n",
       " '__doc__',\n",
       " '__eq__',\n",
       " '__format__',\n",
       " '__ge__',\n",
       " '__getattribute__',\n",
       " '__getitem__',\n",
       " '__gt__',\n",
       " '__hash__',\n",
       " '__init__',\n",
       " '__init_subclass__',\n",
       " '__ior__',\n",
       " '__iter__',\n",
       " '__le__',\n",
       " '__len__',\n",
       " '__lt__',\n",
       " '__ne__',\n",
       " '__new__',\n",
       " '__or__',\n",
       " '__reduce__',\n",
       " '__reduce_ex__',\n",
       " '__repr__',\n",
       " '__reversed__',\n",
       " '__ror__',\n",
       " '__setattr__',\n",
       " '__setitem__',\n",
       " '__sizeof__',\n",
       " '__str__',\n",
       " '__subclasshook__',\n",
       " 'clear',\n",
       " 'copy',\n",
       " 'fromkeys',\n",
       " 'get',\n",
       " 'items',\n",
       " 'keys',\n",
       " 'pop',\n",
       " 'popitem',\n",
       " 'setdefault',\n",
       " 'update',\n",
       " 'values']"
      ]
     },
     "execution_count": 10,
     "metadata": {},
     "output_type": "execute_result"
    }
   ],
   "source": [
    "dir(a)"
   ]
  },
  {
   "cell_type": "code",
   "execution_count": 8,
   "id": "7df65b54-e68e-4f85-be5f-ae174553265f",
   "metadata": {},
   "outputs": [
    {
     "name": "stdout",
     "output_type": "stream",
     "text": [
      "HELLO WORLD 1\n",
      "HELLO WORLD 2\n",
      "HELLO WORLD 3\n",
      "HELLO WORLD 4\n",
      "HELLO WORLD 5\n",
      "HELLO WORLD 6\n",
      "HELLO WORLD 7\n",
      "HELLO WORLD 8\n",
      "HELLO WORLD 9\n",
      "HELLO WORLD 10\n",
      "HELLO WORLD 11\n",
      "HELLO WORLD 12\n",
      "HELLO WORLD 13\n",
      "HELLO WORLD 14\n"
     ]
    }
   ],
   "source": [
    "for i in range(1,15,1):\n",
    "    print('HELLO WORLD',i)"
   ]
  },
  {
   "cell_type": "code",
   "execution_count": 6,
   "id": "f86103a5-6b6f-497c-89a2-2ce4481ac9a0",
   "metadata": {},
   "outputs": [
    {
     "name": "stdout",
     "output_type": "stream",
     "text": [
      "HELLO WORLD 10\n",
      "HELLO WORLD 9\n",
      "HELLO WORLD 8\n",
      "HELLO WORLD 7\n",
      "HELLO WORLD 6\n",
      "HELLO WORLD 5\n",
      "HELLO WORLD 4\n",
      "HELLO WORLD 3\n",
      "HELLO WORLD 2\n",
      "HELLO WORLD 1\n"
     ]
    }
   ],
   "source": [
    "for i in range(10,0,-1):\n",
    "    print('HELLO WORLD',i)"
   ]
  },
  {
   "cell_type": "markdown",
   "id": "b34048af-8fef-4757-befb-0e30f5afdf6c",
   "metadata": {},
   "source": [
    "# 1)continue (always inside loop)\n",
    "\n",
    "# 2)break (always inside loop)\n",
    "\n",
    "# 3)pass (in everyone)"
   ]
  },
  {
   "cell_type": "markdown",
   "id": "a472aaec-5526-4ee1-8651-80fd467cc168",
   "metadata": {},
   "source": [
    "# 1) continue:-"
   ]
  },
  {
   "cell_type": "code",
   "execution_count": 12,
   "id": "573257b8-1518-48ae-a17d-0693bc48eb83",
   "metadata": {},
   "outputs": [
    {
     "name": "stdout",
     "output_type": "stream",
     "text": [
      "0 hello world\n",
      "1 hello world\n",
      "3 hello world\n",
      "4 hello world\n"
     ]
    }
   ],
   "source": [
    "for i in range(5):\n",
    "    if i==2:\n",
    "        continue\n",
    "    print(i,'hello world')"
   ]
  },
  {
   "cell_type": "code",
   "execution_count": 14,
   "id": "95ba9262-429a-4fb0-80b3-56479fd68d8a",
   "metadata": {},
   "outputs": [
    {
     "name": "stdout",
     "output_type": "stream",
     "text": [
      "0 hello world\n",
      "1 hello world\n",
      "3 hello world\n",
      "4 hello world\n",
      "5 hello world\n",
      "6 hello world\n",
      "7 hello world\n",
      "8 hello world\n",
      "9 hello world\n",
      "10 hello world\n",
      "11 hello world\n",
      "12 hello world\n",
      "14 hello world\n"
     ]
    }
   ],
   "source": [
    "for i in range(16):\n",
    "    if i==2 or i== 15 or i== 13 : # for more value at one time.\n",
    "        continue\n",
    "    print(i,'hello world')"
   ]
  },
  {
   "cell_type": "code",
   "execution_count": 14,
   "id": "738276a7-0b06-4865-badf-ce45d399711b",
   "metadata": {},
   "outputs": [
    {
     "name": "stdout",
     "output_type": "stream",
     "text": [
      "k hello world\n",
      "i hello world\n",
      "s hello world\n",
      "n hello world\n",
      "a hello world\n"
     ]
    }
   ],
   "source": [
    "for i in \"krishna\":\n",
    "    if i in\"rh\":\n",
    "        continue\n",
    "    print(i,'hello world')"
   ]
  },
  {
   "cell_type": "code",
   "execution_count": 15,
   "id": "e9857938-ef49-4f1d-9873-9cdb1830f890",
   "metadata": {},
   "outputs": [
    {
     "name": "stdout",
     "output_type": "stream",
     "text": [
      "k hello world\n",
      "i hello world\n",
      "s hello world\n",
      "n hello world\n",
      "a hello world\n"
     ]
    }
   ],
   "source": [
    "for i in \"krishna\":\n",
    "    if i in[\"r\",\"h\"]:\n",
    "        continue\n",
    "    print(i,'hello world')"
   ]
  },
  {
   "cell_type": "markdown",
   "id": "18986a91-4b51-45ee-919e-b5f47c11431e",
   "metadata": {},
   "source": [
    "# 2)break (always inside loop)"
   ]
  },
  {
   "cell_type": "code",
   "execution_count": 17,
   "id": "1be3a9b5-a7ad-4423-b915-6bcd769c33ee",
   "metadata": {},
   "outputs": [
    {
     "name": "stdout",
     "output_type": "stream",
     "text": [
      "0 hello world\n",
      "1 hello world\n"
     ]
    }
   ],
   "source": [
    "for i in range(5):\n",
    "    if i==2:\n",
    "        break            # it break the loop if condition is true\n",
    "    print(i,'hello world')"
   ]
  },
  {
   "cell_type": "code",
   "execution_count": 19,
   "id": "3501256a-6a8a-48df-b893-7f2d55c4d42f",
   "metadata": {},
   "outputs": [
    {
     "name": "stdout",
     "output_type": "stream",
     "text": [
      "my bad s\n",
      "my bad u\n",
      "my bad r\n"
     ]
    }
   ],
   "source": [
    "for i in \"suraj\":\n",
    "    if i in \"a,j\":\n",
    "        break\n",
    "    print('my bad',i)"
   ]
  },
  {
   "cell_type": "markdown",
   "id": "5046f71d-15f0-45d7-ab34-f55dff9715e9",
   "metadata": {},
   "source": [
    "# 3)pass (in everyone)"
   ]
  },
  {
   "cell_type": "markdown",
   "id": "0a6a70b7-c2b0-4884-99fd-b240f47de783",
   "metadata": {},
   "source": [
    " # it is use to pass any block when we having detail about block without error."
   ]
  },
  {
   "cell_type": "code",
   "execution_count": 26,
   "id": "dda7bffe-ea63-46c9-bb7c-b798f243bbdb",
   "metadata": {},
   "outputs": [
    {
     "ename": "IndentationError",
     "evalue": "expected an indented block after 'if' statement on line 2 (755621963.py, line 4)",
     "output_type": "error",
     "traceback": [
      "\u001b[1;36m  Cell \u001b[1;32mIn[26], line 4\u001b[1;36m\u001b[0m\n\u001b[1;33m    else:\u001b[0m\n\u001b[1;37m    ^\u001b[0m\n\u001b[1;31mIndentationError\u001b[0m\u001b[1;31m:\u001b[0m expected an indented block after 'if' statement on line 2\n"
     ]
    }
   ],
   "source": [
    "r=[1,2,3,45,6,7]\n",
    "if i==3:\n",
    "    \n",
    "else:\n",
    "    print('go to hell')"
   ]
  },
  {
   "cell_type": "code",
   "execution_count": 25,
   "id": "e8977647-8d2b-409c-b069-35fd150e9d21",
   "metadata": {},
   "outputs": [
    {
     "name": "stdout",
     "output_type": "stream",
     "text": [
      "go to hell\n"
     ]
    }
   ],
   "source": [
    "r=[1,2,3,45,6,7]\n",
    "if r==3:\n",
    "    pass\n",
    "else:\n",
    "    print('go to hell')"
   ]
  },
  {
   "cell_type": "markdown",
   "id": "d7d4e868-148d-4e3a-a872-080e90b928e1",
   "metadata": {},
   "source": [
    "# Pattern:-\n",
    "\n",
    "> single loop pattern\n"
   ]
  },
  {
   "cell_type": "code",
   "execution_count": 2,
   "id": "327542b9-b36b-4f09-97be-3676ced9846c",
   "metadata": {},
   "outputs": [
    {
     "name": "stdout",
     "output_type": "stream",
     "text": [
      "*\n",
      "**\n",
      "***\n",
      "****\n",
      "*****\n"
     ]
    }
   ],
   "source": [
    "print('*')\n",
    "print('**')\n",
    "print('***')\n",
    "print('****')\n",
    "print('*****')"
   ]
  },
  {
   "cell_type": "code",
   "execution_count": 13,
   "id": "00503655-de94-4cc9-8bf0-3a9ba1aeff1c",
   "metadata": {},
   "outputs": [
    {
     "name": "stdout",
     "output_type": "stream",
     "text": [
      "\n",
      "*\n",
      "**\n",
      "***\n",
      "****\n",
      "*****\n"
     ]
    }
   ],
   "source": [
    "for i in range(6):\n",
    "    print('*'*(i))"
   ]
  },
  {
   "cell_type": "code",
   "execution_count": 12,
   "id": "4ae03b11-85aa-471c-99fe-ab56f207f811",
   "metadata": {},
   "outputs": [
    {
     "name": "stdout",
     "output_type": "stream",
     "text": [
      "    *\n",
      "   **\n",
      "  ***\n",
      " ****\n",
      "*****\n"
     ]
    }
   ],
   "source": [
    "print(' '*4+'*')\n",
    "print(' '*3+'**')\n",
    "print(' '*2+'***')\n",
    "print(' '*1+'****')\n",
    "print('*****')"
   ]
  },
  {
   "cell_type": "code",
   "execution_count": 15,
   "id": "06d3d84f-b926-477a-b1e8-b01ab567d1c4",
   "metadata": {},
   "outputs": [
    {
     "name": "stdout",
     "output_type": "stream",
     "text": [
      "     \n",
      "    *\n",
      "   **\n",
      "  ***\n",
      " ****\n",
      "*****\n"
     ]
    }
   ],
   "source": [
    "for i in range(6):\n",
    "    print(' '*(5-i)+'*'*(i))"
   ]
  },
  {
   "cell_type": "code",
   "execution_count": 17,
   "id": "2768372c-c8a5-474e-bd33-4a094cc987af",
   "metadata": {},
   "outputs": [
    {
     "name": "stdout",
     "output_type": "stream",
     "text": [
      "******\n",
      " *****\n",
      "  ****\n",
      "   ***\n",
      "    **\n",
      "     *\n"
     ]
    }
   ],
   "source": [
    "for i in range(6,0,-1):\n",
    "    print(' '*(6-i)+'*'*(i))"
   ]
  },
  {
   "cell_type": "code",
   "execution_count": 19,
   "id": "0f70fb6b-a158-445d-9001-a5f1d9dcf002",
   "metadata": {},
   "outputs": [
    {
     "name": "stdout",
     "output_type": "stream",
     "text": [
      "* * * * * * \n",
      " * * * * * \n",
      "  * * * * \n",
      "   * * * \n",
      "    * * \n",
      "     * \n"
     ]
    }
   ],
   "source": [
    "for i in range(6,0,-1):\n",
    "    print(' '*(6-i)+'* '*(i))"
   ]
  },
  {
   "cell_type": "code",
   "execution_count": 21,
   "id": "33dc2208-fba1-469f-854d-c36592a7cc66",
   "metadata": {},
   "outputs": [
    {
     "name": "stdout",
     "output_type": "stream",
     "text": [
      "      \n",
      "     * \n",
      "    * * \n",
      "   * * * \n",
      "  * * * * \n",
      " * * * * * \n",
      "* * * * * * \n"
     ]
    }
   ],
   "source": [
    "for i in range(0,7,1):\n",
    "    print(' '*(6-i)+'* '*(i))"
   ]
  },
  {
   "cell_type": "code",
   "execution_count": 27,
   "id": "b666ef54-698c-4342-aa2d-7706117ab0bf",
   "metadata": {},
   "outputs": [
    {
     "name": "stdout",
     "output_type": "stream",
     "text": [
      "* * * * \n",
      " * * * * \n",
      "  * * * * \n",
      "   * * * * \n",
      "    * * * * \n"
     ]
    }
   ],
   "source": [
    "for i in range(5):\n",
    "    print(' '*(i)+'* '*(4))"
   ]
  },
  {
   "cell_type": "code",
   "execution_count": 28,
   "id": "98ef41db-b93c-4de6-a242-1e43c844e3ab",
   "metadata": {},
   "outputs": [
    {
     "name": "stdout",
     "output_type": "stream",
     "text": [
      "* * * * \n",
      "  * * * * \n",
      "    * * * * \n",
      "      * * * * \n",
      "        * * * * \n"
     ]
    }
   ],
   "source": [
    "for i in range(5):\n",
    "    print('  '*(i)+'* '*(4)) # for more allyngment"
   ]
  },
  {
   "cell_type": "markdown",
   "id": "0f8893ca-5f25-4cb2-8ee4-8f32296df2e8",
   "metadata": {},
   "source": [
    "# pattern using nested for loop :-"
   ]
  },
  {
   "cell_type": "code",
   "execution_count": 26,
   "id": "07eaff42-ede5-4321-822d-6c7e219055ee",
   "metadata": {},
   "outputs": [
    {
     "name": "stdout",
     "output_type": "stream",
     "text": [
      "    * \n",
      "   * * \n",
      "  * * * \n",
      " * * * * \n",
      "* * * * * \n"
     ]
    }
   ],
   "source": [
    "for i in range(5):\n",
    "    for j in range(5):\n",
    "        if j<4-i:\n",
    "            print(' ',end='')\n",
    "        else:\n",
    "            print('* ',end='')\n",
    "    print()"
   ]
  },
  {
   "cell_type": "code",
   "execution_count": 13,
   "id": "995b8484-f5ca-45c0-ae46-f08b512ccadf",
   "metadata": {},
   "outputs": [
    {
     "name": "stdout",
     "output_type": "stream",
     "text": [
      "*****\n",
      "**** \n",
      "***  \n",
      "**   \n",
      "*    \n"
     ]
    }
   ],
   "source": [
    "for i in range(5):\n",
    "    for j in range(5):\n",
    "        if j<5-i:\n",
    "            print('*',end='')\n",
    "        else:\n",
    "            print(' ',end='')\n",
    "    print()"
   ]
  },
  {
   "cell_type": "code",
   "execution_count": 15,
   "id": "4ae27008-7e22-470b-a82a-c513fd62dd14",
   "metadata": {},
   "outputs": [
    {
     "name": "stdout",
     "output_type": "stream",
     "text": [
      "    *\n",
      "   **\n",
      "  ***\n",
      " ****\n",
      "*****\n"
     ]
    }
   ],
   "source": [
    "for i in range(5):\n",
    "    for j in range(5):\n",
    "        if j<4-i:\n",
    "            print(' ',end='')\n",
    "        else:\n",
    "            print('*',end='')\n",
    "    print()"
   ]
  },
  {
   "cell_type": "markdown",
   "id": "ad979196-0c8d-4313-a203-991906511960",
   "metadata": {},
   "source": [
    "# comprehension :-\n",
    "\n",
    "> list comprehension\n",
    "\n",
    "> set comprehension\n",
    "\n",
    "> frozenset comprehension\n",
    "\n",
    "> dictionary comprehension\n",
    "\n",
    "> tuple comprehension"
   ]
  },
  {
   "cell_type": "markdown",
   "id": "646bb192-4f58-4dd2-99ce-cd7561a6c907",
   "metadata": {},
   "source": [
    "# list comprehension"
   ]
  },
  {
   "cell_type": "code",
   "execution_count": 15,
   "id": "53c92120-3be2-44f7-b865-7e759c545a75",
   "metadata": {},
   "outputs": [
    {
     "name": "stdout",
     "output_type": "stream",
     "text": [
      "[0, 1, 2, 3, 4]\n"
     ]
    }
   ],
   "source": [
    "a=[]\n",
    "for i in range(5):\n",
    "    a.append(i)\n",
    "print(a)"
   ]
  },
  {
   "cell_type": "code",
   "execution_count": 12,
   "id": "0899574f-1451-48ac-b263-e646204dd2ed",
   "metadata": {},
   "outputs": [
    {
     "name": "stdout",
     "output_type": "stream",
     "text": [
      "[0, 1, 2, 3, 4]\n"
     ]
    }
   ],
   "source": [
    "b=[i for i in range(5)]\n",
    "print(b)"
   ]
  },
  {
   "cell_type": "markdown",
   "id": "8bde7a07-54e5-41ec-a8fc-362daccb9891",
   "metadata": {},
   "source": [
    "# set comprehension"
   ]
  },
  {
   "cell_type": "code",
   "execution_count": 35,
   "id": "d3d2ba33-c375-46d6-bc31-53b8f8006953",
   "metadata": {},
   "outputs": [
    {
     "name": "stdout",
     "output_type": "stream",
     "text": [
      "[0, 1, 2, 3, 4]\n"
     ]
    }
   ],
   "source": [
    "print([i for i in range(5)])"
   ]
  },
  {
   "cell_type": "code",
   "execution_count": 37,
   "id": "79edd2b1-d36d-4cb7-9fa3-86561b3a8897",
   "metadata": {},
   "outputs": [
    {
     "name": "stdout",
     "output_type": "stream",
     "text": [
      "{0, 1, 2, 3, 4}\n"
     ]
    }
   ],
   "source": [
    "a=set()\n",
    "for i in range (5):\n",
    "    a.add(i)\n",
    "print(a)"
   ]
  },
  {
   "cell_type": "code",
   "execution_count": 49,
   "id": "42818638-e20d-4c51-ae39-b6fc2ce72882",
   "metadata": {},
   "outputs": [
    {
     "name": "stdout",
     "output_type": "stream",
     "text": [
      "<generator object <genexpr> at 0x00000208B6C79930>\n"
     ]
    }
   ],
   "source": [
    "a={}\n",
    "print(i for i in range (5))"
   ]
  },
  {
   "cell_type": "code",
   "execution_count": 56,
   "id": "b7f319b0-8825-4019-bfc6-8d8fa3ba04b6",
   "metadata": {},
   "outputs": [
    {
     "name": "stdout",
     "output_type": "stream",
     "text": [
      "{0, 1, 2, 3, 4}\n"
     ]
    }
   ],
   "source": [
    "a=print({i for i in range (5)})"
   ]
  },
  {
   "cell_type": "markdown",
   "id": "2672efc2-4d42-4db4-a0e7-e522774e5ad1",
   "metadata": {},
   "source": [
    "# frozenset comprehension"
   ]
  },
  {
   "cell_type": "code",
   "execution_count": 2,
   "id": "e3c41136-7606-416c-ba9f-7763d8099b89",
   "metadata": {},
   "outputs": [
    {
     "name": "stdout",
     "output_type": "stream",
     "text": [
      "frozenset({0, 1, 2, 3, 4})\n"
     ]
    }
   ],
   "source": [
    "a=frozenset()\n",
    "for i in range (5):\n",
    "    a=a.union(frozenset({i}))\n",
    "print(a)"
   ]
  },
  {
   "cell_type": "code",
   "execution_count": 6,
   "id": "2f67d5ad-e9b4-4529-bca8-38373173a91a",
   "metadata": {},
   "outputs": [
    {
     "data": {
      "text/plain": [
       "frozenset({0, 1, 2, 3, 4})"
      ]
     },
     "execution_count": 6,
     "metadata": {},
     "output_type": "execute_result"
    }
   ],
   "source": [
    "frozenset(i for i in range (5) )"
   ]
  },
  {
   "cell_type": "markdown",
   "id": "06059644-d966-45d2-a4aa-b4c654b9c2aa",
   "metadata": {},
   "source": [
    "# tuple comprehension (create gernator object)"
   ]
  },
  {
   "cell_type": "code",
   "execution_count": 23,
   "id": "f5bfa848-94cd-4dd4-adda-552c8909c8f1",
   "metadata": {},
   "outputs": [
    {
     "name": "stdout",
     "output_type": "stream",
     "text": [
      "(0, 1, 2, 3, 4)\n"
     ]
    }
   ],
   "source": [
    "a=tuple()\n",
    "for i in range (5):\n",
    "    a=a+(i,) \n",
    "print(a)"
   ]
  },
  {
   "cell_type": "code",
   "execution_count": 2,
   "id": "83bb6234-98d8-4cd3-aeae-9bcf48319013",
   "metadata": {},
   "outputs": [],
   "source": [
    "n=(i for i in range (5))"
   ]
  },
  {
   "cell_type": "code",
   "execution_count": 3,
   "id": "ea4e4d80-e7ca-4ef8-8b5c-bcaa8305bfad",
   "metadata": {},
   "outputs": [
    {
     "name": "stdout",
     "output_type": "stream",
     "text": [
      "<generator object <genexpr> at 0x0000025C3B427AE0>\n"
     ]
    }
   ],
   "source": [
    "print(n)"
   ]
  },
  {
   "cell_type": "code",
   "execution_count": 7,
   "id": "5d143f9b-8da2-429f-883b-21f695096037",
   "metadata": {},
   "outputs": [
    {
     "data": {
      "text/plain": [
       "3"
      ]
     },
     "execution_count": 7,
     "metadata": {},
     "output_type": "execute_result"
    }
   ],
   "source": [
    "next(n)"
   ]
  },
  {
   "cell_type": "code",
   "execution_count": 8,
   "id": "e3738690-6c50-49e4-9df2-ad5bee76c02c",
   "metadata": {},
   "outputs": [
    {
     "name": "stdout",
     "output_type": "stream",
     "text": [
      "(0, 1, 2, 3, 4)\n"
     ]
    }
   ],
   "source": [
    "print(tuple(i for i in range (5)))"
   ]
  },
  {
   "cell_type": "markdown",
   "id": "230265b0-38a3-404d-971d-c07ad6ab7f01",
   "metadata": {},
   "source": [
    "# dictionary comprehension"
   ]
  },
  {
   "cell_type": "code",
   "execution_count": 14,
   "id": "18360beb-47fb-45a1-bea2-23ea8876c184",
   "metadata": {},
   "outputs": [
    {
     "name": "stdout",
     "output_type": "stream",
     "text": [
      "1 ['suraj', 'rahul', 'mohan', 'sohan', 'tarun']\n",
      "2 ['suraj', 'rahul', 'mohan', 'sohan', 'tarun']\n",
      "3 ['suraj', 'rahul', 'mohan', 'sohan', 'tarun']\n",
      "4 ['suraj', 'rahul', 'mohan', 'sohan', 'tarun']\n",
      "5 ['suraj', 'rahul', 'mohan', 'sohan', 'tarun']\n"
     ]
    }
   ],
   "source": [
    "enrollment=[1,2,3,4,5]\n",
    "name=['suraj','rahul','mohan','sohan','tarun']\n",
    "for i in enrollment:\n",
    "    print(i,name)"
   ]
  },
  {
   "cell_type": "code",
   "execution_count": 20,
   "id": "eec96391-b22f-4980-9ade-3c26710d907e",
   "metadata": {},
   "outputs": [
    {
     "name": "stdout",
     "output_type": "stream",
     "text": [
      "1 suraj\n",
      "2 rahul\n",
      "3 mohan\n",
      "4 sohan\n",
      "5 tarun\n"
     ]
    }
   ],
   "source": [
    "enrollment=[1,2,3,4,5]\n",
    "name=['suraj','rahul','mohan','sohan','tarun']\n",
    "for i,j in zip(enrollment,name):\n",
    "    print(i,j)"
   ]
  },
  {
   "cell_type": "code",
   "execution_count": 6,
   "id": "c82ce4a6-6fde-4a97-bb92-19c75f74e3d5",
   "metadata": {},
   "outputs": [
    {
     "name": "stdout",
     "output_type": "stream",
     "text": [
      "1:suraj\n",
      "2:rahul\n",
      "3:mohan\n",
      "4:sohan\n",
      "5:tarun\n"
     ]
    }
   ],
   "source": [
    "enrollment=[1,2,3,4,5]\n",
    "name=['suraj','rahul','mohan','sohan','tarun']\n",
    "for i,j in zip(enrollment,name):\n",
    "    print(f'{i}:{j}')"
   ]
  },
  {
   "cell_type": "code",
   "execution_count": 19,
   "id": "e4010c9d-6577-44ed-b72e-712b3005a7b8",
   "metadata": {},
   "outputs": [],
   "source": [
    "enrollment=[1,2,3,4,5]\n",
    "name=['suraj','rahul','mohan','sohan','tarun']\n",
    "new_dict={}\n",
    "for i,j in zip(enrollment,name):\n",
    "    new_dict.update({i:j})"
   ]
  },
  {
   "cell_type": "code",
   "execution_count": 5,
   "id": "817aeed8-9b38-4d4f-899e-8aea2ee945ce",
   "metadata": {},
   "outputs": [
    {
     "data": {
      "text/plain": [
       "{1: 'suraj', 2: 'rahul', 3: 'mohan', 4: 'sohan', 5: 'tarun'}"
      ]
     },
     "execution_count": 5,
     "metadata": {},
     "output_type": "execute_result"
    }
   ],
   "source": [
    "new_dict"
   ]
  },
  {
   "cell_type": "code",
   "execution_count": 17,
   "id": "4324c97b-c63b-4b45-b03e-6d5831467ba0",
   "metadata": {},
   "outputs": [],
   "source": [
    "new_dict_comp={i:j for i,j in zip(enrollment,name)}"
   ]
  },
  {
   "cell_type": "code",
   "execution_count": 18,
   "id": "ba7b2e20-254f-44d2-8d69-9323e4379908",
   "metadata": {},
   "outputs": [
    {
     "data": {
      "text/plain": [
       "{1: 'suraj', 2: 'rahul', 3: 'mohan', 4: 'sohan', 5: 'tarun'}"
      ]
     },
     "execution_count": 18,
     "metadata": {},
     "output_type": "execute_result"
    }
   ],
   "source": [
    "new_dict_comp"
   ]
  },
  {
   "cell_type": "markdown",
   "id": "3f3b4df6-bfd9-4d4d-857e-d894c642701d",
   "metadata": {},
   "source": [
    "# 2) while loop:-\n",
    "\n",
    "## 1. single while loop\n",
    "\n",
    "## 2. pattern\n",
    "\n",
    "   > single loop pattern\n",
    "   \n",
    "   >multi loop pattern\n",
    "\n",
    "## 3.break\n",
    "\n",
    "## 4.continue\n",
    "\n",
    "## 5.pass\n",
    "   "
   ]
  },
  {
   "cell_type": "markdown",
   "id": "14608b06-30cb-4963-9248-26620b6b7b4d",
   "metadata": {},
   "source": [
    "# while loop syntax:-\n",
    "## intializer\n",
    "## while condition:\n",
    "##    print(statment)\n",
    "##    increment\\descrement"
   ]
  },
  {
   "cell_type": "code",
   "execution_count": 2,
   "id": "61fea6b4-15d7-4e98-9957-42cf89c6f0b3",
   "metadata": {},
   "outputs": [
    {
     "name": "stdout",
     "output_type": "stream",
     "text": [
      "hello world 1\n",
      "hello world 2\n",
      "hello world 3\n",
      "hello world 4\n",
      "hello world 5\n"
     ]
    }
   ],
   "source": [
    "i=1\n",
    "while i<=5:\n",
    "    print('''hello world''',i)\n",
    "    i=i+1"
   ]
  },
  {
   "cell_type": "code",
   "execution_count": 4,
   "id": "d2abee8e-8f58-4196-91ee-cf8df5e04ad8",
   "metadata": {},
   "outputs": [
    {
     "name": "stdout",
     "output_type": "stream",
     "text": [
      "\n",
      "* \n",
      "* * \n",
      "* * * \n",
      "* * * * \n",
      "* * * * * \n"
     ]
    }
   ],
   "source": [
    "i=0\n",
    "while i<=5:\n",
    "    print('* '*i)\n",
    "    i=i+1"
   ]
  },
  {
   "cell_type": "code",
   "execution_count": 5,
   "id": "bc768f21-ce9f-444d-9108-211928417398",
   "metadata": {},
   "outputs": [
    {
     "name": "stdout",
     "output_type": "stream",
     "text": [
      "* * * * * \n",
      "* * * * \n",
      "* * * \n",
      "* * \n",
      "* \n",
      "\n"
     ]
    }
   ],
   "source": [
    "i=0\n",
    "while i<=5:\n",
    "    print('* '*(5-i))\n",
    "    i=i+1"
   ]
  },
  {
   "cell_type": "code",
   "execution_count": 12,
   "id": "e075961e-3233-4de3-af18-ba701b4ac79d",
   "metadata": {},
   "outputs": [
    {
     "name": "stdout",
     "output_type": "stream",
     "text": [
      "     \n",
      "    *\n",
      "   **\n",
      "  ***\n",
      " ****\n",
      "*****\n"
     ]
    }
   ],
   "source": [
    "i=0\n",
    "while i<=5:\n",
    "    print(' '*(5-i)+'*'*(i))\n",
    "    i=i+1"
   ]
  },
  {
   "cell_type": "code",
   "execution_count": 13,
   "id": "08eff45b-1d05-4dc7-9529-d98f682f3241",
   "metadata": {},
   "outputs": [
    {
     "name": "stdout",
     "output_type": "stream",
     "text": [
      "*****\n",
      " ****\n",
      "  ***\n",
      "   **\n",
      "    *\n",
      "     \n"
     ]
    }
   ],
   "source": [
    "i=0\n",
    "while i<=5:\n",
    "    print(' '*(i)+'*'*(5-i))\n",
    "    i=i+1"
   ]
  },
  {
   "cell_type": "code",
   "execution_count": 19,
   "id": "23886fb2-5aa2-48e0-85d6-8f0542f0ca21",
   "metadata": {},
   "outputs": [
    {
     "name": "stdout",
     "output_type": "stream",
     "text": [
      "     \n",
      "    *\n",
      "   **\n",
      "  ***\n",
      " ****\n",
      "*****\n"
     ]
    }
   ],
   "source": [
    "i=0\n",
    "while i<=5:\n",
    "    print(' '*(5-i)+'*'*(i))\n",
    "    i=i+1"
   ]
  },
  {
   "cell_type": "markdown",
   "id": "4365bb83-c80e-4c47-83d3-67a802fd603d",
   "metadata": {},
   "source": [
    "# Nested while :-"
   ]
  },
  {
   "cell_type": "code",
   "execution_count": 19,
   "id": "ebfff049-4213-4079-aa4a-c73123d8cc46",
   "metadata": {},
   "outputs": [
    {
     "name": "stdout",
     "output_type": "stream",
     "text": [
      "   *\n",
      "  **\n",
      " ***\n",
      "****\n"
     ]
    }
   ],
   "source": [
    "i=1\n",
    "while i<5:\n",
    "    j=1\n",
    "    while j<5:\n",
    "        if j<(5-i):\n",
    "            print(\" \",end='')\n",
    "        else:\n",
    "            print('*',end='')\n",
    "        j=j+1\n",
    "    print()\n",
    "    i=i+1"
   ]
  },
  {
   "cell_type": "code",
   "execution_count": 20,
   "id": "fae379d4-bf55-4827-a68c-a2fd3830894e",
   "metadata": {},
   "outputs": [
    {
     "name": "stdout",
     "output_type": "stream",
     "text": [
      "****\n",
      " ***\n",
      "  **\n",
      "   *\n"
     ]
    }
   ],
   "source": [
    "i=1\n",
    "while i<5:\n",
    "    j=1\n",
    "    while j<5:\n",
    "        if j<(i):\n",
    "            print(\" \",end='')\n",
    "        else:\n",
    "            print('*',end='')\n",
    "        j=j+1\n",
    "    print()\n",
    "    i=i+1"
   ]
  },
  {
   "cell_type": "code",
   "execution_count": 31,
   "id": "ada5ef28-67fa-4ccd-a478-7d4d50687262",
   "metadata": {},
   "outputs": [
    {
     "name": "stdout",
     "output_type": "stream",
     "text": [
      "   * \n",
      "  * * \n",
      " * * * \n",
      "* * * * \n"
     ]
    }
   ],
   "source": [
    "i=1\n",
    "while i<5:\n",
    "    j=1\n",
    "    while j<5:\n",
    "        if j<(5-i):\n",
    "            print(\" \",end='')\n",
    "        else:\n",
    "            print('* ',end='')\n",
    "        j=j+1\n",
    "    print()\n",
    "    i=i+1"
   ]
  },
  {
   "cell_type": "markdown",
   "id": "32c5982e-bd72-4ad9-b724-4033c165d772",
   "metadata": {},
   "source": [
    "# QNA:- NOT INCLUDE IN LOOP "
   ]
  },
  {
   "cell_type": "code",
   "execution_count": 55,
   "id": "7d972730-e2cd-4ef4-bdb7-57bbacb44ae2",
   "metadata": {},
   "outputs": [
    {
     "name": "stdin",
     "output_type": "stream",
     "text": [
      "enter your name suraj\n"
     ]
    },
    {
     "name": "stdout",
     "output_type": "stream",
     "text": [
      "my name is suraj\n"
     ]
    }
   ],
   "source": [
    "name=input('enter your name')\n",
    "print(\"my name is {}\".format(name))"
   ]
  },
  {
   "cell_type": "code",
   "execution_count": 59,
   "id": "dbb67099-4a19-4bd0-a721-3ba472133859",
   "metadata": {},
   "outputs": [
    {
     "name": "stdin",
     "output_type": "stream",
     "text": [
      "enter your name suraj\n"
     ]
    },
    {
     "name": "stdout",
     "output_type": "stream",
     "text": [
      "my name is suraj\n"
     ]
    }
   ],
   "source": [
    "name=input('enter your name')\n",
    "print(f\"my name is {name}\")"
   ]
  },
  {
   "cell_type": "code",
   "execution_count": 61,
   "id": "90cafec6-bb84-41af-915b-58c911486bd0",
   "metadata": {},
   "outputs": [
    {
     "data": {
      "text/plain": [
       "'suraj'"
      ]
     },
     "execution_count": 61,
     "metadata": {},
     "output_type": "execute_result"
    }
   ],
   "source": [
    "a='suraj'\n",
    "a.\n",
    "a"
   ]
  },
  {
   "cell_type": "code",
   "execution_count": null,
   "id": "df182567-ec98-4f87-926e-4af8a89e3301",
   "metadata": {},
   "outputs": [],
   "source": []
  }
 ],
 "metadata": {
  "kernelspec": {
   "display_name": "Python 3 (ipykernel)",
   "language": "python",
   "name": "python3"
  },
  "language_info": {
   "codemirror_mode": {
    "name": "ipython",
    "version": 3
   },
   "file_extension": ".py",
   "mimetype": "text/x-python",
   "name": "python",
   "nbconvert_exporter": "python",
   "pygments_lexer": "ipython3",
   "version": "3.10.9"
  }
 },
 "nbformat": 4,
 "nbformat_minor": 5
}
