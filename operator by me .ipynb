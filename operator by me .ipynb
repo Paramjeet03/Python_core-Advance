{
 "cells": [
  {
   "cell_type": "markdown",
   "id": "43affbf3-6c58-431e-a2a2-9b0cd3cdaf50",
   "metadata": {
    "tags": []
   },
   "source": [
    "\n",
    "# OPERATOR:-\n",
    "\n",
    "> 1.Arithmetic operators\n",
    "\n",
    "> 2.Assignment operators\n",
    "\n",
    "> 3.Comparison operators\n",
    "\n",
    "> 4.Logical operators\n",
    "\n",
    "> 5.Identity operators\n",
    "\n",
    "> 6.Membership operators\n",
    "\n",
    "> 7.Bitwise operators\n"
   ]
  },
  {
   "cell_type": "markdown",
   "id": "b6661c06-4f23-4d1f-8afc-2b77be98e56d",
   "metadata": {
    "tags": []
   },
   "source": [
    "# 1.Arithmetic operators :-\n",
    "\n",
    " #      +     ,   -    ,   *    ,   /    ,   //    ,   %    ,   **    "
   ]
  },
  {
   "cell_type": "code",
   "execution_count": 19,
   "id": "7b09cfab-6780-4058-a6b6-fba4896208a9",
   "metadata": {},
   "outputs": [
    {
     "name": "stdout",
     "output_type": "stream",
     "text": [
      "40\n"
     ]
    }
   ],
   "source": [
    "A=30\n",
    "B=10             #  + for addition\n",
    "print(A+B)"
   ]
  },
  {
   "cell_type": "code",
   "execution_count": 20,
   "id": "fc0926f0-a0a5-4734-9321-ad1e1b1276ea",
   "metadata": {},
   "outputs": [
    {
     "name": "stdout",
     "output_type": "stream",
     "text": [
      "20\n"
     ]
    }
   ],
   "source": [
    "\n",
    "A=30\n",
    "B=10             #  - for subtraction.\n",
    "print(A-B)"
   ]
  },
  {
   "cell_type": "code",
   "execution_count": 21,
   "id": "ce030371-a160-4982-85cb-d0e165509022",
   "metadata": {},
   "outputs": [
    {
     "name": "stdout",
     "output_type": "stream",
     "text": [
      "300\n"
     ]
    }
   ],
   "source": [
    "A=30\n",
    "B=10             #  * multiplication\n",
    "print(A*B)"
   ]
  },
  {
   "cell_type": "code",
   "execution_count": 22,
   "id": "7fa8c1e4-0d6b-4c86-ba82-1f1f4113c97c",
   "metadata": {},
   "outputs": [
    {
     "name": "stdout",
     "output_type": "stream",
     "text": [
      "3.0\n"
     ]
    }
   ],
   "source": [
    "A=30\n",
    "B=10             #  / it divide the values but give the output in float.\n",
    "print(A/B)"
   ]
  },
  {
   "cell_type": "code",
   "execution_count": 23,
   "id": "da391132-82fa-4eca-898e-188eb9f7d02a",
   "metadata": {},
   "outputs": [
    {
     "name": "stdout",
     "output_type": "stream",
     "text": [
      "3\n"
     ]
    }
   ],
   "source": [
    "A=30\n",
    "B=10             #  / it divide the values but not give the output in float.if any value are given in float for divide\n",
    "print(A//B)         #   than it give result in float."
   ]
  },
  {
   "cell_type": "code",
   "execution_count": 13,
   "id": "b548e5b2-b92e-46e8-9db6-ac5220209caa",
   "metadata": {},
   "outputs": [
    {
     "name": "stdout",
     "output_type": "stream",
     "text": [
      "3.0\n"
     ]
    }
   ],
   "source": [
    "A=30\n",
    "B=10.0            \n",
    "print(A//B)"
   ]
  },
  {
   "cell_type": "code",
   "execution_count": 15,
   "id": "00ae7197-4759-46cc-90b2-6381b4b30895",
   "metadata": {},
   "outputs": [
    {
     "name": "stdout",
     "output_type": "stream",
     "text": [
      "0\n"
     ]
    }
   ],
   "source": [
    "A=30\n",
    "B=10             #  % (modulas) it give the remainder value in divide\n",
    "print(A%B)"
   ]
  },
  {
   "cell_type": "code",
   "execution_count": 18,
   "id": "719bd77e-c1da-474f-aeae-67b9b9539976",
   "metadata": {},
   "outputs": [
    {
     "name": "stdout",
     "output_type": "stream",
     "text": [
      "900.0\n"
     ]
    }
   ],
   "source": [
    "A=30\n",
    "B=2.0             #  ** it use for power\n",
    "print(A**B)"
   ]
  },
  {
   "cell_type": "markdown",
   "id": "be731b9f-172b-4c5e-a2b3-c690a136d77d",
   "metadata": {},
   "source": [
    "# 2.Assignment operators :-\n",
    "\n",
    "#    =   ,   +=   ,   -=   ,   *=   ,   /=   ,   //=   ,   %=   ,   **="
   ]
  },
  {
   "cell_type": "code",
   "execution_count": 29,
   "id": "59fce88e-b1ab-4250-a43a-3a3a0e40e8f9",
   "metadata": {},
   "outputs": [
    {
     "data": {
      "text/plain": [
       "199"
      ]
     },
     "execution_count": 29,
     "metadata": {},
     "output_type": "execute_result"
    }
   ],
   "source": [
    "paramjee=199\n",
    "paramjee"
   ]
  },
  {
   "cell_type": "code",
   "execution_count": 34,
   "id": "92b5e527-a5ed-460e-aaaf-f62da03a0455",
   "metadata": {},
   "outputs": [
    {
     "data": {
      "text/plain": [
       "203"
      ]
     },
     "execution_count": 34,
     "metadata": {},
     "output_type": "execute_result"
    }
   ],
   "source": [
    "paramjee=paramjee+1 # this is a long method .\n",
    "paramjee"
   ]
  },
  {
   "cell_type": "code",
   "execution_count": 35,
   "id": "996ace70-1308-4ccb-a8ab-893bf78c50d4",
   "metadata": {},
   "outputs": [
    {
     "data": {
      "text/plain": [
       "204"
      ]
     },
     "execution_count": 35,
     "metadata": {},
     "output_type": "execute_result"
    }
   ],
   "source": [
    "paramjee+=1 # paramjee=paramjee+1\n",
    "paramjee"
   ]
  },
  {
   "cell_type": "code",
   "execution_count": 41,
   "id": "da1be5b6-9d9e-4ee9-8dbd-6f9762385522",
   "metadata": {},
   "outputs": [],
   "source": [
    "b=100"
   ]
  },
  {
   "cell_type": "code",
   "execution_count": 42,
   "id": "2839931f-a886-4b77-bb9f-c593949b8a6b",
   "metadata": {},
   "outputs": [
    {
     "data": {
      "text/plain": [
       "100"
      ]
     },
     "execution_count": 42,
     "metadata": {},
     "output_type": "execute_result"
    }
   ],
   "source": [
    "b"
   ]
  },
  {
   "cell_type": "code",
   "execution_count": 43,
   "id": "c8790956-5be8-4b4e-8241-b5b3d8fc4067",
   "metadata": {},
   "outputs": [
    {
     "data": {
      "text/plain": [
       "90"
      ]
     },
     "execution_count": 43,
     "metadata": {},
     "output_type": "execute_result"
    }
   ],
   "source": [
    "b-=10 # b=b-10\n",
    "b"
   ]
  },
  {
   "cell_type": "code",
   "execution_count": 44,
   "id": "0c3e3fdf-7179-448f-a0eb-742ec2734132",
   "metadata": {},
   "outputs": [
    {
     "data": {
      "text/plain": [
       "900"
      ]
     },
     "execution_count": 44,
     "metadata": {},
     "output_type": "execute_result"
    }
   ],
   "source": [
    "b*=10 #b=b*10\n",
    "b"
   ]
  },
  {
   "cell_type": "code",
   "execution_count": null,
   "id": "d512266f-af26-4465-b99e-1ac87c3ac7ba",
   "metadata": {},
   "outputs": [],
   "source": []
  },
  {
   "cell_type": "code",
   "execution_count": 45,
   "id": "6ff4d79d-2203-418b-89b5-132c574a2f01",
   "metadata": {},
   "outputs": [],
   "source": [
    "b/=100 #b=b/100"
   ]
  },
  {
   "cell_type": "code",
   "execution_count": 46,
   "id": "6a76072f-16ea-4e29-85ab-33daff89fb54",
   "metadata": {},
   "outputs": [
    {
     "data": {
      "text/plain": [
       "9.0"
      ]
     },
     "execution_count": 46,
     "metadata": {},
     "output_type": "execute_result"
    }
   ],
   "source": [
    "b"
   ]
  },
  {
   "cell_type": "code",
   "execution_count": 48,
   "id": "60a1c7b7-bd77-46a0-8704-e86fcbde4429",
   "metadata": {},
   "outputs": [
    {
     "data": {
      "text/plain": [
       "10"
      ]
     },
     "execution_count": 48,
     "metadata": {},
     "output_type": "execute_result"
    }
   ],
   "source": [
    "e=1000\n",
    "e//=100 #e=e//100\n",
    "e"
   ]
  },
  {
   "cell_type": "code",
   "execution_count": 49,
   "id": "f56d0d76-9111-4842-b571-2017ccac1994",
   "metadata": {},
   "outputs": [
    {
     "data": {
      "text/plain": [
       "0"
      ]
     },
     "execution_count": 49,
     "metadata": {},
     "output_type": "execute_result"
    }
   ],
   "source": [
    "e=1000\n",
    "e%=100 #e=e%100\n",
    "e"
   ]
  },
  {
   "cell_type": "code",
   "execution_count": 51,
   "id": "11712a43-5fb4-432a-96c2-87cae3e1dc7a",
   "metadata": {},
   "outputs": [
    {
     "data": {
      "text/plain": [
       "10000000000"
      ]
     },
     "execution_count": 51,
     "metadata": {},
     "output_type": "execute_result"
    }
   ],
   "source": [
    "e=10\n",
    "e**=10 #e=e**100\n",
    "e"
   ]
  },
  {
   "cell_type": "markdown",
   "id": "f910defe-5055-4407-ac94-01002d207ac8",
   "metadata": {},
   "source": [
    "# 3.Comparison operators :-\n",
    "\n",
    "#    >   ,   <   ,   >=   ,   <=   ,   ==   ,   !=   \n"
   ]
  },
  {
   "cell_type": "code",
   "execution_count": 52,
   "id": "a03d1104-fc99-49c2-8d20-358267ae1fda",
   "metadata": {},
   "outputs": [
    {
     "data": {
      "text/plain": [
       "False"
      ]
     },
     "execution_count": 52,
     "metadata": {},
     "output_type": "execute_result"
    }
   ],
   "source": [
    "10>10"
   ]
  },
  {
   "cell_type": "code",
   "execution_count": 53,
   "id": "89aeca82-7ad4-4095-86ab-c3628d7b74f8",
   "metadata": {},
   "outputs": [
    {
     "data": {
      "text/plain": [
       "True"
      ]
     },
     "execution_count": 53,
     "metadata": {},
     "output_type": "execute_result"
    }
   ],
   "source": [
    "a=100\n",
    "b=300\n",
    "b>a"
   ]
  },
  {
   "cell_type": "code",
   "execution_count": 54,
   "id": "c9666e19-b1f1-40f6-96b6-626024356be7",
   "metadata": {},
   "outputs": [
    {
     "data": {
      "text/plain": [
       "True"
      ]
     },
     "execution_count": 54,
     "metadata": {},
     "output_type": "execute_result"
    }
   ],
   "source": [
    "a<b"
   ]
  },
  {
   "cell_type": "code",
   "execution_count": 55,
   "id": "e3772700-c5d6-430c-8099-8fb10a413865",
   "metadata": {},
   "outputs": [
    {
     "data": {
      "text/plain": [
       "False"
      ]
     },
     "execution_count": 55,
     "metadata": {},
     "output_type": "execute_result"
    }
   ],
   "source": [
    "b<a"
   ]
  },
  {
   "cell_type": "code",
   "execution_count": 56,
   "id": "af13189f-4e51-457f-91b6-327e491aced7",
   "metadata": {},
   "outputs": [
    {
     "data": {
      "text/plain": [
       "True"
      ]
     },
     "execution_count": 56,
     "metadata": {},
     "output_type": "execute_result"
    }
   ],
   "source": [
    "suraj=100 \n",
    "ravi=300\n",
    "ravi>=suraj"
   ]
  },
  {
   "cell_type": "code",
   "execution_count": 57,
   "id": "f468cff2-0e14-45b2-8582-4886cc868fb4",
   "metadata": {},
   "outputs": [
    {
     "data": {
      "text/plain": [
       "True"
      ]
     },
     "execution_count": 57,
     "metadata": {},
     "output_type": "execute_result"
    }
   ],
   "source": [
    "suraj=100 \n",
    "ravi=100\n",
    "ravi>=suraj"
   ]
  },
  {
   "cell_type": "code",
   "execution_count": 58,
   "id": "31916846-2fef-419b-b4b0-6e3de4a199ae",
   "metadata": {},
   "outputs": [
    {
     "data": {
      "text/plain": [
       "False"
      ]
     },
     "execution_count": 58,
     "metadata": {},
     "output_type": "execute_result"
    }
   ],
   "source": [
    "suraj=600 \n",
    "ravi=300\n",
    "ravi>=suraj"
   ]
  },
  {
   "cell_type": "code",
   "execution_count": 59,
   "id": "7465e771-7256-41a6-b1e4-9a46c81e2e5b",
   "metadata": {},
   "outputs": [
    {
     "data": {
      "text/plain": [
       "True"
      ]
     },
     "execution_count": 59,
     "metadata": {},
     "output_type": "execute_result"
    }
   ],
   "source": [
    "suraj=800 \n",
    "ravi=300\n",
    "ravi<=suraj"
   ]
  },
  {
   "cell_type": "code",
   "execution_count": 60,
   "id": "66958f07-6e17-4fbc-a579-3856137e18a2",
   "metadata": {},
   "outputs": [
    {
     "data": {
      "text/plain": [
       "False"
      ]
     },
     "execution_count": 60,
     "metadata": {},
     "output_type": "execute_result"
    }
   ],
   "source": [
    "suraj=800 \n",
    "ravi=900\n",
    "ravi<=suraj"
   ]
  },
  {
   "cell_type": "code",
   "execution_count": 61,
   "id": "c15b16a6-d556-4564-a518-62122d5fe6c6",
   "metadata": {},
   "outputs": [
    {
     "data": {
      "text/plain": [
       "False"
      ]
     },
     "execution_count": 61,
     "metadata": {},
     "output_type": "execute_result"
    }
   ],
   "source": [
    "suraj=800 \n",
    "ravi=300\n",
    "ravi==suraj"
   ]
  },
  {
   "cell_type": "code",
   "execution_count": 62,
   "id": "ed7a52cf-01c1-4c4e-ad46-9124c5b06fa7",
   "metadata": {},
   "outputs": [
    {
     "data": {
      "text/plain": [
       "True"
      ]
     },
     "execution_count": 62,
     "metadata": {},
     "output_type": "execute_result"
    }
   ],
   "source": [
    "suraj=300 \n",
    "ravi=300\n",
    "ravi==suraj"
   ]
  },
  {
   "cell_type": "code",
   "execution_count": 63,
   "id": "7943db5d-a16b-475e-9d21-94da7f7512be",
   "metadata": {},
   "outputs": [
    {
     "data": {
      "text/plain": [
       "True"
      ]
     },
     "execution_count": 63,
     "metadata": {},
     "output_type": "execute_result"
    }
   ],
   "source": [
    "suraj=800 \n",
    "ravi=300\n",
    "ravi!=suraj"
   ]
  },
  {
   "cell_type": "markdown",
   "id": "e837244d-037c-4ada-bb6b-d8270f7d84bc",
   "metadata": {},
   "source": [
    "# 4.Logical operators :-\n",
    "\n",
    "#    or   ,   and   ,   not   \n"
   ]
  },
  {
   "cell_type": "markdown",
   "id": "780b2452-311a-4285-a390-b8fb346f06e7",
   "metadata": {},
   "source": [
    "# and :- \n",
    "## it is a logical operator which is work on all ture or all false condition. if one condition is false than  is false."
   ]
  },
  {
   "cell_type": "code",
   "execution_count": 69,
   "id": "096c6dcd-0e12-4e1d-b323-d12f068721f5",
   "metadata": {},
   "outputs": [
    {
     "data": {
      "text/plain": [
       "True"
      ]
     },
     "execution_count": 69,
     "metadata": {},
     "output_type": "execute_result"
    }
   ],
   "source": [
    "suraj=100\n",
    "sunny=200\n",
    "suraj<sunny and sunny>suraj"
   ]
  },
  {
   "cell_type": "code",
   "execution_count": 70,
   "id": "de8ff761-c5a5-4c87-9394-7506c87627a9",
   "metadata": {},
   "outputs": [
    {
     "data": {
      "text/plain": [
       "False"
      ]
     },
     "execution_count": 70,
     "metadata": {},
     "output_type": "execute_result"
    }
   ],
   "source": [
    "suraj=100\n",
    "sunny=200\n",
    "suraj>sunny and sunny<suraj"
   ]
  },
  {
   "cell_type": "code",
   "execution_count": 82,
   "id": "568dc6c2-a34f-42bc-a127-265faf4a54c7",
   "metadata": {},
   "outputs": [
    {
     "data": {
      "text/plain": [
       "False"
      ]
     },
     "execution_count": 82,
     "metadata": {},
     "output_type": "execute_result"
    }
   ],
   "source": [
    "suraj=100\n",
    "sunny=200\n",
    "suraj<sunny and sunny<suraj"
   ]
  },
  {
   "cell_type": "markdown",
   "id": "cb1a4005-e646-4b04-9107-8a73edc534ce",
   "metadata": {},
   "source": [
    "# or :-\n",
    "# it is a logical operator which is work on if one condition is true then all are true"
   ]
  },
  {
   "cell_type": "code",
   "execution_count": 72,
   "id": "eaf6d3dd-c742-4f2f-a575-94005db8dc97",
   "metadata": {},
   "outputs": [
    {
     "data": {
      "text/plain": [
       "True"
      ]
     },
     "execution_count": 72,
     "metadata": {},
     "output_type": "execute_result"
    }
   ],
   "source": [
    "suraj=100\n",
    "sunny=200\n",
    "suraj<sunny or sunny<suraj"
   ]
  },
  {
   "cell_type": "code",
   "execution_count": 79,
   "id": "2be2295e-9945-451b-a362-9e67bd4a10b7",
   "metadata": {},
   "outputs": [
    {
     "data": {
      "text/plain": [
       "False"
      ]
     },
     "execution_count": 79,
     "metadata": {},
     "output_type": "execute_result"
    }
   ],
   "source": [
    "suraj=100\n",
    "sunny=200\n",
    "suraj>sunny or sunny<suraj"
   ]
  },
  {
   "cell_type": "markdown",
   "id": "f81254d1-56fb-4997-9d69-4c6e38688491",
   "metadata": {},
   "source": [
    "# not :-"
   ]
  },
  {
   "cell_type": "code",
   "execution_count": 84,
   "id": "50554b20-3c49-4af8-995a-13fd8e8db90e",
   "metadata": {},
   "outputs": [
    {
     "data": {
      "text/plain": [
       "False"
      ]
     },
     "execution_count": 84,
     "metadata": {},
     "output_type": "execute_result"
    }
   ],
   "source": [
    "a=100\n",
    "b=200\n",
    "c=100\n",
    "not a==c or not b>a and a==b"
   ]
  },
  {
   "cell_type": "markdown",
   "id": "999eb3bc-4e4f-4513-8308-a414fd53f813",
   "metadata": {},
   "source": [
    "# it is use for skip the particular condition."
   ]
  },
  {
   "cell_type": "markdown",
   "id": "a1c9664e-bcb5-483d-8a0f-697683f3573b",
   "metadata": {},
   "source": [
    "# combination condition of or , and , not "
   ]
  },
  {
   "cell_type": "code",
   "execution_count": 76,
   "id": "4384f75f-4c0b-42e9-85c2-f21ca083e700",
   "metadata": {},
   "outputs": [
    {
     "data": {
      "text/plain": [
       "True"
      ]
     },
     "execution_count": 76,
     "metadata": {},
     "output_type": "execute_result"
    }
   ],
   "source": [
    "a=100\n",
    "b=200\n",
    "c=100\n",
    "a==c or b>a and a==b"
   ]
  },
  {
   "cell_type": "code",
   "execution_count": 80,
   "id": "02510762-15cb-4f7e-a159-22a6ae0d117a",
   "metadata": {},
   "outputs": [
    {
     "data": {
      "text/plain": [
       "True"
      ]
     },
     "execution_count": 80,
     "metadata": {},
     "output_type": "execute_result"
    }
   ],
   "source": [
    "a=100\n",
    "b=200\n",
    "c=100\n",
    "a==c and b>a or a==b"
   ]
  },
  {
   "cell_type": "code",
   "execution_count": 94,
   "id": "98d1132b-b2bf-45af-ab8b-13468cba0ce8",
   "metadata": {},
   "outputs": [
    {
     "data": {
      "text/plain": [
       "False"
      ]
     },
     "execution_count": 94,
     "metadata": {},
     "output_type": "execute_result"
    }
   ],
   "source": [
    "a=400\n",
    "b=300\n",
    "not a!=b or a==b"
   ]
  },
  {
   "cell_type": "code",
   "execution_count": 1,
   "id": "81035682-7cf3-4e61-ac58-060cdda433f1",
   "metadata": {},
   "outputs": [
    {
     "data": {
      "text/plain": [
       "True"
      ]
     },
     "execution_count": 1,
     "metadata": {},
     "output_type": "execute_result"
    }
   ],
   "source": [
    "a=400\n",
    "b=300\n",
    "a!=b or not a==b"
   ]
  },
  {
   "cell_type": "markdown",
   "id": "4513b283-45ce-4032-8177-9bd0042938f6",
   "metadata": {},
   "source": [
    "# 5.Identity operators\n",
    "# is , is not"
   ]
  },
  {
   "cell_type": "markdown",
   "id": "5d4e4f8c-9f19-43b0-89b3-9c4e83921099",
   "metadata": {},
   "source": [
    "# is :- when some data belong too other then it show true otherwise false."
   ]
  },
  {
   "cell_type": "code",
   "execution_count": 4,
   "id": "831def8e-17e3-43f0-ab81-c516eb7c0ff8",
   "metadata": {},
   "outputs": [
    {
     "data": {
      "text/plain": [
       "'rohit'"
      ]
     },
     "execution_count": 4,
     "metadata": {},
     "output_type": "execute_result"
    }
   ],
   "source": [
    "a='rohit'\n",
    "a"
   ]
  },
  {
   "cell_type": "code",
   "execution_count": 8,
   "id": "f97088ee-abce-49c2-aa69-61373dacf8e3",
   "metadata": {},
   "outputs": [
    {
     "data": {
      "text/plain": [
       "'rohit'"
      ]
     },
     "execution_count": 8,
     "metadata": {},
     "output_type": "execute_result"
    }
   ],
   "source": [
    "b='rohit'\n",
    "b"
   ]
  },
  {
   "cell_type": "code",
   "execution_count": 9,
   "id": "e4d1d444-880c-4644-8642-cccb7f775109",
   "metadata": {},
   "outputs": [
    {
     "data": {
      "text/plain": [
       "True"
      ]
     },
     "execution_count": 9,
     "metadata": {},
     "output_type": "execute_result"
    }
   ],
   "source": [
    "a is b"
   ]
  },
  {
   "cell_type": "code",
   "execution_count": 10,
   "id": "beb8f9a8-b1fb-46de-9fe4-9df2bce01216",
   "metadata": {},
   "outputs": [
    {
     "name": "stderr",
     "output_type": "stream",
     "text": [
      "<>:1: SyntaxWarning: \"is\" with a literal. Did you mean \"==\"?\n",
      "<>:1: SyntaxWarning: \"is\" with a literal. Did you mean \"==\"?\n",
      "C:\\Users\\Paramjeet\\AppData\\Local\\Temp\\ipykernel_25064\\604878988.py:1: SyntaxWarning: \"is\" with a literal. Did you mean \"==\"?\n",
      "  'ROHIT'is'rohit'\n"
     ]
    },
    {
     "data": {
      "text/plain": [
       "False"
      ]
     },
     "execution_count": 10,
     "metadata": {},
     "output_type": "execute_result"
    }
   ],
   "source": [
    "'ROHIT'is'rohit'"
   ]
  },
  {
   "cell_type": "markdown",
   "id": "d3707684-39e7-483c-a1c5-0d6187fbbec4",
   "metadata": {
    "tags": []
   },
   "source": [
    "# About Above Warning:-\n",
    "\n",
    "> THIS WARNING SAYS WE USE == IN THE REPLACEMENT OF IS . AND WHENEVER WE SHOW THIS WARNING THAT MEANS THIS FEATURE IS GOING TO REMOVE IN FUTURE.\n"
   ]
  },
  {
   "cell_type": "code",
   "execution_count": 12,
   "id": "2700487b-e33a-48bf-9c51-a7925bdb6f83",
   "metadata": {},
   "outputs": [
    {
     "data": {
      "text/plain": [
       "True"
      ]
     },
     "execution_count": 12,
     "metadata": {},
     "output_type": "execute_result"
    }
   ],
   "source": [
    "'rohit'=='rohit'"
   ]
  },
  {
   "cell_type": "code",
   "execution_count": 14,
   "id": "08f6a35c-cee5-4612-b1a8-d37a7aad2b12",
   "metadata": {},
   "outputs": [
    {
     "name": "stderr",
     "output_type": "stream",
     "text": [
      "<>:1: SyntaxWarning: \"is not\" with a literal. Did you mean \"!=\"?\n",
      "<>:1: SyntaxWarning: \"is not\" with a literal. Did you mean \"!=\"?\n",
      "C:\\Users\\Paramjeet\\AppData\\Local\\Temp\\ipykernel_25064\\4115717754.py:1: SyntaxWarning: \"is not\" with a literal. Did you mean \"!=\"?\n",
      "  'suraj'is not 'SURAJ'\n"
     ]
    },
    {
     "data": {
      "text/plain": [
       "True"
      ]
     },
     "execution_count": 14,
     "metadata": {},
     "output_type": "execute_result"
    }
   ],
   "source": [
    "'suraj'is not 'SURAJ'"
   ]
  },
  {
   "cell_type": "markdown",
   "id": "fa491e53-815a-48de-bfc6-4d13878bbf6b",
   "metadata": {},
   "source": [
    "# 6.Membership operators :-\n",
    "# in , not in"
   ]
  },
  {
   "cell_type": "code",
   "execution_count": 17,
   "id": "fef4eaf3-9888-4d97-8ce4-0edaee095d66",
   "metadata": {},
   "outputs": [
    {
     "data": {
      "text/plain": [
       "True"
      ]
     },
     "execution_count": 17,
     "metadata": {},
     "output_type": "execute_result"
    }
   ],
   "source": [
    "'rohit' not in 'ROHIT IS A VERY BAD GUY'"
   ]
  },
  {
   "cell_type": "code",
   "execution_count": 18,
   "id": "6db58cb5-73ff-4553-88fd-d353662d5206",
   "metadata": {},
   "outputs": [
    {
     "data": {
      "text/plain": [
       "True"
      ]
     },
     "execution_count": 18,
     "metadata": {},
     "output_type": "execute_result"
    }
   ],
   "source": [
    "\"rohit\" in \"rohit is not a boy\""
   ]
  },
  {
   "cell_type": "code",
   "execution_count": 22,
   "id": "b6c54e72-5767-4d55-b8a2-d277f844f5ae",
   "metadata": {},
   "outputs": [
    {
     "data": {
      "text/plain": [
       "False"
      ]
     },
     "execution_count": 22,
     "metadata": {},
     "output_type": "execute_result"
    }
   ],
   "source": [
    " 'rohan' not in ['sohan','mohan','rohan','kohan','tohan','pohan','rinu']"
   ]
  },
  {
   "cell_type": "markdown",
   "id": "2159cac9-338b-46d0-81ef-1c255eb11ebb",
   "metadata": {},
   "source": [
    "# 7.Bitwise operators :-"
   ]
  },
  {
   "cell_type": "code",
   "execution_count": null,
   "id": "69141f35-5ba5-44a7-9629-aceefd2bd4a1",
   "metadata": {},
   "outputs": [],
   "source": []
  }
 ],
 "metadata": {
  "kernelspec": {
   "display_name": "Python 3 (ipykernel)",
   "language": "python",
   "name": "python3"
  },
  "language_info": {
   "codemirror_mode": {
    "name": "ipython",
    "version": 3
   },
   "file_extension": ".py",
   "mimetype": "text/x-python",
   "name": "python",
   "nbconvert_exporter": "python",
   "pygments_lexer": "ipython3",
   "version": "3.10.9"
  }
 },
 "nbformat": 4,
 "nbformat_minor": 5
}
