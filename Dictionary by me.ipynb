{
 "cells": [
  {
   "cell_type": "markdown",
   "id": "3e2e1f5f-68fb-4fb5-a575-60cb6dc0b58b",
   "metadata": {},
   "source": [
    "Dictionary:-\n",
    "\n",
    ">Dictionary constructor is dict().\n",
    "\n",
    ">Dictionary literal is {}.\n",
    "\n",
    ">Dictionary is set of sequance of item.\n",
    "\n",
    ">item is the pair of key and value.\n",
    "\n",
    ">key must be immutable.\n",
    "\n",
    ">Dictionary support indexing.\n",
    "\n",
    ">Dictionary does not support silicing.\n",
    "\n",
    ">Dictionary does not support concatination.\n",
    "\n",
    ">Dictionary support nested Dictionary.\n",
    "\n",
    ">Dictionary is mutable.\n",
    "\n",
    ">Dictionary method."
   ]
  },
  {
   "cell_type": "code",
   "execution_count": 5,
   "id": "dd18fe52-0924-454e-bf80-a86807945580",
   "metadata": {},
   "outputs": [
    {
     "name": "stdout",
     "output_type": "stream",
     "text": [
      "<class 'dict'> {1: 'suraj', 2: 'mohit', 3: 'rahul'}\n"
     ]
    }
   ],
   "source": [
    "a={1:\"suraj\",2:\"mohit\",3:'rahul'}\n",
    "print(type(a),a)"
   ]
  },
  {
   "cell_type": "code",
   "execution_count": 7,
   "id": "30c9974c-1aa5-4b0b-9371-aa311d0baaf8",
   "metadata": {},
   "outputs": [
    {
     "data": {
      "text/plain": [
       "'suraj'"
      ]
     },
     "execution_count": 7,
     "metadata": {},
     "output_type": "execute_result"
    }
   ],
   "source": [
    "a[1]"
   ]
  },
  {
   "cell_type": "code",
   "execution_count": 10,
   "id": "7067432f-8dd8-4f4e-9abf-974f23ffe5d2",
   "metadata": {},
   "outputs": [
    {
     "name": "stdout",
     "output_type": "stream",
     "text": [
      "<class 'dict'> {}\n"
     ]
    },
    {
     "data": {
      "text/plain": [
       "0"
      ]
     },
     "execution_count": 10,
     "metadata": {},
     "output_type": "execute_result"
    }
   ],
   "source": [
    "a=dict()\n",
    "print(type(a),a)\n",
    "len(a)"
   ]
  },
  {
   "cell_type": "code",
   "execution_count": 11,
   "id": "b7b73392-a016-4abc-aa65-330e4ae1fe50",
   "metadata": {},
   "outputs": [
    {
     "name": "stdout",
     "output_type": "stream",
     "text": [
      "<class 'dict'> {}\n"
     ]
    },
    {
     "data": {
      "text/plain": [
       "0"
      ]
     },
     "execution_count": 11,
     "metadata": {},
     "output_type": "execute_result"
    }
   ],
   "source": [
    "a={}\n",
    "print(type(a),a)\n",
    "len(a)"
   ]
  },
  {
   "cell_type": "code",
   "execution_count": 13,
   "id": "01ab6b0f-b6d9-4daa-bfa9-57166072236a",
   "metadata": {},
   "outputs": [],
   "source": [
    "b={1:'r',2.0:'t','3':'y',(2,3,3):'q',frozenset({2}):'s'}"
   ]
  },
  {
   "cell_type": "code",
   "execution_count": 17,
   "id": "d7dea667-aa60-46cb-baf2-097907da7834",
   "metadata": {},
   "outputs": [
    {
     "name": "stdout",
     "output_type": "stream",
     "text": [
      "<class 'dict'> {1: 'r', 2.0: 't', '3': 'y', (2, 3, 3): 'q', frozenset({2}): 's'}\n"
     ]
    }
   ],
   "source": [
    "print(type(b),b)"
   ]
  },
  {
   "cell_type": "code",
   "execution_count": 26,
   "id": "126a7839-8e8b-4dac-a1b0-34125ed5aa21",
   "metadata": {},
   "outputs": [],
   "source": [
    "c={1:{\"student\":\"suraj\",\"father\":\"anil\",\"mother\":\"poonam\"},2:{\"student\":\"ravi\",\"father\":\"mahavir\",\"mother\":\"palu\"}}"
   ]
  },
  {
   "cell_type": "code",
   "execution_count": 27,
   "id": "75fe414d-4f39-4d89-aa4a-13d72903f727",
   "metadata": {},
   "outputs": [
    {
     "name": "stdout",
     "output_type": "stream",
     "text": [
      "{1: {'student': 'suraj', 'father': 'anil', 'mother': 'poonam'}, 2: {'student': 'ravi', 'father': 'mahavir', 'mother': 'palu'}}\n"
     ]
    }
   ],
   "source": [
    "print(c)"
   ]
  },
  {
   "cell_type": "code",
   "execution_count": 31,
   "id": "2705add2-f1a1-43ae-aee7-a21ba7ce4f2c",
   "metadata": {},
   "outputs": [
    {
     "data": {
      "text/plain": [
       "'ravi'"
      ]
     },
     "execution_count": 31,
     "metadata": {},
     "output_type": "execute_result"
    }
   ],
   "source": [
    "c[2][\"student\"]\n"
   ]
  },
  {
   "cell_type": "code",
   "execution_count": 32,
   "id": "9624809b-2e99-492f-9b9c-4ad4ab297367",
   "metadata": {},
   "outputs": [
    {
     "data": {
      "text/plain": [
       "'mahavir'"
      ]
     },
     "execution_count": 32,
     "metadata": {},
     "output_type": "execute_result"
    }
   ],
   "source": [
    "c[2][\"father\"]"
   ]
  },
  {
   "cell_type": "code",
   "execution_count": 33,
   "id": "369168f5-4ef7-41d5-abda-8e591d3f47d2",
   "metadata": {},
   "outputs": [
    {
     "ename": "TypeError",
     "evalue": "unsupported operand type(s) for +: 'dict' and 'dict'",
     "output_type": "error",
     "traceback": [
      "\u001b[1;31m---------------------------------------------------------------------------\u001b[0m",
      "\u001b[1;31mTypeError\u001b[0m                                 Traceback (most recent call last)",
      "Cell \u001b[1;32mIn[33], line 1\u001b[0m\n\u001b[1;32m----> 1\u001b[0m \u001b[43m{\u001b[49m\u001b[38;5;124;43m\"\u001b[39;49m\u001b[38;5;124;43mstudent\u001b[39;49m\u001b[38;5;124;43m\"\u001b[39;49m\u001b[43m:\u001b[49m\u001b[38;5;124;43m\"\u001b[39;49m\u001b[38;5;124;43msuraj\u001b[39;49m\u001b[38;5;124;43m\"\u001b[39;49m\u001b[43m,\u001b[49m\u001b[38;5;124;43m\"\u001b[39;49m\u001b[38;5;124;43mfather\u001b[39;49m\u001b[38;5;124;43m\"\u001b[39;49m\u001b[43m:\u001b[49m\u001b[38;5;124;43m\"\u001b[39;49m\u001b[38;5;124;43manil\u001b[39;49m\u001b[38;5;124;43m\"\u001b[39;49m\u001b[43m,\u001b[49m\u001b[38;5;124;43m\"\u001b[39;49m\u001b[38;5;124;43mmother\u001b[39;49m\u001b[38;5;124;43m\"\u001b[39;49m\u001b[43m:\u001b[49m\u001b[38;5;124;43m\"\u001b[39;49m\u001b[38;5;124;43mpoonam\u001b[39;49m\u001b[38;5;124;43m\"\u001b[39;49m\u001b[43m}\u001b[49m\u001b[38;5;241;43m+\u001b[39;49m\u001b[43m{\u001b[49m\u001b[38;5;124;43m\"\u001b[39;49m\u001b[38;5;124;43mstudent\u001b[39;49m\u001b[38;5;124;43m\"\u001b[39;49m\u001b[43m:\u001b[49m\u001b[38;5;124;43m\"\u001b[39;49m\u001b[38;5;124;43mravi\u001b[39;49m\u001b[38;5;124;43m\"\u001b[39;49m\u001b[43m,\u001b[49m\u001b[38;5;124;43m\"\u001b[39;49m\u001b[38;5;124;43mfather\u001b[39;49m\u001b[38;5;124;43m\"\u001b[39;49m\u001b[43m:\u001b[49m\u001b[38;5;124;43m\"\u001b[39;49m\u001b[38;5;124;43mmahavir\u001b[39;49m\u001b[38;5;124;43m\"\u001b[39;49m\u001b[43m,\u001b[49m\u001b[38;5;124;43m\"\u001b[39;49m\u001b[38;5;124;43mmother\u001b[39;49m\u001b[38;5;124;43m\"\u001b[39;49m\u001b[43m:\u001b[49m\u001b[38;5;124;43m\"\u001b[39;49m\u001b[38;5;124;43mpalu\u001b[39;49m\u001b[38;5;124;43m\"\u001b[39;49m\u001b[43m}\u001b[49m\n",
      "\u001b[1;31mTypeError\u001b[0m: unsupported operand type(s) for +: 'dict' and 'dict'"
     ]
    }
   ],
   "source": [
    "{\"student\":\"suraj\",\"father\":\"anil\",\"mother\":\"poonam\"}+{\"student\":\"ravi\",\"father\":\"mahavir\",\"mother\":\"palu\"}"
   ]
  },
  {
   "cell_type": "markdown",
   "id": "70ddfcc5-7f7e-4e5d-bc28-633031c3956e",
   "metadata": {},
   "source": [
    "METHODS:-"
   ]
  },
  {
   "cell_type": "code",
   "execution_count": 34,
   "id": "4fc17716-233b-40ec-83f0-fbb9b950052b",
   "metadata": {},
   "outputs": [
    {
     "data": {
      "text/plain": [
       "{1: 'suraj', 2: 'mohit', 3: 'rahul'}"
      ]
     },
     "execution_count": 34,
     "metadata": {},
     "output_type": "execute_result"
    }
   ],
   "source": [
    "a={1:\"suraj\",2:\"mohit\",3:'rahul'}\n",
    "a"
   ]
  },
  {
   "cell_type": "code",
   "execution_count": 37,
   "id": "fc7af020-b524-4e14-91d2-4b37dc5d02f6",
   "metadata": {},
   "outputs": [
    {
     "name": "stdout",
     "output_type": "stream",
     "text": [
      "{1: 'suraj', 2: 'mohit', 3: 'rahul', 4: 'rohit'}\n"
     ]
    }
   ],
   "source": [
    "a.update({4:\"rohit\"})\n",
    "print(a)"
   ]
  },
  {
   "cell_type": "code",
   "execution_count": 39,
   "id": "170f3772-b6f4-48fd-bfb9-7bfb60c469db",
   "metadata": {},
   "outputs": [
    {
     "ename": "KeyError",
     "evalue": "10",
     "output_type": "error",
     "traceback": [
      "\u001b[1;31m---------------------------------------------------------------------------\u001b[0m",
      "\u001b[1;31mKeyError\u001b[0m                                  Traceback (most recent call last)",
      "Cell \u001b[1;32mIn[39], line 1\u001b[0m\n\u001b[1;32m----> 1\u001b[0m \u001b[43ma\u001b[49m\u001b[43m[\u001b[49m\u001b[38;5;241;43m10\u001b[39;49m\u001b[43m]\u001b[49m\n",
      "\u001b[1;31mKeyError\u001b[0m: 10"
     ]
    }
   ],
   "source": [
    "a[10] # if we call key which is not exist in dictionary.we get error."
   ]
  },
  {
   "cell_type": "code",
   "execution_count": 42,
   "id": "7bd0dfc0-c8b8-45e8-aea8-e77884134677",
   "metadata": {},
   "outputs": [],
   "source": [
    "a.get(10) #if we call key which is not exist in dictionary.we can't get error."
   ]
  },
  {
   "cell_type": "code",
   "execution_count": 47,
   "id": "47e31054-67f9-4d21-b8d7-a1e75ec27268",
   "metadata": {},
   "outputs": [
    {
     "name": "stdout",
     "output_type": "stream",
     "text": [
      "{1: 'suraj', 2: 'mohit', 3: 'rahul'}\n"
     ]
    }
   ],
   "source": [
    "print(a)"
   ]
  },
  {
   "cell_type": "code",
   "execution_count": 49,
   "id": "27ea90b0-8cba-4b5b-a046-3daffa3e7a98",
   "metadata": {},
   "outputs": [
    {
     "name": "stdout",
     "output_type": "stream",
     "text": [
      "{1: 'suraj', 2: 'mohit'}\n"
     ]
    }
   ],
   "source": [
    "a.pop(3) # it work on indexing\n",
    "print(a)"
   ]
  },
  {
   "cell_type": "code",
   "execution_count": 50,
   "id": "dd57a3b0-e99a-47b8-bc7d-1d0e211cb01a",
   "metadata": {},
   "outputs": [
    {
     "data": {
      "text/plain": [
       "{1: 'suraj', 2: 'mohit', 3: 'rahul', 4: 'rohit'}"
      ]
     },
     "execution_count": 50,
     "metadata": {},
     "output_type": "execute_result"
    }
   ],
   "source": [
    "a={1: 'suraj', 2: 'mohit', 3: 'rahul', 4: 'rohit'}\n",
    "a"
   ]
  },
  {
   "cell_type": "code",
   "execution_count": 51,
   "id": "6ea99266-13e3-4a7c-9892-85c5ab8821ab",
   "metadata": {},
   "outputs": [
    {
     "data": {
      "text/plain": [
       "(4, 'rohit')"
      ]
     },
     "execution_count": 51,
     "metadata": {},
     "output_type": "execute_result"
    }
   ],
   "source": [
    "a.popitem() # it delete last value."
   ]
  },
  {
   "cell_type": "code",
   "execution_count": 52,
   "id": "56aac370-6305-456b-b197-c15bb44a5f07",
   "metadata": {},
   "outputs": [],
   "source": [
    "a.clear()"
   ]
  },
  {
   "cell_type": "code",
   "execution_count": 53,
   "id": "847b91bf-39f4-4329-8005-69ddf003131f",
   "metadata": {},
   "outputs": [
    {
     "data": {
      "text/plain": [
       "{}"
      ]
     },
     "execution_count": 53,
     "metadata": {},
     "output_type": "execute_result"
    }
   ],
   "source": [
    "a"
   ]
  },
  {
   "cell_type": "code",
   "execution_count": 72,
   "id": "a81d87b2-848f-486f-b0aa-ced68e9d0445",
   "metadata": {},
   "outputs": [],
   "source": [
    "b={1:'suraj',2: 'mohit',3: 'rahul'}"
   ]
  },
  {
   "cell_type": "code",
   "execution_count": 73,
   "id": "e20b1daf-585d-4094-b4fe-45e5cb6210b0",
   "metadata": {},
   "outputs": [
    {
     "name": "stdout",
     "output_type": "stream",
     "text": [
      "2146630609664 {1: 'suraj', 2: 'mohit', 3: 'rahul'}\n"
     ]
    }
   ],
   "source": [
    "print(id(b),b)"
   ]
  },
  {
   "cell_type": "code",
   "execution_count": 74,
   "id": "058e911a-ea31-49c6-8244-b16b77256085",
   "metadata": {},
   "outputs": [],
   "source": [
    "a=b.copy()"
   ]
  },
  {
   "cell_type": "code",
   "execution_count": 75,
   "id": "f24adefc-79cd-42eb-ad17-27e1e8de3afa",
   "metadata": {},
   "outputs": [
    {
     "name": "stdout",
     "output_type": "stream",
     "text": [
      "2146631458944 {1: 'suraj', 2: 'mohit', 3: 'rahul'}\n"
     ]
    }
   ],
   "source": [
    "print(id(a),a)"
   ]
  },
  {
   "cell_type": "code",
   "execution_count": 76,
   "id": "4f58116c-e9f5-4dc0-a11e-7e6853c971cc",
   "metadata": {},
   "outputs": [
    {
     "data": {
      "text/plain": [
       "'required'"
      ]
     },
     "execution_count": 76,
     "metadata": {},
     "output_type": "execute_result"
    }
   ],
   "source": [
    "b.setdefault('trainer','required')"
   ]
  },
  {
   "cell_type": "code",
   "execution_count": 84,
   "id": "0a032c30-972c-489a-acf8-82b2e25a53f8",
   "metadata": {},
   "outputs": [
    {
     "data": {
      "text/plain": [
       "{1: 'suraj', 2: 'mohit', 3: 'rahul', 'trainer': 'suraj'}"
      ]
     },
     "execution_count": 84,
     "metadata": {},
     "output_type": "execute_result"
    }
   ],
   "source": [
    "b"
   ]
  },
  {
   "cell_type": "code",
   "execution_count": 79,
   "id": "5a95fd28-ff8d-4edf-a913-d62ae8def87b",
   "metadata": {},
   "outputs": [
    {
     "data": {
      "text/plain": [
       "{1: 'suraj', 2: 'mohit', 3: 'rahul', 'trainer': 'suraj'}"
      ]
     },
     "execution_count": 79,
     "metadata": {},
     "output_type": "execute_result"
    }
   ],
   "source": [
    "b[\"trainer\"]=\"suraj\"\n",
    "b"
   ]
  },
  {
   "cell_type": "code",
   "execution_count": 80,
   "id": "1932f97b-df98-4d2c-b294-af3374862a3f",
   "metadata": {},
   "outputs": [
    {
     "data": {
      "text/plain": [
       "{1: 'available',\n",
       " 2: 'available',\n",
       " 3: 'available',\n",
       " 4: 'available',\n",
       " 5: 'available',\n",
       " 6: 'available',\n",
       " 7: 'available',\n",
       " 8: 'available',\n",
       " 9: 'available',\n",
       " 10: 'available'}"
      ]
     },
     "execution_count": 80,
     "metadata": {},
     "output_type": "execute_result"
    }
   ],
   "source": [
    "b.fromkeys([1,2,3,4,5,6,7,8,9,10],\"available\")"
   ]
  },
  {
   "cell_type": "code",
   "execution_count": 81,
   "id": "288751e7-c1d3-4942-ae79-e1f975eb7794",
   "metadata": {},
   "outputs": [
    {
     "data": {
      "text/plain": [
       "dict_items([(1, 'suraj'), (2, 'mohit'), (3, 'rahul'), ('trainer', 'suraj')])"
      ]
     },
     "execution_count": 81,
     "metadata": {},
     "output_type": "execute_result"
    }
   ],
   "source": [
    "b.items()"
   ]
  },
  {
   "cell_type": "code",
   "execution_count": 82,
   "id": "cf4acf71-b7c0-45f2-b60b-59b59faae6c3",
   "metadata": {},
   "outputs": [
    {
     "data": {
      "text/plain": [
       "dict_keys([1, 2, 3, 'trainer'])"
      ]
     },
     "execution_count": 82,
     "metadata": {},
     "output_type": "execute_result"
    }
   ],
   "source": [
    "b.keys()"
   ]
  },
  {
   "cell_type": "code",
   "execution_count": 83,
   "id": "5e8af971-cddb-4595-b8c4-a6fd7beff052",
   "metadata": {},
   "outputs": [
    {
     "data": {
      "text/plain": [
       "dict_values(['suraj', 'mohit', 'rahul', 'suraj'])"
      ]
     },
     "execution_count": 83,
     "metadata": {},
     "output_type": "execute_result"
    }
   ],
   "source": [
    "b.values()"
   ]
  },
  {
   "cell_type": "code",
   "execution_count": null,
   "id": "61b81476-166c-4f94-aa95-25b70045395f",
   "metadata": {},
   "outputs": [],
   "source": []
  }
 ],
 "metadata": {
  "kernelspec": {
   "display_name": "Python 3 (ipykernel)",
   "language": "python",
   "name": "python3"
  },
  "language_info": {
   "codemirror_mode": {
    "name": "ipython",
    "version": 3
   },
   "file_extension": ".py",
   "mimetype": "text/x-python",
   "name": "python",
   "nbconvert_exporter": "python",
   "pygments_lexer": "ipython3",
   "version": "3.10.9"
  },
  "toc-autonumbering": true,
  "toc-showcode": true,
  "toc-showmarkdowntxt": true,
  "toc-showtags": true
 },
 "nbformat": 4,
 "nbformat_minor": 5
}
