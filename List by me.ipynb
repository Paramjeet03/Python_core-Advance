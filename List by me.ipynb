{
 "cells": [
  {
   "cell_type": "markdown",
   "id": "dcccca20-10f0-4ba4-9ea0-83f6c5fe1b2e",
   "metadata": {},
   "source": [
    "# List:- it is the set of element\n",
    "\n",
    ">List constructor is list()\n",
    "\n",
    ">List literal is []\n",
    "\n",
    ">List is a set of sequence of elements(datatypes)\n",
    "\n",
    ">List is mutable(unhashable)\n",
    "\n",
    ">List support indexing\n",
    "\n",
    ">List support slicing\n",
    "\n",
    ">List support concatination\n",
    "\n",
    ">List support nested list\n",
    "\n",
    ">List methods."
   ]
  },
  {
   "cell_type": "code",
   "execution_count": 2,
   "id": "a58b0238-8ba3-424a-b14a-f0f2bdb2430a",
   "metadata": {},
   "outputs": [
    {
     "name": "stdout",
     "output_type": "stream",
     "text": [
      "[10, 10.0, '10']\n"
     ]
    }
   ],
   "source": [
    "a=10\n",
    "b=10.0\n",
    "c='10'\n",
    "d=[a,b,c]\n",
    "print(d)"
   ]
  },
  {
   "cell_type": "code",
   "execution_count": 22,
   "id": "a9c3ba04-e168-49d4-906a-0d06bc070398",
   "metadata": {},
   "outputs": [
    {
     "data": {
      "text/plain": [
       "[1, 1.2, '3', [5]]"
      ]
     },
     "execution_count": 22,
     "metadata": {},
     "output_type": "execute_result"
    }
   ],
   "source": [
    "# indexing:-\n",
    "a=[1,1.2,'3',[5]]\n",
    "a"
   ]
  },
  {
   "cell_type": "code",
   "execution_count": 21,
   "id": "8d492fa9-ca96-4610-8c0f-772733ee538a",
   "metadata": {},
   "outputs": [
    {
     "data": {
      "text/plain": [
       "[5]"
      ]
     },
     "execution_count": 21,
     "metadata": {},
     "output_type": "execute_result"
    }
   ],
   "source": [
    "b=a[3]\n",
    "b"
   ]
  },
  {
   "cell_type": "markdown",
   "id": "47828160-b342-4060-bcba-7a3350df708b",
   "metadata": {},
   "source": [
    "### slicing:- it is similiar 2 indexing but in indexing we can access only 1 element in list or in slicing we can access multiple value"
   ]
  },
  {
   "cell_type": "code",
   "execution_count": 26,
   "id": "65b19d36-5ff1-46e8-8a7e-a35cd39ea984",
   "metadata": {},
   "outputs": [
    {
     "data": {
      "text/plain": [
       "[1, 2.0, '10', [4, 6.7, 3], '10']"
      ]
     },
     "execution_count": 26,
     "metadata": {},
     "output_type": "execute_result"
    }
   ],
   "source": [
    "a=[1,2.0,'10',[4,6.7,3],'10']\n",
    "a"
   ]
  },
  {
   "cell_type": "code",
   "execution_count": 41,
   "id": "620ae0ea-b947-471d-ba06-ce23dec17e45",
   "metadata": {},
   "outputs": [
    {
     "data": {
      "text/plain": [
       "[1, 2.0, '10', [4, 6.7, 3]]"
      ]
     },
     "execution_count": 41,
     "metadata": {},
     "output_type": "execute_result"
    }
   ],
   "source": [
    "b=a[0:4:1]\n",
    "b"
   ]
  },
  {
   "cell_type": "code",
   "execution_count": 54,
   "id": "eae409da-b329-46a3-b530-8972ba737e09",
   "metadata": {},
   "outputs": [
    {
     "data": {
      "text/plain": [
       "[1, 2, 3, 4, 5, 6, 7, 8, 9]"
      ]
     },
     "execution_count": 54,
     "metadata": {},
     "output_type": "execute_result"
    }
   ],
   "source": [
    "a=[1,2,3,4,5,7]\n",
    "a\n",
    "b=[1,2,3,4,5,6,7,8,9]\n",
    "b\n"
   ]
  },
  {
   "cell_type": "code",
   "execution_count": 53,
   "id": "e1862bef-92cd-4e86-886b-900aaf213c4d",
   "metadata": {},
   "outputs": [
    {
     "data": {
      "text/plain": [
       "[1, 2, 3, 4, 5, 7, 1, 2, 3, 4, 5, 6, 7, 8, 9]"
      ]
     },
     "execution_count": 53,
     "metadata": {},
     "output_type": "execute_result"
    }
   ],
   "source": [
    "c=a+b\n",
    "c"
   ]
  },
  {
   "cell_type": "code",
   "execution_count": 55,
   "id": "7ec5fa85-ff97-4925-aef0-01786f31f089",
   "metadata": {},
   "outputs": [
    {
     "name": "stdout",
     "output_type": "stream",
     "text": [
      "<class 'list'>\n"
     ]
    }
   ],
   "source": [
    "a=[1,2,3,4,5,7]\n",
    "print(type(a))"
   ]
  },
  {
   "cell_type": "code",
   "execution_count": 5,
   "id": "cfd6328f-54e5-4337-8327-f4a583403135",
   "metadata": {},
   "outputs": [
    {
     "name": "stdout",
     "output_type": "stream",
     "text": [
      "<class 'list'> []\n"
     ]
    }
   ],
   "source": [
    "a=list()  # it is a method to display the null list.\n",
    "print(type(a),a)"
   ]
  },
  {
   "cell_type": "code",
   "execution_count": 7,
   "id": "18851dcc-b79f-460c-b5dc-95906e436a1a",
   "metadata": {},
   "outputs": [
    {
     "name": "stdout",
     "output_type": "stream",
     "text": [
      "<class 'list'> []\n"
     ]
    }
   ],
   "source": [
    "a=[]\n",
    "print(type(a),a) #it is a method to display the null list."
   ]
  },
  {
   "cell_type": "markdown",
   "id": "75a76cf7-f182-4241-8458-72a40a216759",
   "metadata": {},
   "source": [
    "METHOD OF LIST:-"
   ]
  },
  {
   "cell_type": "code",
   "execution_count": 1,
   "id": "54fbb8df-4cdd-4bc7-82bb-9e8193a32585",
   "metadata": {},
   "outputs": [
    {
     "name": "stdout",
     "output_type": "stream",
     "text": [
      "[1, 2, 3, [7, 8, 9, 0], 1, 2]\n"
     ]
    },
    {
     "data": {
      "text/plain": [
       "2156075360640"
      ]
     },
     "execution_count": 1,
     "metadata": {},
     "output_type": "execute_result"
    }
   ],
   "source": [
    "# append:- it is a type of method which use to add element in a list. it store 1 element at a time other wise it show the error.\n",
    "b=[1,2,3,[7,8,9,0],1,2]\n",
    "print(b)\n",
    "id(b)"
   ]
  },
  {
   "cell_type": "code",
   "execution_count": 2,
   "id": "d20ece69-3ab6-499e-950b-1183a331079d",
   "metadata": {},
   "outputs": [],
   "source": [
    "b.append(10)"
   ]
  },
  {
   "cell_type": "code",
   "execution_count": 3,
   "id": "9e2a0810-87ea-48a4-8c3c-ae9ea9f30289",
   "metadata": {},
   "outputs": [
    {
     "name": "stdout",
     "output_type": "stream",
     "text": [
      "2156075360640 [1, 2, 3, [7, 8, 9, 0], 1, 2, 10]\n"
     ]
    }
   ],
   "source": [
    "print(id(b),b)"
   ]
  },
  {
   "cell_type": "raw",
   "id": "9e1b43a7-41be-4cb3-bc3b-c5af0d8d907f",
   "metadata": {},
   "source": [
    "As we see in upper method we add the element in list but it not change there adderss.this type of data type\n",
    "is knownas mutable data type(unhashable)."
   ]
  },
  {
   "cell_type": "code",
   "execution_count": 39,
   "id": "ef02926b-3746-4974-b27a-1fe0e0873d01",
   "metadata": {},
   "outputs": [
    {
     "name": "stdout",
     "output_type": "stream",
     "text": [
      "<class 'list'> [1, 2, 3, 4, [10.1, 1, 3], 3.4]\n"
     ]
    }
   ],
   "source": [
    "#clear:- it is method which use to remove all elemnts in a list.\n",
    "a=[1,2,3,4,[10.1,1,3],3.4]\n",
    "print(type(a),a)"
   ]
  },
  {
   "cell_type": "code",
   "execution_count": 37,
   "id": "e0e4f275-9e1a-4bd0-b7b6-b30eb09f1e48",
   "metadata": {},
   "outputs": [],
   "source": [
    "a.clear()"
   ]
  },
  {
   "cell_type": "code",
   "execution_count": 38,
   "id": "7df30b7e-8141-4e22-807b-b9652829aac4",
   "metadata": {},
   "outputs": [
    {
     "name": "stdout",
     "output_type": "stream",
     "text": [
      "[]\n"
     ]
    }
   ],
   "source": [
    "print(a)"
   ]
  },
  {
   "cell_type": "code",
   "execution_count": 27,
   "id": "4551ecb2-24df-423b-855f-ed2f9d616b13",
   "metadata": {},
   "outputs": [
    {
     "data": {
      "text/plain": [
       "[1, 2, 3, 4, [10.1, 1, 3], 3.4, 10, 10.0, 10.0, 10]"
      ]
     },
     "execution_count": 27,
     "metadata": {},
     "output_type": "execute_result"
    }
   ],
   "source": [
    "#count:-it is use 2 count the same element in a list.\n",
    "#IN count int and float data type considered same as shown below.\n",
    "c=[1, 2, 3, 4, [10.1, 1, 3], 3.4,10,10.0,10.0,10]\n",
    "c"
   ]
  },
  {
   "cell_type": "code",
   "execution_count": 28,
   "id": "1c4fc69a-c7cb-45bf-a02e-a7d7331614b5",
   "metadata": {},
   "outputs": [
    {
     "data": {
      "text/plain": [
       "4"
      ]
     },
     "execution_count": 28,
     "metadata": {},
     "output_type": "execute_result"
    }
   ],
   "source": [
    "c.count(10.0)"
   ]
  },
  {
   "cell_type": "code",
   "execution_count": 11,
   "id": "0060f74e-22fc-4f0c-b1d1-1145655212ef",
   "metadata": {},
   "outputs": [
    {
     "name": "stdout",
     "output_type": "stream",
     "text": [
      "[1, 2, 3, 4]\n"
     ]
    },
    {
     "data": {
      "text/plain": [
       "2156074504832"
      ]
     },
     "execution_count": 11,
     "metadata": {},
     "output_type": "execute_result"
    }
   ],
   "source": [
    "#extend:- it is a type of method which use to add another list of element in a list.\n",
    "q=[1, 2, 3, 4]\n",
    "c=[ 1, 2, 3, 4, 5, 5]\n",
    "print(q)\n",
    "id(q)"
   ]
  },
  {
   "cell_type": "code",
   "execution_count": 8,
   "id": "05b3c243-a328-4cdb-8b8a-ddc0b87c3e52",
   "metadata": {},
   "outputs": [],
   "source": [
    "q.extend(c)"
   ]
  },
  {
   "cell_type": "code",
   "execution_count": 10,
   "id": "ab5ac639-568d-4279-980c-de39da50cf47",
   "metadata": {},
   "outputs": [
    {
     "name": "stdout",
     "output_type": "stream",
     "text": [
      "[1, 2, 3, 4, 1, 2, 3, 4, 5, 5]\n"
     ]
    },
    {
     "data": {
      "text/plain": [
       "2156075357440"
      ]
     },
     "execution_count": 10,
     "metadata": {},
     "output_type": "execute_result"
    }
   ],
   "source": [
    "print(q)\n",
    "id(q)"
   ]
  },
  {
   "cell_type": "code",
   "execution_count": 75,
   "id": "deb88b51-b1ea-49ea-b0d3-4b6be0897e60",
   "metadata": {},
   "outputs": [
    {
     "data": {
      "text/plain": [
       "[1, 2, 3, 4, 5, 5]"
      ]
     },
     "execution_count": 75,
     "metadata": {},
     "output_type": "execute_result"
    }
   ],
   "source": [
    "#index:-it is a type of method which use to find the index no. of an element in a list.\n",
    "\n",
    "c=[ 1, 2, 3, 4, 5, 5]\n",
    "c"
   ]
  },
  {
   "cell_type": "code",
   "execution_count": 76,
   "id": "3d036556-abfe-46ca-b8e9-ce66fcd557a6",
   "metadata": {},
   "outputs": [
    {
     "data": {
      "text/plain": [
       "2"
      ]
     },
     "execution_count": 76,
     "metadata": {},
     "output_type": "execute_result"
    }
   ],
   "source": [
    "c.index(3)"
   ]
  },
  {
   "cell_type": "code",
   "execution_count": 2,
   "id": "909039d4-d2d1-4d43-9e01-4e77aaafae60",
   "metadata": {},
   "outputs": [
    {
     "data": {
      "text/plain": [
       "[1, 2, 3, 4, 5, 5]"
      ]
     },
     "execution_count": 2,
     "metadata": {},
     "output_type": "execute_result"
    }
   ],
   "source": [
    "#pop:-it is a type of method which is delete the last element of list if we guide the pop with the help of indexing it delete index element. \n",
    "c=[ 1, 2, 3, 4, 5, 5]\n",
    "c"
   ]
  },
  {
   "cell_type": "code",
   "execution_count": 4,
   "id": "02fb7ab7-f95f-47b1-b4fe-27f2a3a3dea2",
   "metadata": {},
   "outputs": [
    {
     "data": {
      "text/plain": [
       "4"
      ]
     },
     "execution_count": 4,
     "metadata": {},
     "output_type": "execute_result"
    }
   ],
   "source": [
    "c.pop(3)"
   ]
  },
  {
   "cell_type": "code",
   "execution_count": 5,
   "id": "ca89f081-6318-4399-9344-950082d2ae54",
   "metadata": {},
   "outputs": [
    {
     "data": {
      "text/plain": [
       "[1, 2, 3, 5]"
      ]
     },
     "execution_count": 5,
     "metadata": {},
     "output_type": "execute_result"
    }
   ],
   "source": [
    "c"
   ]
  },
  {
   "cell_type": "code",
   "execution_count": 6,
   "id": "07ed93fc-2e74-41dd-a685-a09bd4075888",
   "metadata": {},
   "outputs": [
    {
     "data": {
      "text/plain": [
       "5"
      ]
     },
     "execution_count": 6,
     "metadata": {},
     "output_type": "execute_result"
    }
   ],
   "source": [
    "c.pop()"
   ]
  },
  {
   "cell_type": "code",
   "execution_count": 92,
   "id": "ff2ee25a-3b53-4633-a2c7-b9976a68d10b",
   "metadata": {},
   "outputs": [
    {
     "data": {
      "text/plain": [
       "[1, 2, 3, 4]"
      ]
     },
     "execution_count": 92,
     "metadata": {},
     "output_type": "execute_result"
    }
   ],
   "source": [
    "c"
   ]
  },
  {
   "cell_type": "code",
   "execution_count": 4,
   "id": "5e142691-9a4a-46ac-8cee-d5ebdb2d6237",
   "metadata": {},
   "outputs": [
    {
     "data": {
      "text/plain": [
       "[1, 2, 3, 4, 5, 6]"
      ]
     },
     "execution_count": 4,
     "metadata": {},
     "output_type": "execute_result"
    }
   ],
   "source": [
    "#remove:-it is a type of method which is delete the element.\n",
    "e=[ 1, 2, 3, 4, 5, 6]\n",
    "e"
   ]
  },
  {
   "cell_type": "code",
   "execution_count": 5,
   "id": "3f80d308-68ae-42cf-afdd-e006e24799b5",
   "metadata": {},
   "outputs": [],
   "source": [
    "e.remove(5)"
   ]
  },
  {
   "cell_type": "code",
   "execution_count": 6,
   "id": "13428dfa-2e2b-44f0-9bee-1fbc253303c4",
   "metadata": {},
   "outputs": [
    {
     "data": {
      "text/plain": [
       "[1, 2, 3, 4, 6]"
      ]
     },
     "execution_count": 6,
     "metadata": {},
     "output_type": "execute_result"
    }
   ],
   "source": [
    "e"
   ]
  },
  {
   "cell_type": "code",
   "execution_count": 20,
   "id": "9b82a3b4-94b4-48cb-a15a-51d181a4a67c",
   "metadata": {},
   "outputs": [
    {
     "data": {
      "text/plain": [
       "[1, 2, 45, 6, 7]"
      ]
     },
     "execution_count": 20,
     "metadata": {},
     "output_type": "execute_result"
    }
   ],
   "source": [
    "s=[1,2,3,45,6,7]\n",
    "s.remove(3)\n",
    "s"
   ]
  },
  {
   "cell_type": "code",
   "execution_count": 21,
   "id": "7b7295a6-95ae-4b99-8d86-59006b696c95",
   "metadata": {},
   "outputs": [
    {
     "ename": "ValueError",
     "evalue": "list.remove(x): x not in list",
     "output_type": "error",
     "traceback": [
      "\u001b[1;31m---------------------------------------------------------------------------\u001b[0m",
      "\u001b[1;31mValueError\u001b[0m                                Traceback (most recent call last)",
      "Cell \u001b[1;32mIn[21], line 1\u001b[0m\n\u001b[1;32m----> 1\u001b[0m \u001b[43ms\u001b[49m\u001b[38;5;241;43m.\u001b[39;49m\u001b[43mremove\u001b[49m\u001b[43m(\u001b[49m\u001b[38;5;241;43m120\u001b[39;49m\u001b[43m)\u001b[49m\n",
      "\u001b[1;31mValueError\u001b[0m: list.remove(x): x not in list"
     ]
    }
   ],
   "source": [
    "s.remove(120)"
   ]
  },
  {
   "cell_type": "markdown",
   "id": "a2a3db98-637e-409b-898b-5f7752a06ec9",
   "metadata": {
    "tags": []
   },
   "source": [
    "## it give error when data not exist in list"
   ]
  },
  {
   "cell_type": "code",
   "execution_count": 125,
   "id": "27ce0955-f774-4bb0-bedb-b1dcc4317102",
   "metadata": {},
   "outputs": [
    {
     "data": {
      "text/plain": [
       "[7, 6, 3, 8, 4, 4, 9, 75, 412345, 9876, 23456, 87654]"
      ]
     },
     "execution_count": 125,
     "metadata": {},
     "output_type": "execute_result"
    }
   ],
   "source": [
    "#reverse:- it reverse the position of all element\n",
    "t=[7,6,3,8,4,4,9,75,412345,9876,23456,87654]\n",
    "t"
   ]
  },
  {
   "cell_type": "code",
   "execution_count": 126,
   "id": "ebf7791b-31a1-4225-b8bf-130d549085df",
   "metadata": {},
   "outputs": [],
   "source": [
    "t.reverse()"
   ]
  },
  {
   "cell_type": "code",
   "execution_count": 127,
   "id": "4bea0c51-8290-4e74-87d9-3cb87a3b95fa",
   "metadata": {},
   "outputs": [
    {
     "data": {
      "text/plain": [
       "[87654, 23456, 9876, 412345, 75, 9, 4, 4, 8, 3, 6, 7]"
      ]
     },
     "execution_count": 127,
     "metadata": {},
     "output_type": "execute_result"
    }
   ],
   "source": [
    "t"
   ]
  },
  {
   "cell_type": "code",
   "execution_count": 134,
   "id": "ffe9324d-6ada-4708-b61b-52507ef38980",
   "metadata": {},
   "outputs": [
    {
     "data": {
      "text/plain": [
       "[7, 6, 3, 8, 4, 4, 9, 75, 412345, 9876, 23456, 87654]"
      ]
     },
     "execution_count": 134,
     "metadata": {},
     "output_type": "execute_result"
    }
   ],
   "source": [
    "#sort:- it arrange all element in assending order.\n",
    "t=[7,6,3,8,4,4,9,75,412345,9876,23456,87654]\n",
    "t\n",
    "\n"
   ]
  },
  {
   "cell_type": "code",
   "execution_count": 135,
   "id": "e617dd56-e8a3-4d15-8819-26aae9fea437",
   "metadata": {},
   "outputs": [],
   "source": [
    "t.sort()"
   ]
  },
  {
   "cell_type": "code",
   "execution_count": 136,
   "id": "e17d46d5-819b-4cf2-8044-1c966d1fc0cf",
   "metadata": {},
   "outputs": [
    {
     "data": {
      "text/plain": [
       "[3, 4, 4, 6, 7, 8, 9, 75, 9876, 23456, 87654, 412345]"
      ]
     },
     "execution_count": 136,
     "metadata": {},
     "output_type": "execute_result"
    }
   ],
   "source": [
    "t"
   ]
  },
  {
   "cell_type": "code",
   "execution_count": 137,
   "id": "80476343-8887-42f2-ae69-53c944aff8a7",
   "metadata": {},
   "outputs": [],
   "source": [
    "# if we want too arrange the element in desending order . we add write reverse=True in ( ).\n",
    "t.sort(reverse=True)\n"
   ]
  },
  {
   "cell_type": "code",
   "execution_count": 146,
   "id": "f97c2362-0605-4812-912c-b5c7527f1e41",
   "metadata": {},
   "outputs": [
    {
     "data": {
      "text/plain": [
       "[412345, 87654, 23456, 9876, 75, 9, 8, 7, 6, 4, 4, 3]"
      ]
     },
     "execution_count": 146,
     "metadata": {},
     "output_type": "execute_result"
    }
   ],
   "source": [
    "t"
   ]
  },
  {
   "cell_type": "code",
   "execution_count": 150,
   "id": "8c2f3eca-ee58-4089-b1be-c1ca72a11e2a",
   "metadata": {},
   "outputs": [
    {
     "data": {
      "text/plain": [
       "12"
      ]
     },
     "execution_count": 150,
     "metadata": {},
     "output_type": "execute_result"
    }
   ],
   "source": [
    "# too find total element.not include in method\n",
    "len(t)"
   ]
  },
  {
   "cell_type": "code",
   "execution_count": 9,
   "id": "bb52228a-60a3-46ee-ba46-a93178a0dc67",
   "metadata": {},
   "outputs": [],
   "source": [
    "# del:- it remove in range\n",
    "ls=[1,2,3,45,6,7]\n",
    "del ls[1:4]"
   ]
  },
  {
   "cell_type": "code",
   "execution_count": 10,
   "id": "d5faaf42-3805-463e-97dd-0f2c1aad337d",
   "metadata": {},
   "outputs": [
    {
     "data": {
      "text/plain": [
       "[1, 6, 7]"
      ]
     },
     "execution_count": 10,
     "metadata": {},
     "output_type": "execute_result"
    }
   ],
   "source": [
    "ls"
   ]
  },
  {
   "cell_type": "code",
   "execution_count": 17,
   "id": "98be6040-1b97-44c8-a937-f775173b8641",
   "metadata": {},
   "outputs": [
    {
     "data": {
      "text/plain": [
       "[1, 4444, 2, 3, 45, 6, 7]"
      ]
     },
     "execution_count": 17,
     "metadata": {},
     "output_type": "execute_result"
    }
   ],
   "source": [
    "# insert :- it is use too add data b/w 2 index.\n",
    "ls=[1,2,3,45,6,7]\n",
    "ls.insert(1,4444)\n",
    "ls"
   ]
  },
  {
   "cell_type": "code",
   "execution_count": null,
   "id": "4f65cea2-1b9c-4c1d-a438-a288ca8f2d46",
   "metadata": {},
   "outputs": [],
   "source": []
  }
 ],
 "metadata": {
  "kernelspec": {
   "display_name": "Python 3 (ipykernel)",
   "language": "python",
   "name": "python3"
  },
  "language_info": {
   "codemirror_mode": {
    "name": "ipython",
    "version": 3
   },
   "file_extension": ".py",
   "mimetype": "text/x-python",
   "name": "python",
   "nbconvert_exporter": "python",
   "pygments_lexer": "ipython3",
   "version": "3.10.9"
  }
 },
 "nbformat": 4,
 "nbformat_minor": 5
}
