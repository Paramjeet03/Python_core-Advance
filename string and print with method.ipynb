{
 "cells": [
  {
   "cell_type": "markdown",
   "id": "7e8b7119-c5f9-45af-91c4-dbdcebb62d2a",
   "metadata": {},
   "source": [
    "# PRINT FUNCTION () :- in easy word it is a type a fun. which beautyfy the statment.\n",
    "# SYNTAX:- Print()\n",
    "# THERE are 2 hidden operator in print func.\n",
    "# 1.sep  2.end\n"
   ]
  },
  {
   "cell_type": "code",
   "execution_count": 1,
   "id": "f59c795d-1f1b-4596-befb-2df47338a344",
   "metadata": {},
   "outputs": [
    {
     "name": "stdout",
     "output_type": "stream",
     "text": [
      "hello world\n"
     ]
    }
   ],
   "source": [
    "#Example:-\n",
    "print(\"hello world\")"
   ]
  },
  {
   "cell_type": "code",
   "execution_count": 10,
   "id": "2be7aa9a-6ca4-47c3-9d15-8aceb2ddd67d",
   "metadata": {
    "scrolled": true
   },
   "outputs": [
    {
     "name": "stdout",
     "output_type": "stream",
     "text": [
      "banana mango orange\n"
     ]
    }
   ],
   "source": [
    "#note:- in any type of programming we guide the cpu. cpu do't do any thing ourself.\n",
    "print(\"banana\",\"mango\",\"orange\")"
   ]
  },
  {
   "cell_type": "markdown",
   "id": "257e2ecb-7589-4835-aec5-e4a12b1253cf",
   "metadata": {},
   "source": [
    "# There are 2 hidden operator in print()\n",
    "# 1. sep :- it use for insert things b/w 2 words\n",
    "# Syntax :- sep=\"THING\"\n"
   ]
  },
  {
   "cell_type": "code",
   "execution_count": 2,
   "id": "cccb3d5a-4727-4383-bf1f-02cbf3429df7",
   "metadata": {},
   "outputs": [
    {
     "name": "stdout",
     "output_type": "stream",
     "text": [
      "banana$mango$orange\n"
     ]
    }
   ],
   "source": [
    "print(\"banana\",\"mango\",\"orange\",sep=\"$\")"
   ]
  },
  {
   "cell_type": "code",
   "execution_count": 6,
   "id": "3a09b0d1-2641-48b3-b2a8-eaeef1ec4647",
   "metadata": {},
   "outputs": [
    {
     "name": "stdout",
     "output_type": "stream",
     "text": [
      "banana mango orange suraj tanwar\n",
      "banana mango orange\n",
      "suraj tanwar\n"
     ]
    }
   ],
   "source": [
    "#2. end:- it use to dettact the endding of line\n",
    "#default value  :- end=\"\\n\" (as we see in c and we change the this value)\n",
    "print(\"banana\",\"mango\",\"orange\",end=\" \")\n",
    "print(\"suraj tanwar\")\n",
    "\n",
    "\n",
    "#Note:-\\n use for change the line.\n",
    "\n",
    "\n",
    "print(\"banana\",\"mango\",\"orange\",end=\"\\n\")\n",
    "print(\"suraj tanwar\")"
   ]
  },
  {
   "cell_type": "code",
   "execution_count": 7,
   "id": "e345991f",
   "metadata": {},
   "outputs": [
    {
     "ename": "SyntaxError",
     "evalue": "positional argument follows keyword argument (2779855011.py, line 3)",
     "output_type": "error",
     "traceback": [
      "\u001b[1;36m  Cell \u001b[1;32mIn[7], line 3\u001b[1;36m\u001b[0m\n\u001b[1;33m    print(\"banana\",\"mango\",\"orange\",sep=\"$\",\"%\",end=\"use\",\"pt\")\u001b[0m\n\u001b[1;37m                                                              ^\u001b[0m\n\u001b[1;31mSyntaxError\u001b[0m\u001b[1;31m:\u001b[0m positional argument follows keyword argument\n"
     ]
    }
   ],
   "source": [
    "#Note:- only one thing is use in sep and end\n",
    "#for example :- \n",
    "print(\"banana\",\"mango\",\"orange\",sep=\"$\",\"%\",end=\"use\",\"pt\")\n",
    "print(\"banana\",\"mango\",\"orange\")"
   ]
  },
  {
   "cell_type": "markdown",
   "id": "17261bb2-ac5f-401f-8a33-999c25b43ba1",
   "metadata": {},
   "source": [
    "# String\n",
    "\n",
    "> string constructor is str().\n",
    "\n",
    "> string literal is (' ',\" \",''' ''',\"\"\" \"\"\").\n",
    "\n",
    "> string is a set of sequance of character\n",
    "\n",
    "> string support silicing.\n",
    "\n",
    "> string support indexing.\n",
    "\n",
    "> string support concatination.\n",
    "\n",
    "> string is immutable (also know as hashable)\n",
    "\n",
    ">string method\n"
   ]
  },
  {
   "cell_type": "code",
   "execution_count": 11,
   "id": "33d39eb5-e839-41b8-a133-ba133fd23545",
   "metadata": {
    "tags": []
   },
   "outputs": [
    {
     "ename": "SyntaxError",
     "evalue": "unterminated string literal (detected at line 2) (3267049563.py, line 2)",
     "output_type": "error",
     "traceback": [
      "\u001b[1;36m  Cell \u001b[1;32mIn[11], line 2\u001b[1;36m\u001b[0m\n\u001b[1;33m    print(\"hello\u001b[0m\n\u001b[1;37m          ^\u001b[0m\n\u001b[1;31mSyntaxError\u001b[0m\u001b[1;31m:\u001b[0m unterminated string literal (detected at line 2)\n"
     ]
    }
   ],
   "source": [
    "#> 2\n",
    "#1 (\" \")\n",
    "print(\"hello \n",
    "             world\")"
   ]
  },
  {
   "cell_type": "code",
   "execution_count": 11,
   "id": "d4dead40",
   "metadata": {},
   "outputs": [
    {
     "ename": "SyntaxError",
     "evalue": "unterminated string literal (detected at line 2) (3267049563.py, line 2)",
     "output_type": "error",
     "traceback": [
      "\u001b[1;36m  Cell \u001b[1;32mIn[11], line 2\u001b[1;36m\u001b[0m\n\u001b[1;33m    print(\"hello\u001b[0m\n\u001b[1;37m          ^\u001b[0m\n\u001b[1;31mSyntaxError\u001b[0m\u001b[1;31m:\u001b[0m unterminated string literal (detected at line 2)\n"
     ]
    }
   ],
   "source": [
    "#1 (\" \")                                    \n",
    "print(\"hello \n",
    "             world\")"
   ]
  },
  {
   "cell_type": "code",
   "execution_count": 12,
   "id": "6c482530-07f3-4371-924c-6ad60cd92a75",
   "metadata": {},
   "outputs": [
    {
     "ename": "SyntaxError",
     "evalue": "unterminated string literal (detected at line 2) (2327475181.py, line 2)",
     "output_type": "error",
     "traceback": [
      "\u001b[1;36m  Cell \u001b[1;32mIn[12], line 2\u001b[1;36m\u001b[0m\n\u001b[1;33m    print('hello\u001b[0m\n\u001b[1;37m          ^\u001b[0m\n\u001b[1;31mSyntaxError\u001b[0m\u001b[1;31m:\u001b[0m unterminated string literal (detected at line 2)\n"
     ]
    }
   ],
   "source": [
    "#2  (' ')\n",
    "print('hello \n",
    "             world')"
   ]
  },
  {
   "cell_type": "code",
   "execution_count": 12,
   "id": "40eb99a1",
   "metadata": {},
   "outputs": [
    {
     "ename": "SyntaxError",
     "evalue": "unterminated string literal (detected at line 2) (2327475181.py, line 2)",
     "output_type": "error",
     "traceback": [
      "\u001b[1;36m  Cell \u001b[1;32mIn[12], line 2\u001b[1;36m\u001b[0m\n\u001b[1;33m    print('hello\u001b[0m\n\u001b[1;37m          ^\u001b[0m\n\u001b[1;31mSyntaxError\u001b[0m\u001b[1;31m:\u001b[0m unterminated string literal (detected at line 2)\n"
     ]
    }
   ],
   "source": [
    "#2  (' ')\n",
    "print('hello \n",
    "             world')"
   ]
  },
  {
   "cell_type": "code",
   "execution_count": 13,
   "id": "d9ee23d4-60dd-4e23-abe6-a1f570ab3888",
   "metadata": {},
   "outputs": [
    {
     "name": "stdout",
     "output_type": "stream",
     "text": [
      "hello world\n"
     ]
    }
   ],
   "source": [
    "#3 (\"\"\" \"\"\")\n",
    "print(\"\"\"hello world\"\"\")"
   ]
  },
  {
   "cell_type": "code",
   "execution_count": 14,
   "id": "e264832a-6435-4230-9867-6aefa99b2924",
   "metadata": {},
   "outputs": [
    {
     "name": "stdout",
     "output_type": "stream",
     "text": [
      "hello \n",
      "\n",
      "               world\n"
     ]
    }
   ],
   "source": [
    "#3 (\"\"\" \"\"\")\n",
    "print(\"\"\"hello \n",
    "\n",
    "               world\"\"\")"
   ]
  },
  {
   "cell_type": "code",
   "execution_count": 15,
   "id": "1d6f6e1e-ddf0-45fc-a093-d452a1e7ec7a",
   "metadata": {},
   "outputs": [
    {
     "name": "stdout",
     "output_type": "stream",
     "text": [
      "hello world\n"
     ]
    }
   ],
   "source": [
    "#4 (''' ''')\n",
    "print('''hello world''')"
   ]
  },
  {
   "cell_type": "code",
   "execution_count": 16,
   "id": "32a618a9-0e6e-444a-b8a0-80e331459045",
   "metadata": {},
   "outputs": [
    {
     "name": "stdout",
     "output_type": "stream",
     "text": [
      "hello  \n",
      "\n",
      "\n",
      "              world\n"
     ]
    }
   ],
   "source": [
    "#4 (''' ''')\n",
    "print('''hello  \n",
    "\n",
    "\n",
    "              world''')"
   ]
  },
  {
   "cell_type": "code",
   "execution_count": 9,
   "id": "87612656-8639-4e08-86e1-0512b0057a8c",
   "metadata": {},
   "outputs": [
    {
     "name": "stdout",
     "output_type": "stream",
     "text": [
      "\n"
     ]
    }
   ],
   "source": [
    "#> 1\n",
    "a=str()\n",
    "print(a) #this not show the literal of string because print beautfy the given func. first"
   ]
  },
  {
   "cell_type": "code",
   "execution_count": null,
   "id": "2a817073-80a3-4975-8511-a31e7e07612e",
   "metadata": {
    "tags": []
   },
   "outputs": [],
   "source": [
    "# 5 types of method to display the literals"
   ]
  },
  {
   "cell_type": "code",
   "execution_count": 16,
   "id": "10ffffaf-fa62-484e-ba67-880100c2ab31",
   "metadata": {},
   "outputs": [
    {
     "name": "stdout",
     "output_type": "stream",
     "text": [
      "<class 'str'>\n"
     ]
    },
    {
     "data": {
      "text/plain": [
       "''"
      ]
     },
     "execution_count": 16,
     "metadata": {},
     "output_type": "execute_result"
    }
   ],
   "source": [
    "#1\n",
    "a=str()\n",
    "print(type(a)) #type is use to find the type of data #in which print line is use to identify the data type and 2nd line for display string\n",
    "a"
   ]
  },
  {
   "cell_type": "code",
   "execution_count": 15,
   "id": "72a5409d-9b91-4d4b-b737-1f55bcb74886",
   "metadata": {},
   "outputs": [
    {
     "name": "stdout",
     "output_type": "stream",
     "text": [
      "<class 'str'>\n"
     ]
    },
    {
     "data": {
      "text/plain": [
       "''"
      ]
     },
     "execution_count": 15,
     "metadata": {},
     "output_type": "execute_result"
    }
   ],
   "source": [
    "#2\n",
    "b=''\n",
    "print(type(b))\n",
    "b"
   ]
  },
  {
   "cell_type": "code",
   "execution_count": 18,
   "id": "19184d29-6c3d-4e88-b0da-5eb55e01fae7",
   "metadata": {},
   "outputs": [
    {
     "data": {
      "text/plain": [
       "''"
      ]
     },
     "execution_count": 18,
     "metadata": {},
     "output_type": "execute_result"
    }
   ],
   "source": [
    "#3\n",
    "c=\"\"\n",
    "c"
   ]
  },
  {
   "cell_type": "code",
   "execution_count": 19,
   "id": "6deaee3f-fc83-4185-9faf-5cef031dcff9",
   "metadata": {},
   "outputs": [
    {
     "data": {
      "text/plain": [
       "''"
      ]
     },
     "execution_count": 19,
     "metadata": {},
     "output_type": "execute_result"
    }
   ],
   "source": [
    "#4\n",
    "d=\"\"\"\"\"\"\n",
    "d"
   ]
  },
  {
   "cell_type": "code",
   "execution_count": 22,
   "id": "f12540cc-efa6-4e63-ac29-780c25958610",
   "metadata": {},
   "outputs": [
    {
     "data": {
      "text/plain": [
       "''"
      ]
     },
     "execution_count": 22,
     "metadata": {},
     "output_type": "execute_result"
    }
   ],
   "source": [
    "#5\n",
    "e=''''''\n",
    "e"
   ]
  },
  {
   "cell_type": "markdown",
   "id": "67a3aabd-4869-454e-bd6a-9d4fd1b44640",
   "metadata": {
    "tags": []
   },
   "source": [
    "# Indexing :- this is use to display requried data from given data.\n",
    "there are 2 type of indexing\n",
    "1. +ve Indexing          2.-ve Indexing\n",
    "\n",
    "1. +ve Indexing:- in which give imagenairy no. place to data character form start with no.0\n",
    "\n",
    "2. -ve Indexing:- in which give imagenairy no. place to data character form end with no. -1"
   ]
  },
  {
   "cell_type": "code",
   "execution_count": 3,
   "id": "89cd45cd-31e7-47de-94cc-e0d23ed98f0c",
   "metadata": {},
   "outputs": [
    {
     "data": {
      "text/plain": [
       "'paramjeet'"
      ]
     },
     "execution_count": 3,
     "metadata": {},
     "output_type": "execute_result"
    }
   ],
   "source": [
    "#for example :-\n",
    "a=\"paramjeet\"\n",
    "a"
   ]
  },
  {
   "cell_type": "code",
   "execution_count": 4,
   "id": "eb92bffa-8bc6-4c49-bb14-500ddc8ba80e",
   "metadata": {},
   "outputs": [
    {
     "data": {
      "text/plain": [
       "'p'"
      ]
     },
     "execution_count": 4,
     "metadata": {},
     "output_type": "execute_result"
    }
   ],
   "source": [
    "a[0] #this is called indexing"
   ]
  },
  {
   "cell_type": "code",
   "execution_count": 9,
   "id": "db5e83a3-680e-4fe4-bd1d-e9c372efc1bc",
   "metadata": {},
   "outputs": [
    {
     "data": {
      "text/plain": [
       "'paramjee'"
      ]
     },
     "execution_count": 9,
     "metadata": {},
     "output_type": "execute_result"
    }
   ],
   "source": [
    "a[0: 8:1] #in this case interperater goes too 8 place.we know that interperater display the value before ourself"
   ]
  },
  {
   "cell_type": "code",
   "execution_count": 6,
   "id": "132b41f9-c407-4973-b166-339b0e32970c",
   "metadata": {},
   "outputs": [
    {
     "data": {
      "text/plain": [
       "'prmet'"
      ]
     },
     "execution_count": 6,
     "metadata": {},
     "output_type": "execute_result"
    }
   ],
   "source": [
    "a[0:9:1] #the last 1 inside the [ ] is control the jump of interperater\n",
    "a[0:9:2]"
   ]
  },
  {
   "cell_type": "raw",
   "id": "bc4521a2-3444-4d47-ae19-6d640f8fe670",
   "metadata": {},
   "source": [
    "> string support concatination:- in simple words concatination is a term in which when 2 string is add then the result of addition become string. "
   ]
  },
  {
   "cell_type": "code",
   "execution_count": 16,
   "id": "4069a576-4072-4f3e-9c2a-b119bd335d44",
   "metadata": {},
   "outputs": [
    {
     "data": {
      "text/plain": [
       "'SurajRajput'"
      ]
     },
     "execution_count": 16,
     "metadata": {},
     "output_type": "execute_result"
    }
   ],
   "source": [
    "A=('Suraj')\n",
    "B=('Rajput')\n",
    "A+B"
   ]
  },
  {
   "cell_type": "raw",
   "id": "2cea3e0f-77f1-45f4-9868-4c97159441cd",
   "metadata": {},
   "source": [
    "> This type of string are not concatination"
   ]
  },
  {
   "cell_type": "code",
   "execution_count": 15,
   "id": "9e97cc24-4d56-4262-9195-495f67c6b70f",
   "metadata": {},
   "outputs": [
    {
     "data": {
      "text/plain": [
       "('Suraj', 'rajput')"
      ]
     },
     "execution_count": 15,
     "metadata": {},
     "output_type": "execute_result"
    }
   ],
   "source": [
    "#for example:-\n",
    "r=(\"Suraj\",\"rajput\")\n",
    "r\n"
   ]
  },
  {
   "cell_type": "raw",
   "id": "5af8c613-4937-4920-8072-d7b0c729f09d",
   "metadata": {},
   "source": [
    "For better understand the method use youtube video."
   ]
  },
  {
   "cell_type": "code",
   "execution_count": 11,
   "id": "d720a66c-55ec-4062-9171-73cb0d60fb6a",
   "metadata": {},
   "outputs": [
    {
     "name": "stdout",
     "output_type": "stream",
     "text": [
      "1,2,3,6,7\n"
     ]
    },
    {
     "data": {
      "text/plain": [
       "str"
      ]
     },
     "execution_count": 11,
     "metadata": {},
     "output_type": "execute_result"
    }
   ],
   "source": [
    "a=('1,2,3,6,7')\n",
    "print(a)\n",
    "type(a)"
   ]
  },
  {
   "cell_type": "code",
   "execution_count": 33,
   "id": "f625b6ae-383c-4ff1-a0da-46f11d7430ba",
   "metadata": {},
   "outputs": [
    {
     "name": "stdout",
     "output_type": "stream",
     "text": [
      "My name is suraj rajput\n"
     ]
    }
   ],
   "source": [
    "a=('my name is suraj rajput')\n",
    "b=a.capitalize()\n",
    "print(b)"
   ]
  },
  {
   "cell_type": "code",
   "execution_count": 34,
   "id": "309105b0-ff94-40c4-95c0-a93005d4e6e4",
   "metadata": {},
   "outputs": [
    {
     "name": "stdout",
     "output_type": "stream",
     "text": [
      "my name is suraj rajput\n"
     ]
    }
   ],
   "source": [
    "a=('My Name is Suraj Rajput')\n",
    "b=a.casefold()\n",
    "print(b)"
   ]
  },
  {
   "cell_type": "code",
   "execution_count": 40,
   "id": "ec89b87b-f3e6-4069-bdab-9afc06f23b31",
   "metadata": {},
   "outputs": [
    {
     "ename": "SyntaxError",
     "evalue": "cannot assign to function call here. Maybe you meant '==' instead of '='? (3854692788.py, line 2)",
     "output_type": "error",
     "traceback": [
      "\u001b[1;36m  Cell \u001b[1;32mIn[40], line 2\u001b[1;36m\u001b[0m\n\u001b[1;33m    sep(a)=\"*\"\u001b[0m\n\u001b[1;37m    ^\u001b[0m\n\u001b[1;31mSyntaxError\u001b[0m\u001b[1;31m:\u001b[0m cannot assign to function call here. Maybe you meant '==' instead of '='?\n"
     ]
    }
   ],
   "source": [
    "a=('suraj rajput')\n",
    "b=a.center(50)\n",
    "print(b)"
   ]
  },
  {
   "cell_type": "code",
   "execution_count": 42,
   "id": "74e0dd67-0c03-42ae-8f43-290c14d44839",
   "metadata": {},
   "outputs": [
    {
     "name": "stdout",
     "output_type": "stream",
     "text": [
      "2\n"
     ]
    }
   ],
   "source": [
    "a=('my name is suraj rajput and my surname is rajput')\n",
    "b=a.count(\"rajput\")\n",
    "print(b)"
   ]
  },
  {
   "cell_type": "code",
   "execution_count": 43,
   "id": "c9dedd17-bcd3-4651-ad33-0bca55a12eaf",
   "metadata": {},
   "outputs": [
    {
     "name": "stdout",
     "output_type": "stream",
     "text": [
      "b'my name is suraj rajput'\n"
     ]
    }
   ],
   "source": [
    "a=('my name is suraj rajput')\n",
    "b=a.encode()\n",
    "print(b)"
   ]
  },
  {
   "cell_type": "code",
   "execution_count": 44,
   "id": "bdb55d23-a541-44a5-a357-800ff79790ec",
   "metadata": {},
   "outputs": [
    {
     "name": "stdout",
     "output_type": "stream",
     "text": [
      "True\n"
     ]
    }
   ],
   "source": [
    "a=('my name is suraj rajput')\n",
    "b=a.endswith('rajput')\n",
    "print(b)"
   ]
  },
  {
   "cell_type": "code",
   "execution_count": 52,
   "id": "091eb396-3cd0-41cd-90e5-9b6e55339a6e",
   "metadata": {},
   "outputs": [
    {
     "name": "stdout",
     "output_type": "stream",
     "text": [
      "h                   e                   l                   l                   o\n"
     ]
    }
   ],
   "source": [
    "a=('h\\te\\tl\\tl\\to')\n",
    "b=a.expandtabs(200)\n",
    "print(b)"
   ]
  },
  {
   "cell_type": "code",
   "execution_count": 55,
   "id": "0ad4880d-3489-4b7b-9997-024b75bee06d",
   "metadata": {},
   "outputs": [
    {
     "name": "stdout",
     "output_type": "stream",
     "text": [
      "3\n"
     ]
    }
   ],
   "source": [
    "a=('my name is suraj rajput')\n",
    "b=a.find(\"name\")\n",
    "print(b)"
   ]
  },
  {
   "cell_type": "code",
   "execution_count": 68,
   "id": "9b447993-561c-4d15-8f06-27dca5acc2e2",
   "metadata": {},
   "outputs": [
    {
     "name": "stdout",
     "output_type": "stream",
     "text": [
      "my income is 49.0\n"
     ]
    }
   ],
   "source": [
    "a=('my income is {rupee}')   # it only support no. not alphabhates and format or format-map is save.\n",
    "b=a.format(rupee=49.0)\n",
    "print(b)"
   ]
  },
  {
   "cell_type": "code",
   "execution_count": 69,
   "id": "733e5e5c-88af-4f15-945c-892946e14225",
   "metadata": {},
   "outputs": [
    {
     "name": "stdout",
     "output_type": "stream",
     "text": [
      "11\n"
     ]
    }
   ],
   "source": [
    "a=('my name is suraj rajput')\n",
    "b=a.index(\"suraj\")\n",
    "print(b)"
   ]
  },
  {
   "cell_type": "code",
   "execution_count": 77,
   "id": "b1f74b72-259d-46d3-a17c-8ca501a23830",
   "metadata": {},
   "outputs": [
    {
     "name": "stdout",
     "output_type": "stream",
     "text": [
      "True\n"
     ]
    }
   ],
   "source": [
    "a=('surajrajput200') #alphanum are reperdent those word which have num+alpha\n",
    "b=a.isalnum()\n",
    "print(b)"
   ]
  },
  {
   "cell_type": "code",
   "execution_count": 76,
   "id": "3e1488ef-c3b9-4d99-ab39-424337c24b92",
   "metadata": {},
   "outputs": [
    {
     "name": "stdout",
     "output_type": "stream",
     "text": [
      "True\n"
     ]
    }
   ],
   "source": [
    "a=('mynameissurajrajput') #these does not work on sentance which having space.\n",
    "b=a.isalpha()\n",
    "print(b)"
   ]
  },
  {
   "cell_type": "code",
   "execution_count": 81,
   "id": "9c9d597e-8204-4f97-80c9-e97878e00738",
   "metadata": {},
   "outputs": [
    {
     "name": "stdout",
     "output_type": "stream",
     "text": [
      "True\n"
     ]
    }
   ],
   "source": [
    "a=('my name issuraj rajput') # this does not effect by space and it both or single alpha and num.\n",
    "b=a.isascii()\n",
    "print(b)"
   ]
  },
  {
   "cell_type": "code",
   "execution_count": 89,
   "id": "b46a5202-ab60-4f41-b922-d24f756e998a",
   "metadata": {},
   "outputs": [
    {
     "name": "stdout",
     "output_type": "stream",
     "text": [
      "False\n"
     ]
    }
   ],
   "source": [
    "a=('10')\n",
    "b=a.isdecimal() #name is decimal but not support the the decimal and element except no.\n",
    "print(b)"
   ]
  },
  {
   "cell_type": "code",
   "execution_count": 95,
   "id": "5e347f19-822d-4ec6-8a6c-783f247d5db0",
   "metadata": {},
   "outputs": [
    {
     "name": "stdout",
     "output_type": "stream",
     "text": [
      "True\n"
     ]
    }
   ],
   "source": [
    "a=('10')\n",
    "b=a.isdigit() #same as decimal\n",
    "print(b)"
   ]
  },
  {
   "cell_type": "code",
   "execution_count": 98,
   "id": "00145608-907e-4ef0-8f19-e1a891acd18b",
   "metadata": {},
   "outputs": [
    {
     "name": "stdout",
     "output_type": "stream",
     "text": [
      "True\n"
     ]
    }
   ],
   "source": [
    "a=('surajrajput')\n",
    "b=a.isidentifier() # when word identify singal meaning\n",
    "print(b)"
   ]
  },
  {
   "cell_type": "code",
   "execution_count": 99,
   "id": "eacee34b-a228-415d-9265-89466aa97f76",
   "metadata": {},
   "outputs": [
    {
     "name": "stdout",
     "output_type": "stream",
     "text": [
      "True\n"
     ]
    }
   ],
   "source": [
    "a=('my name is suraj rajput')\n",
    "b=a.islower()\n",
    "print(b)"
   ]
  },
  {
   "cell_type": "code",
   "execution_count": 101,
   "id": "107c48a6-dd6e-4bae-98fc-3f1dcf545bbb",
   "metadata": {},
   "outputs": [
    {
     "name": "stdout",
     "output_type": "stream",
     "text": [
      "True\n"
     ]
    }
   ],
   "source": [
    "a=('1234567890')\n",
    "b=a.isnumeric()\n",
    "print(b)"
   ]
  },
  {
   "cell_type": "code",
   "execution_count": 102,
   "id": "6a112d94-f8d8-41fa-baac-6f894e118f81",
   "metadata": {},
   "outputs": [
    {
     "name": "stdout",
     "output_type": "stream",
     "text": [
      "True\n"
     ]
    }
   ],
   "source": [
    "a=('my name is suraj rajput')\n",
    "b=a.isprintable()\n",
    "print(b)"
   ]
  },
  {
   "cell_type": "code",
   "execution_count": 105,
   "id": "3d29729e-dc7b-4447-b402-0ff7ca29a004",
   "metadata": {},
   "outputs": [
    {
     "name": "stdout",
     "output_type": "stream",
     "text": [
      "True\n"
     ]
    }
   ],
   "source": [
    "a=('  ')\n",
    "b=a.isspace() # it is detact only space.\n",
    "print(b)"
   ]
  },
  {
   "cell_type": "code",
   "execution_count": 113,
   "id": "42173f7e-d568-4455-8b8d-6517025ceb3e",
   "metadata": {},
   "outputs": [
    {
     "name": "stdout",
     "output_type": "stream",
     "text": [
      "True\n"
     ]
    }
   ],
   "source": [
    "a=('Hello')\n",
    "b=a.istitle() #Check if each word start with an upper case letter\n",
    "print(b)"
   ]
  },
  {
   "cell_type": "code",
   "execution_count": 112,
   "id": "a49a2624-2644-4097-91fb-c93cf2f339d2",
   "metadata": {},
   "outputs": [
    {
     "name": "stdout",
     "output_type": "stream",
     "text": [
      "True\n"
     ]
    }
   ],
   "source": [
    "a=('HELLO SURAJ')\n",
    "b=a.isupper()  #Check if all the characters in the text are in upper case\n",
    "print(b)"
   ]
  },
  {
   "cell_type": "code",
   "execution_count": 127,
   "id": "dd1f21cb-53a5-41da-baf8-a42a5b3c9f4e",
   "metadata": {},
   "outputs": [
    {
     "name": "stdout",
     "output_type": "stream",
     "text": [
      "John*Peter*Vicky\n"
     ]
    }
   ],
   "source": [
    "a = (\"John\", \"Peter\", \"Vicky\")\n",
    "\n",
    "x = '*'.join(myTuple)     #Join all items in a tuple into a string, using a hash character as separator\n",
    "\n",
    "print(x)\n"
   ]
  },
  {
   "cell_type": "code",
   "execution_count": 132,
   "id": "744dac6c-c805-4e32-ad43-3703be20af35",
   "metadata": {},
   "outputs": [
    {
     "name": "stdout",
     "output_type": "stream",
     "text": [
      "my name is suraj rajput                                                                              ranaji\n"
     ]
    }
   ],
   "source": [
    "a=('my name is suraj rajput')\n",
    "b=a.ljust(100)\n",
    "print(b,\"ranaji\")"
   ]
  },
  {
   "cell_type": "code",
   "execution_count": 135,
   "id": "c93a0c4f-256c-4e65-ac3f-54fc4db3e1f5",
   "metadata": {},
   "outputs": [
    {
     "name": "stdout",
     "output_type": "stream",
     "text": [
      "my name is suraj rajput\n"
     ]
    }
   ],
   "source": [
    "a=('MY NAME IS SURAJ RAJPUT')\n",
    "b=a.lower()\n",
    "print(b)"
   ]
  },
  {
   "cell_type": "code",
   "execution_count": 137,
   "id": "f2d26609-bf9b-458e-9ad1-001b4d7441a9",
   "metadata": {},
   "outputs": [
    {
     "name": "stdout",
     "output_type": "stream",
     "text": [
      "ooooooo       \n"
     ]
    }
   ],
   "source": [
    "a=('     ooooooo       ')\n",
    "b=a.lstrip() #Returns a left trim version of the string\n",
    "print(b)"
   ]
  },
  {
   "cell_type": "code",
   "execution_count": 148,
   "id": "626ce1de-ec33-4b07-b7b1-f331348eca7c",
   "metadata": {},
   "outputs": [
    {
     "name": "stdout",
     "output_type": "stream",
     "text": [
      "Hello Paramjeet!\n"
     ]
    }
   ],
   "source": [
    "a = \"Hello Saramjeet!\"\n",
    "b= str.maketrans(\"S\", \"P\") #Create a mapping table, and use it in the translate() method to replace any \"S\" characters with a \"P\" character\n",
    "print(a.translate(b))"
   ]
  },
  {
   "cell_type": "code",
   "execution_count": 151,
   "id": "5508717c-8910-4871-b272-6cad47a00a75",
   "metadata": {},
   "outputs": [
    {
     "name": "stdout",
     "output_type": "stream",
     "text": [
      "('MY NAME IS ', 'SURAJ', ' RAJPUT')\n"
     ]
    }
   ],
   "source": [
    "a=('MY NAME IS SURAJ RAJPUT')\n",
    "b=a.partition(\"SURAJ\")\n",
    "print(b)"
   ]
  },
  {
   "cell_type": "code",
   "execution_count": 158,
   "id": "5b012d73-3d3f-40b3-856d-fab7bd9b731f",
   "metadata": {},
   "outputs": [
    {
     "name": "stdout",
     "output_type": "stream",
     "text": [
      " NAME IS SURAJ RAJPUT\n"
     ]
    }
   ],
   "source": [
    "a=('MY NAME IS SURAJ RAJPUT')\n",
    "b=a.removeprefix('MY')\n",
    "print(b)"
   ]
  },
  {
   "cell_type": "code",
   "execution_count": 159,
   "id": "d1f44042-8a8c-4395-b866-1c6eeb99328e",
   "metadata": {},
   "outputs": [
    {
     "name": "stdout",
     "output_type": "stream",
     "text": [
      "MY NAME IS SURAJ \n"
     ]
    }
   ],
   "source": [
    "a=('MY NAME IS SURAJ RAJPUT')\n",
    "b=a.removesuffix(\"RAJPUT\")\n",
    "print(b)"
   ]
  },
  {
   "cell_type": "code",
   "execution_count": 160,
   "id": "91521217-9eb1-4c63-9ef6-2ff4e49eb9f7",
   "metadata": {},
   "outputs": [
    {
     "name": "stdout",
     "output_type": "stream",
     "text": [
      "MY NAME IS Paramjeet RAJPUT\n"
     ]
    }
   ],
   "source": [
    "a=('MY NAME IS SURAJ RAJPUT')\n",
    "b=a.replace(\"SURAJ\",'Paramjeet')\n",
    "print(b)"
   ]
  },
  {
   "cell_type": "code",
   "execution_count": 161,
   "id": "c7f9f679-0e2d-4eae-a1ae-21702ebbc9c7",
   "metadata": {},
   "outputs": [
    {
     "name": "stdout",
     "output_type": "stream",
     "text": [
      "11\n"
     ]
    }
   ],
   "source": [
    "a=('MY NAME IS SURAJ RAJPUT')\n",
    "b=a.rfind(\"SURAJ\")\n",
    "print(b)"
   ]
  },
  {
   "cell_type": "code",
   "execution_count": 162,
   "id": "429d5f70-cc91-48a3-b986-6b702c6d4a7e",
   "metadata": {},
   "outputs": [
    {
     "name": "stdout",
     "output_type": "stream",
     "text": [
      "11\n"
     ]
    }
   ],
   "source": [
    "a=('MY NAME IS SURAJ RAJPUT')\n",
    "b=a.rindex(\"SURAJ\")\n",
    "print(b)"
   ]
  },
  {
   "cell_type": "code",
   "execution_count": 177,
   "id": "452739c4-48b2-46c8-bfa9-d2953bda1eac",
   "metadata": {},
   "outputs": [
    {
     "name": "stdout",
     "output_type": "stream",
     "text": [
      "               mango is bad fruit\n"
     ]
    }
   ],
   "source": [
    "a= \"mango\"\n",
    "\n",
    "b = txt.rjust(20)\n",
    "\n",
    "print(b, \"is bad fruit\")"
   ]
  },
  {
   "cell_type": "code",
   "execution_count": 178,
   "id": "5b2e9e88-1708-45a4-bd31-b348872a2910",
   "metadata": {},
   "outputs": [
    {
     "name": "stdout",
     "output_type": "stream",
     "text": [
      "('MY ', 'NAME', ' IS SURAJ RAJPUT')\n"
     ]
    }
   ],
   "source": [
    "a=('MY NAME IS SURAJ RAJPUT')\n",
    "b=a.rpartition(\"NAME\")\n",
    "print(b)"
   ]
  },
  {
   "cell_type": "code",
   "execution_count": 184,
   "id": "b2fc81a4-98b2-4b62-8110-3728de0e014d",
   "metadata": {},
   "outputs": [
    {
     "name": "stdout",
     "output_type": "stream",
     "text": [
      "['MY NAME IS ', ' RAJPUT']\n"
     ]
    }
   ],
   "source": [
    "a=('MY NAME IS SURAJ RAJPUT')\n",
    "b=a.rsplit(\"SURAJ\")\n",
    "print(b)"
   ]
  },
  {
   "cell_type": "code",
   "execution_count": 188,
   "id": "e23d493a-2653-4e36-acaf-8acfc9604523",
   "metadata": {},
   "outputs": [
    {
     "name": "stdout",
     "output_type": "stream",
     "text": [
      "    SURAJRAJPUT\n"
     ]
    }
   ],
   "source": [
    "a=('    SURAJRAJPUT   ')\n",
    "b=a.rstrip(\" \")\n",
    "print(b)"
   ]
  },
  {
   "cell_type": "code",
   "execution_count": 195,
   "id": "5ea44a0f-4bcb-4bf9-9f9b-917363eefc91",
   "metadata": {},
   "outputs": [
    {
     "name": "stdout",
     "output_type": "stream",
     "text": [
      "0000000050\n"
     ]
    }
   ],
   "source": [
    "a = \"50\"\n",
    "\n",
    "b = txt.zfill(10) #Fills the string with a specified number of 0 values at the beginning\n",
    "\n",
    "print(b)"
   ]
  },
  {
   "cell_type": "code",
   "execution_count": null,
   "id": "e26f4f52-c986-4caf-84ff-2972b3eb81e4",
   "metadata": {},
   "outputs": [],
   "source": []
  }
 ],
 "metadata": {
  "kernelspec": {
   "display_name": "Python 3 (ipykernel)",
   "language": "python",
   "name": "python3"
  },
  "language_info": {
   "codemirror_mode": {
    "name": "ipython",
    "version": 3
   },
   "file_extension": ".py",
   "mimetype": "text/x-python",
   "name": "python",
   "nbconvert_exporter": "python",
   "pygments_lexer": "ipython3",
   "version": "3.10.9"
  }
 },
 "nbformat": 4,
 "nbformat_minor": 5
}
