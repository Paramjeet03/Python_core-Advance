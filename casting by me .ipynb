{
 "cells": [
  {
   "cell_type": "markdown",
   "id": "c7a58323-ed4a-4f83-8d80-ba18b6c04b14",
   "metadata": {},
   "source": [
    "# Casting:int()\n",
    "\n",
    ">float()\n",
    "\n",
    ">str()\n",
    "\n",
    ">The conversion of one data type to another data type is know as casting"
   ]
  },
  {
   "cell_type": "markdown",
   "id": "0ff8548d-011f-4ed8-b3df-accf591af5fb",
   "metadata": {},
   "source": [
    "The total type of data constructor are given below:-\n",
    " \n",
    ">int()\n",
    "\n",
    ">float()\n",
    "\n",
    ">str()\n",
    "\n",
    ">list()\n",
    "\n",
    ">tuple()\n",
    "\n",
    ">set()\n",
    "\n",
    ">frozenset()\n",
    "\n",
    ">dict()\n",
    "\n",
    ">complex()\n",
    "\n",
    ">bool()"
   ]
  },
  {
   "cell_type": "code",
   "execution_count": 3,
   "id": "3f379b5e-cf1c-466f-a886-08e9fd5a3c9d",
   "metadata": {},
   "outputs": [
    {
     "name": "stdout",
     "output_type": "stream",
     "text": [
      "<class 'int'> 10\n"
     ]
    }
   ],
   "source": [
    "a=10\n",
    "print(type(a),a)"
   ]
  },
  {
   "cell_type": "markdown",
   "id": "663f2ce9-0287-48e9-b83b-f2fa5649e61b",
   "metadata": {},
   "source": [
    "Conversion of int() to float() and str() ."
   ]
  },
  {
   "cell_type": "code",
   "execution_count": 6,
   "id": "58f76033-b461-421a-9bbd-8e190889902d",
   "metadata": {},
   "outputs": [
    {
     "name": "stdout",
     "output_type": "stream",
     "text": [
      "<class 'float'> 10.0\n"
     ]
    }
   ],
   "source": [
    "b=float(a)\n",
    "print(type(b),b)"
   ]
  },
  {
   "cell_type": "code",
   "execution_count": 14,
   "id": "53d3f538-77a3-4a33-908c-25b4e4a6f320",
   "metadata": {},
   "outputs": [
    {
     "name": "stdout",
     "output_type": "stream",
     "text": [
      "<class 'str'>\n"
     ]
    }
   ],
   "source": [
    "c=str(a)\n",
    "print(type(c))"
   ]
  },
  {
   "cell_type": "code",
   "execution_count": 15,
   "id": "1f0514cf-a017-4d7e-a11a-8315f889b65c",
   "metadata": {},
   "outputs": [
    {
     "name": "stdout",
     "output_type": "stream",
     "text": [
      "10\n"
     ]
    }
   ],
   "source": [
    "print(c)"
   ]
  },
  {
   "cell_type": "markdown",
   "id": "ec836275-c317-4850-a742-9362edf0729c",
   "metadata": {},
   "source": [
    "Conversion of float() to int() and str() ."
   ]
  },
  {
   "cell_type": "code",
   "execution_count": 16,
   "id": "804fc48f-bbdb-4f36-9761-238e26b7001a",
   "metadata": {},
   "outputs": [
    {
     "name": "stdout",
     "output_type": "stream",
     "text": [
      "<class 'float'> 10.1\n"
     ]
    }
   ],
   "source": [
    "a=10.1\n",
    "print(type(a),a)"
   ]
  },
  {
   "cell_type": "code",
   "execution_count": 19,
   "id": "e4740730-247c-4194-9354-1cbe8b67bd95",
   "metadata": {},
   "outputs": [
    {
     "name": "stdout",
     "output_type": "stream",
     "text": [
      "<class 'int'> 10\n"
     ]
    }
   ],
   "source": [
    "b=int(a)\n",
    "print(type(b),b) # int give round off value during float.because int don't have decimal "
   ]
  },
  {
   "cell_type": "code",
   "execution_count": 20,
   "id": "db5dfe74-911a-4127-baef-19b1ed419c13",
   "metadata": {},
   "outputs": [
    {
     "name": "stdout",
     "output_type": "stream",
     "text": [
      "<class 'str'> 10.1\n"
     ]
    }
   ],
   "source": [
    "c=str(a)\n",
    "print(type(c),c)"
   ]
  },
  {
   "cell_type": "markdown",
   "id": "8fb74190-a63e-422a-9e9c-d983cef1df06",
   "metadata": {},
   "source": [
    "Conversion of str() to int() and float() ."
   ]
  },
  {
   "cell_type": "code",
   "execution_count": 22,
   "id": "aa71adda-8187-43c2-9ee1-7159f0a44c28",
   "metadata": {},
   "outputs": [
    {
     "ename": "NameError",
     "evalue": "name 'krishna' is not defined",
     "output_type": "error",
     "traceback": [
      "\u001b[1;31m---------------------------------------------------------------------------\u001b[0m",
      "\u001b[1;31mNameError\u001b[0m                                 Traceback (most recent call last)",
      "Cell \u001b[1;32mIn[22], line 1\u001b[0m\n\u001b[1;32m----> 1\u001b[0m a\u001b[38;5;241m=\u001b[39m\u001b[38;5;28mstr\u001b[39m(\u001b[43mkrishna\u001b[49m)\n",
      "\u001b[1;31mNameError\u001b[0m: name 'krishna' is not defined"
     ]
    }
   ],
   "source": [
    "a=str(krishna) # this error occur because we not explain the data type of krishna."
   ]
  },
  {
   "cell_type": "code",
   "execution_count": 23,
   "id": "e4cb37c7-3416-4dd6-b41b-cef1141b8bb8",
   "metadata": {},
   "outputs": [
    {
     "data": {
      "text/plain": [
       "'krishna'"
      ]
     },
     "execution_count": 23,
     "metadata": {},
     "output_type": "execute_result"
    }
   ],
   "source": [
    "a=str('krishna')\n",
    "a"
   ]
  },
  {
   "cell_type": "markdown",
   "id": "cc25d479-9b4a-4de0-a73c-a01d960a2dcb",
   "metadata": {},
   "source": [
    "This type of str not convert into int or float because int or float support numerical value.\n",
    "\n",
    ">a=str('krishna')  \n",
    "\n",
    ">a=str('krishna12234')\n"
   ]
  },
  {
   "cell_type": "code",
   "execution_count": 24,
   "id": "58893f82-8caf-4266-bf3c-52f2c8834e3b",
   "metadata": {},
   "outputs": [
    {
     "name": "stdout",
     "output_type": "stream",
     "text": [
      "<class 'str'> 2\n"
     ]
    }
   ],
   "source": [
    "a=str('2')\n",
    "print(type(a),a)"
   ]
  },
  {
   "cell_type": "code",
   "execution_count": 25,
   "id": "fbca3d1f-23ae-4c0d-970a-7d1c67e80594",
   "metadata": {},
   "outputs": [
    {
     "name": "stdout",
     "output_type": "stream",
     "text": [
      "<class 'int'> 2\n"
     ]
    }
   ],
   "source": [
    "b=int(a)\n",
    "print(type(b),b)"
   ]
  },
  {
   "cell_type": "code",
   "execution_count": 26,
   "id": "e1278730-2825-4e26-b31e-a79584dde27f",
   "metadata": {},
   "outputs": [
    {
     "name": "stdout",
     "output_type": "stream",
     "text": [
      "<class 'float'> 2.0\n"
     ]
    }
   ],
   "source": [
    "c=float(a)\n",
    "print(type(c),c)"
   ]
  },
  {
   "cell_type": "markdown",
   "id": "8cc580b6-7c14-40eb-9ae9-9c117f2c21e9",
   "metadata": {},
   "source": [
    "Conversion list() tuple() set() frozenset() and vice-versa."
   ]
  },
  {
   "cell_type": "code",
   "execution_count": 55,
   "id": "6bbb249d-97a1-492c-a397-f6828db206fe",
   "metadata": {},
   "outputs": [
    {
     "name": "stdout",
     "output_type": "stream",
     "text": [
      "<class 'list'> [1, 3, 4, 5, 6]\n"
     ]
    }
   ],
   "source": [
    "a=[1,3,4,5,6]\n",
    "print(type(a),a)"
   ]
  },
  {
   "cell_type": "code",
   "execution_count": 56,
   "id": "e20ede74-d461-47f0-b335-d3e85a754cbd",
   "metadata": {},
   "outputs": [
    {
     "name": "stdout",
     "output_type": "stream",
     "text": [
      "<class 'tuple'> (1, 3, 4, 5, 6)\n"
     ]
    }
   ],
   "source": [
    "b=tuple(a)\n",
    "print(type(b),b)"
   ]
  },
  {
   "cell_type": "code",
   "execution_count": 57,
   "id": "5853a7e9-d005-4496-b6c2-984ef37af27d",
   "metadata": {},
   "outputs": [
    {
     "name": "stdout",
     "output_type": "stream",
     "text": [
      "<class 'set'> {1, 3, 4, 5, 6}\n"
     ]
    }
   ],
   "source": [
    "c=set(b)\n",
    "print(type(c),c)"
   ]
  },
  {
   "cell_type": "code",
   "execution_count": 58,
   "id": "92d6cc19-b128-42be-b650-665fa7e76c56",
   "metadata": {},
   "outputs": [
    {
     "name": "stdout",
     "output_type": "stream",
     "text": [
      "<class 'list'> [1, 2, 3, 4, 5, 6, 7, 8]\n"
     ]
    }
   ],
   "source": [
    "d=frozenset(e)\n",
    "print(type(e),e)"
   ]
  },
  {
   "cell_type": "markdown",
   "id": "e081322f-8f94-4bb0-adc0-7aa7ad835c15",
   "metadata": {},
   "source": [
    "use of casting example:-"
   ]
  },
  {
   "cell_type": "markdown",
   "id": "58dc14ab-ca9e-4ece-9c48-9ddb70953f0b",
   "metadata": {},
   "source": [
    "In a school online admission is close on 22 july .after closing the admission any one want too admission and school allow him then programmer use casting in that case. "
   ]
  },
  {
   "cell_type": "markdown",
   "id": "bca49b62-0d51-40be-be4b-3e343e5d8213",
   "metadata": {},
   "source": [
    ">so,the admission list is [1,2,3,4,5,6,7]\n",
    "\n",
    ">after after closing the admission programmer convert list into tuple because tuple is immutable data type. (1,2,3,4,5,6,7)\n"
   ]
  },
  {
   "cell_type": "code",
   "execution_count": 51,
   "id": "8afab1f8-1b6b-4469-b7a4-cdd262c362b5",
   "metadata": {},
   "outputs": [
    {
     "name": "stdout",
     "output_type": "stream",
     "text": [
      "<class 'tuple'> (1, 2, 3, 4, 5, 6, 7)\n"
     ]
    }
   ],
   "source": [
    "w=(1,2,3,4,5,6,7)\n",
    "print(type(w),w)"
   ]
  },
  {
   "cell_type": "code",
   "execution_count": 52,
   "id": "893a3a5a-e264-49a1-9a4f-ffa3dc15d3b3",
   "metadata": {},
   "outputs": [
    {
     "name": "stdout",
     "output_type": "stream",
     "text": [
      "<class 'list'> [1, 2, 3, 4, 5, 6, 7]\n"
     ]
    }
   ],
   "source": [
    "e=list(w)  # it convert into list because tuple not having data adding method.\n",
    "print(type(e),e)"
   ]
  },
  {
   "cell_type": "code",
   "execution_count": 53,
   "id": "db2ab735-7dc3-4f28-8b02-06c6d61bd52d",
   "metadata": {},
   "outputs": [
    {
     "name": "stdout",
     "output_type": "stream",
     "text": [
      "[1, 2, 3, 4, 5, 6, 7, 8]\n"
     ]
    }
   ],
   "source": [
    "e.append(8)\n",
    "print(e)"
   ]
  },
  {
   "cell_type": "code",
   "execution_count": 54,
   "id": "bea2a5f6-295c-428f-a71a-118846b8cc25",
   "metadata": {},
   "outputs": [
    {
     "name": "stdout",
     "output_type": "stream",
     "text": [
      "<class 'tuple'> (1, 2, 3, 4, 5, 6, 7, 8)\n"
     ]
    }
   ],
   "source": [
    "p=tuple(e)\n",
    "print(type(p),p)"
   ]
  },
  {
   "cell_type": "code",
   "execution_count": null,
   "id": "dfc96925-7f76-41ae-8e7f-3efe81b2cd96",
   "metadata": {},
   "outputs": [],
   "source": []
  }
 ],
 "metadata": {
  "kernelspec": {
   "display_name": "Python 3 (ipykernel)",
   "language": "python",
   "name": "python3"
  },
  "language_info": {
   "codemirror_mode": {
    "name": "ipython",
    "version": 3
   },
   "file_extension": ".py",
   "mimetype": "text/x-python",
   "name": "python",
   "nbconvert_exporter": "python",
   "pygments_lexer": "ipython3",
   "version": "3.10.9"
  }
 },
 "nbformat": 4,
 "nbformat_minor": 5
}
