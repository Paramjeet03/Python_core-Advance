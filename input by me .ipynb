{
 "cells": [
  {
   "cell_type": "markdown",
   "id": "1893ad9a-ad1b-4510-8de9-411a8a675b6c",
   "metadata": {},
   "source": [
    "# INPUT():\n",
    "\n",
    ">It is the type of func. which is use to get the data from user in the from of string. it is use sting because string support all type symbol,character or varaiable"
   ]
  },
  {
   "cell_type": "code",
   "execution_count": 1,
   "id": "bce0a010-dc24-4c05-96be-5da4d6cf0037",
   "metadata": {},
   "outputs": [
    {
     "name": "stdin",
     "output_type": "stream",
     "text": [
      " 1d2dk\n"
     ]
    },
    {
     "data": {
      "text/plain": [
       "'1d2dk'"
      ]
     },
     "execution_count": 1,
     "metadata": {},
     "output_type": "execute_result"
    }
   ],
   "source": [
    "input()"
   ]
  },
  {
   "cell_type": "code",
   "execution_count": 3,
   "id": "f03b1435-0ea7-4d16-8a01-57f158778644",
   "metadata": {},
   "outputs": [
    {
     "name": "stdin",
     "output_type": "stream",
     "text": [
      "enter your 4 digit pin 1123\n"
     ]
    },
    {
     "data": {
      "text/plain": [
       "'1123'"
      ]
     },
     "execution_count": 3,
     "metadata": {},
     "output_type": "execute_result"
    }
   ],
   "source": [
    "input(\"enter your 4 digit pin\")"
   ]
  },
  {
   "cell_type": "code",
   "execution_count": 5,
   "id": "6492b674-4f27-4e45-aa55-40625be99065",
   "metadata": {},
   "outputs": [
    {
     "name": "stdin",
     "output_type": "stream",
     "text": [
      "enter number 1 22\n",
      "enter number 2 33\n"
     ]
    },
    {
     "name": "stdout",
     "output_type": "stream",
     "text": [
      "2233\n"
     ]
    }
   ],
   "source": [
    "a=input('enter number 1')\n",
    "b=input('enter number 2') \n",
    "print(a+b)"
   ]
  },
  {
   "cell_type": "markdown",
   "id": "03983d75-01c3-4c73-9e37-e168d61330a2",
   "metadata": {},
   "source": [
    "this output show because input use str value too store data and str having property concatination.\n",
    "\n",
    ">for solving this error."
   ]
  },
  {
   "cell_type": "code",
   "execution_count": 9,
   "id": "ca6e14d8-ac17-456b-ac07-d899925131c6",
   "metadata": {},
   "outputs": [
    {
     "name": "stdin",
     "output_type": "stream",
     "text": [
      "enter number 1 234\n",
      "enter number 2 234\n"
     ]
    },
    {
     "name": "stdout",
     "output_type": "stream",
     "text": [
      "468\n"
     ]
    }
   ],
   "source": [
    "a=input('enter number 1')\n",
    "c=int(a)\n",
    "b=input('enter number 2')\n",
    "d=int(b)\n",
    "print(c+d)"
   ]
  },
  {
   "cell_type": "code",
   "execution_count": 10,
   "id": "d1c4eb6d-2270-43a9-9036-3a8d69ba4f6b",
   "metadata": {},
   "outputs": [
    {
     "name": "stdin",
     "output_type": "stream",
     "text": [
      "enter number 1 23\n",
      "enter number 2 10.1\n"
     ]
    },
    {
     "ename": "ValueError",
     "evalue": "invalid literal for int() with base 10: '10.1'",
     "output_type": "error",
     "traceback": [
      "\u001b[1;31m---------------------------------------------------------------------------\u001b[0m",
      "\u001b[1;31mValueError\u001b[0m                                Traceback (most recent call last)",
      "Cell \u001b[1;32mIn[10], line 4\u001b[0m\n\u001b[0;32m      2\u001b[0m c\u001b[38;5;241m=\u001b[39m\u001b[38;5;28mint\u001b[39m(a)\n\u001b[0;32m      3\u001b[0m b\u001b[38;5;241m=\u001b[39m\u001b[38;5;28minput\u001b[39m(\u001b[38;5;124m'\u001b[39m\u001b[38;5;124menter number 2\u001b[39m\u001b[38;5;124m'\u001b[39m)\n\u001b[1;32m----> 4\u001b[0m d\u001b[38;5;241m=\u001b[39m\u001b[38;5;28;43mint\u001b[39;49m\u001b[43m(\u001b[49m\u001b[43mb\u001b[49m\u001b[43m)\u001b[49m\n\u001b[0;32m      5\u001b[0m \u001b[38;5;28mprint\u001b[39m(c\u001b[38;5;241m+\u001b[39md)\n",
      "\u001b[1;31mValueError\u001b[0m: invalid literal for int() with base 10: '10.1'"
     ]
    }
   ],
   "source": [
    "a=input('enter number 1')\n",
    "c=int(a)\n",
    "b=input('enter number 2')\n",
    "d=int(b)\n",
    "print(c+d)"
   ]
  },
  {
   "cell_type": "markdown",
   "id": "7be5bc66-09a3-45d6-bdbf-694acfd4d883",
   "metadata": {},
   "source": [
    "it show error because int not support decimal value."
   ]
  },
  {
   "cell_type": "code",
   "execution_count": 12,
   "id": "14821bc3-95d9-4659-ba0a-ae093152a1f8",
   "metadata": {},
   "outputs": [
    {
     "name": "stdin",
     "output_type": "stream",
     "text": [
      "enter number 1 233\n",
      "enter number 2 233.4\n"
     ]
    },
    {
     "name": "stdout",
     "output_type": "stream",
     "text": [
      "466.4\n"
     ]
    }
   ],
   "source": [
    "a=input('enter number 1')\n",
    "c=float(a)\n",
    "b=input('enter number 2')\n",
    "d=float(b)\n",
    "print(c+d)"
   ]
  },
  {
   "cell_type": "code",
   "execution_count": 13,
   "id": "f3185121-9eaf-405f-b9b0-017aec7bf714",
   "metadata": {},
   "outputs": [
    {
     "name": "stdin",
     "output_type": "stream",
     "text": [
      "enter number 1 22\n",
      "enter number 2 22\n"
     ]
    },
    {
     "name": "stdout",
     "output_type": "stream",
     "text": [
      "44.0\n"
     ]
    }
   ],
   "source": [
    "c=float(input('enter number 1'))\n",
    "d=float(input('enter number 2'))\n",
    "print(c+d)"
   ]
  },
  {
   "cell_type": "code",
   "execution_count": 14,
   "id": "18db3dc0-df81-4799-bc42-ff6c5f86c279",
   "metadata": {},
   "outputs": [
    {
     "name": "stdin",
     "output_type": "stream",
     "text": [
      "enter number 1 2\n",
      "enter number 2 2.2\n"
     ]
    },
    {
     "name": "stdout",
     "output_type": "stream",
     "text": [
      "4.2\n"
     ]
    }
   ],
   "source": [
    "print(float(input('enter number 1'))+float(input('enter number 2')))"
   ]
  },
  {
   "cell_type": "markdown",
   "id": "8ff83b50-168c-428a-b7c4-557aa38ff414",
   "metadata": {},
   "source": [
    "## Make code line because it minimum time too read. and too big then error/bug use #(COMMENT) OR MAKE CODE LINE BY LINE "
   ]
  },
  {
   "cell_type": "markdown",
   "id": "07d1e5b0-c204-443d-8090-68a71ac4e990",
   "metadata": {},
   "source": [
    "eval():\n",
    "    \n",
    ">it is type of func. which is automatcially cast the string\n",
    "\n",
    ">str()--->int()/float()"
   ]
  },
  {
   "cell_type": "code",
   "execution_count": 18,
   "id": "612bf22d-cfdd-4ffc-948f-15a25bcd3cf4",
   "metadata": {},
   "outputs": [
    {
     "name": "stdin",
     "output_type": "stream",
     "text": [
      "enter 1 num. 2\n",
      "enter 2 num. 2.3\n"
     ]
    },
    {
     "name": "stdout",
     "output_type": "stream",
     "text": [
      "4.3\n"
     ]
    }
   ],
   "source": [
    "a=eval(input('enter 1 num.'))\n",
    "b=eval(input('enter 2 num.'))\n",
    "print(a+b)"
   ]
  },
  {
   "cell_type": "code",
   "execution_count": 23,
   "id": "1061d240-47a0-4d45-baf7-d5fa566e74d4",
   "metadata": {},
   "outputs": [
    {
     "name": "stdin",
     "output_type": "stream",
     "text": [
      "enter 1st number 12\n",
      "enter 2nd number 12.4\n"
     ]
    },
    {
     "name": "stdout",
     "output_type": "stream",
     "text": [
      "24.4\n"
     ]
    }
   ],
   "source": [
    "print(eval(input(\"enter 1st number\"))+(eval(input(\"enter 2nd number\"))))"
   ]
  }
 ],
 "metadata": {
  "kernelspec": {
   "display_name": "Python 3 (ipykernel)",
   "language": "python",
   "name": "python3"
  },
  "language_info": {
   "codemirror_mode": {
    "name": "ipython",
    "version": 3
   },
   "file_extension": ".py",
   "mimetype": "text/x-python",
   "name": "python",
   "nbconvert_exporter": "python",
   "pygments_lexer": "ipython3",
   "version": "3.10.9"
  }
 },
 "nbformat": 4,
 "nbformat_minor": 5
}
