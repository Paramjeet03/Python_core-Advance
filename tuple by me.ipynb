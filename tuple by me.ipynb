{
 "cells": [
  {
   "cell_type": "markdown",
   "id": "abb46391-2fbe-4c7f-82e2-515736db17f2",
   "metadata": {},
   "source": [
    "# Tuple:-\n",
    "\n",
    ">Tuple constructer is tuple(). \n",
    "\n",
    ">tuple literal is (). \n",
    "\n",
    ">tuple is a set of sequance of element.\n",
    "\n",
    ">tuple support indexing. \n",
    "\n",
    ">tuple support silicing. \n",
    "\n",
    ">tuple support concatination. \n",
    "\n",
    ">tuple is a immutable data type. \n",
    "\n",
    ">tuple method:- count() & index().\n",
    "\n",
    "### Note:-tuple is similar to list tuple  is not easily hack by hacker because it is a immutable data .in easy word's ,if we edit the data and variable change their id then is immutable data type."
   ]
  },
  {
   "cell_type": "code",
   "execution_count": 2,
   "id": "38fed6ef-53ad-45ac-8e84-fa003d92bf5c",
   "metadata": {},
   "outputs": [
    {
     "name": "stdout",
     "output_type": "stream",
     "text": [
      "<class 'tuple'> ()\n"
     ]
    }
   ],
   "source": [
    "a=tuple()\n",
    "print(type(a),a)"
   ]
  },
  {
   "cell_type": "code",
   "execution_count": 4,
   "id": "04e1f705-977a-4d9a-9f32-b24bc5facb1e",
   "metadata": {},
   "outputs": [
    {
     "name": "stdout",
     "output_type": "stream",
     "text": [
      "()\n"
     ]
    },
    {
     "data": {
      "text/plain": [
       "(None, tuple)"
      ]
     },
     "execution_count": 4,
     "metadata": {},
     "output_type": "execute_result"
    }
   ],
   "source": [
    "a=()\n",
    "print(a),type(a)"
   ]
  },
  {
   "cell_type": "code",
   "execution_count": 15,
   "id": "09f3e4fc-81d6-4329-ada1-99809aad1b85",
   "metadata": {},
   "outputs": [
    {
     "name": "stdout",
     "output_type": "stream",
     "text": [
      "<class 'int'>\n",
      "<class 'float'>\n",
      "<class 'str'>\n",
      "<class 'list'>\n",
      "<class 'int'>\n"
     ]
    }
   ],
   "source": [
    "a=10\n",
    "b=10.0\n",
    "c='10'\n",
    "d=[10]\n",
    "e=(10)\n",
    "print(type(a))\n",
    "print(type(b))\n",
    "print(type(c))\n",
    "print(type(d))\n",
    "print(type(e))# it show int for tuple given below."
   ]
  },
  {
   "cell_type": "code",
   "execution_count": 17,
   "id": "06a40c26-bc32-4311-8d34-0eecea365eed",
   "metadata": {},
   "outputs": [
    {
     "name": "stdout",
     "output_type": "stream",
     "text": [
      "<class 'tuple'> (10,)\n"
     ]
    }
   ],
   "source": [
    "e=(10,)\n",
    "print(type(e),e)"
   ]
  },
  {
   "cell_type": "code",
   "execution_count": 32,
   "id": "843d9dcd-661e-40f8-b7e1-61fb65d3bdcd",
   "metadata": {},
   "outputs": [
    {
     "name": "stdout",
     "output_type": "stream",
     "text": [
      "<class 'tuple'> (10, 10.1, '10', [10, 2, 34, 56], 12, 53)\n"
     ]
    },
    {
     "data": {
      "text/plain": [
       "3077086113856"
      ]
     },
     "execution_count": 32,
     "metadata": {},
     "output_type": "execute_result"
    }
   ],
   "source": [
    "#indexing\n",
    "a=(10,10.1,'10',[10,2,34,56],12,53)\n",
    "print(type(a),a)\n",
    "id(a)"
   ]
  },
  {
   "cell_type": "code",
   "execution_count": 33,
   "id": "82257979-151b-4f70-9765-06c7a33104b0",
   "metadata": {},
   "outputs": [
    {
     "data": {
      "text/plain": [
       "56"
      ]
     },
     "execution_count": 33,
     "metadata": {},
     "output_type": "execute_result"
    }
   ],
   "source": [
    "a[3][3]"
   ]
  },
  {
   "cell_type": "code",
   "execution_count": 34,
   "id": "abcfc62c-5412-4c6c-a9fe-1dabfe2977c4",
   "metadata": {},
   "outputs": [
    {
     "name": "stdout",
     "output_type": "stream",
     "text": [
      "<class 'tuple'> (10, 10.1, '10', [10, 2, 34, 56], 12, 53)\n"
     ]
    }
   ],
   "source": [
    "#silicing:-\n",
    "a=(10,10.1,'10',[10,2,34,56],12,53)\n",
    "print(type(a),a)"
   ]
  },
  {
   "cell_type": "code",
   "execution_count": 35,
   "id": "f8793a01-70ed-446d-9ff1-ee5d64a8b6d5",
   "metadata": {},
   "outputs": [
    {
     "data": {
      "text/plain": [
       "(10.1, '10', [10, 2, 34, 56])"
      ]
     },
     "execution_count": 35,
     "metadata": {},
     "output_type": "execute_result"
    }
   ],
   "source": [
    "a[1:4:1]"
   ]
  },
  {
   "cell_type": "code",
   "execution_count": 36,
   "id": "91b6e4cf-c243-4cd7-970f-5b0664aa5bfc",
   "metadata": {},
   "outputs": [
    {
     "data": {
      "text/plain": [
       "[10, 2, 34, 56]"
      ]
     },
     "execution_count": 36,
     "metadata": {},
     "output_type": "execute_result"
    }
   ],
   "source": [
    "a[3]"
   ]
  },
  {
   "cell_type": "code",
   "execution_count": 37,
   "id": "90579d06-f286-4b9b-8dc1-60f58c6415ef",
   "metadata": {},
   "outputs": [
    {
     "data": {
      "text/plain": [
       "(53, 12, [10, 2, 34, 56], '10', 10.1, 10)"
      ]
     },
     "execution_count": 37,
     "metadata": {},
     "output_type": "execute_result"
    }
   ],
   "source": [
    "a[::-1] #for reversing the order."
   ]
  },
  {
   "cell_type": "code",
   "execution_count": 38,
   "id": "176c9d1d-35b6-49ce-aacc-7c32d3e0bc50",
   "metadata": {},
   "outputs": [
    {
     "data": {
      "text/plain": [
       "3077086114816"
      ]
     },
     "execution_count": 38,
     "metadata": {},
     "output_type": "execute_result"
    }
   ],
   "source": [
    "id(a)"
   ]
  },
  {
   "cell_type": "code",
   "execution_count": 40,
   "id": "6c8cfb37-df7b-4f7e-ac33-5a06c19ddf2b",
   "metadata": {},
   "outputs": [
    {
     "data": {
      "text/plain": [
       "(1, 2, 3, 4, 5, 0, 9, 8, 7, 6, 5, 7, 8, 9)"
      ]
     },
     "execution_count": 40,
     "metadata": {},
     "output_type": "execute_result"
    }
   ],
   "source": [
    "#concatination:-\n",
    "a=(1,2,3,4,5,0,9,8)\n",
    "b=(7,6,5,7,8,9)\n",
    "a+b"
   ]
  },
  {
   "cell_type": "code",
   "execution_count": 42,
   "id": "17a73a46-5852-4674-aefd-830c5deaff9d",
   "metadata": {},
   "outputs": [
    {
     "name": "stdout",
     "output_type": "stream",
     "text": [
      "<class 'tuple'> (7, 6, 5, 7, 8, 9)\n"
     ]
    }
   ],
   "source": [
    "b=(7,6,5,7,8,9)\n",
    "print(type(b),b)"
   ]
  },
  {
   "cell_type": "code",
   "execution_count": 46,
   "id": "cf96a788-2645-42ee-af33-eea04979768c",
   "metadata": {},
   "outputs": [
    {
     "data": {
      "text/plain": [
       "2"
      ]
     },
     "execution_count": 46,
     "metadata": {},
     "output_type": "execute_result"
    }
   ],
   "source": [
    "b.count(7) # this method is use to identify the duplication of same number."
   ]
  },
  {
   "cell_type": "code",
   "execution_count": 48,
   "id": "6e97eb39-4d14-4c49-a4ed-c123e6fff123",
   "metadata": {},
   "outputs": [
    {
     "data": {
      "text/plain": [
       "2"
      ]
     },
     "execution_count": 48,
     "metadata": {},
     "output_type": "execute_result"
    }
   ],
   "source": [
    "b.index(5)# too find index of a number which is prsent in tuple."
   ]
  },
  {
   "cell_type": "markdown",
   "id": "538a44ae-6a6d-4e7a-ba88-0b48a01af866",
   "metadata": {},
   "source": [
    "# PACKING AND UNPACKING :-"
   ]
  },
  {
   "cell_type": "code",
   "execution_count": 79,
   "id": "49487b13-e9b5-4ba9-a204-95a2b9983678",
   "metadata": {},
   "outputs": [
    {
     "name": "stdout",
     "output_type": "stream",
     "text": [
      "(1, 2, 3)\n"
     ]
    }
   ],
   "source": [
    "a=(1,2,3)\n",
    "print(a)"
   ]
  },
  {
   "cell_type": "code",
   "execution_count": 80,
   "id": "4d02e65b-908c-46e7-be0a-7682c53e9ea7",
   "metadata": {},
   "outputs": [],
   "source": [
    "monu,sonu,tonu=a"
   ]
  },
  {
   "cell_type": "code",
   "execution_count": 81,
   "id": "8357ac60-3bd5-47b6-b48b-fceca07a0d55",
   "metadata": {},
   "outputs": [
    {
     "data": {
      "text/plain": [
       "1"
      ]
     },
     "execution_count": 81,
     "metadata": {},
     "output_type": "execute_result"
    }
   ],
   "source": [
    "monu"
   ]
  },
  {
   "cell_type": "code",
   "execution_count": 82,
   "id": "2472cd83-415e-4e7f-832c-8bdfdf3ab806",
   "metadata": {},
   "outputs": [
    {
     "data": {
      "text/plain": [
       "2"
      ]
     },
     "execution_count": 82,
     "metadata": {},
     "output_type": "execute_result"
    }
   ],
   "source": [
    "sonu"
   ]
  },
  {
   "cell_type": "code",
   "execution_count": 83,
   "id": "8dc9314e-1afd-4ad4-8911-2ef8b4d4da62",
   "metadata": {},
   "outputs": [
    {
     "data": {
      "text/plain": [
       "3"
      ]
     },
     "execution_count": 83,
     "metadata": {},
     "output_type": "execute_result"
    }
   ],
   "source": [
    "tonu"
   ]
  },
  {
   "cell_type": "code",
   "execution_count": 84,
   "id": "2f121c17-cfb6-4d1e-ab74-8bd8a9e3d0c0",
   "metadata": {},
   "outputs": [
    {
     "data": {
      "text/plain": [
       "(1, 2, 3, 6)"
      ]
     },
     "execution_count": 84,
     "metadata": {},
     "output_type": "execute_result"
    }
   ],
   "source": [
    "a=(1,2,3,6)\n",
    "a"
   ]
  },
  {
   "cell_type": "code",
   "execution_count": 85,
   "id": "4f0015b0-736b-4931-a401-a6694fb27101",
   "metadata": {},
   "outputs": [],
   "source": [
    "monu,sonu,*tonu=a"
   ]
  },
  {
   "cell_type": "code",
   "execution_count": 86,
   "id": "0e89fe76-1f1c-4e85-927b-edd3838200ac",
   "metadata": {},
   "outputs": [
    {
     "data": {
      "text/plain": [
       "[3, 6]"
      ]
     },
     "execution_count": 86,
     "metadata": {},
     "output_type": "execute_result"
    }
   ],
   "source": [
    "tonu"
   ]
  },
  {
   "cell_type": "code",
   "execution_count": null,
   "id": "e250068e-586e-4aa3-8577-6efb593555e7",
   "metadata": {},
   "outputs": [],
   "source": []
  }
 ],
 "metadata": {
  "kernelspec": {
   "display_name": "Python 3 (ipykernel)",
   "language": "python",
   "name": "python3"
  },
  "language_info": {
   "codemirror_mode": {
    "name": "ipython",
    "version": 3
   },
   "file_extension": ".py",
   "mimetype": "text/x-python",
   "name": "python",
   "nbconvert_exporter": "python",
   "pygments_lexer": "ipython3",
   "version": "3.10.9"
  }
 },
 "nbformat": 4,
 "nbformat_minor": 5
}
