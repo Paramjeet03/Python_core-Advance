{
 "cells": [
  {
   "cell_type": "markdown",
   "id": "313cb7f1-3145-4545-9937-186cd01b0d83",
   "metadata": {},
   "source": [
    "# Statistics concept :-\n",
    "\n",
    ">\n",
    "\n",
    "## > Mean :-\n",
    "\n",
    "    > ARTHMETIC MEAN\n",
    "    \n",
    "    > GEOMATRIC MEAN\n",
    "    \n",
    "    > HARMONIC MEAN\n",
    "    \n",
    "## > MEDIAN :-\n",
    "    \n",
    "    > EVEN TERM MEDIAN\n",
    "    \n",
    "    > ODD TERM MEDIAN\n",
    "    \n",
    "## > MODE\n",
    "    \n",
    "    >\n",
    "\n",
    "# > Standard Deviation :-\n",
    "                    IT DIVIDE INTO 3 LEVEL\n",
    "    \n",
    "# > varience :-\n",
    "            Standard Deviation = (varience)**2\n",
    "\n",
    "# > quantiles(Q1,Q2,Q3) :-\n",
    "                DIVIDE DATA SET INTO 4 EQUAL PARTS WHERE WE SEE GROWTH OF DATA EASILY.\n",
    "\n",
    "# > IQR(INTER QUANTIL RANGE)\n",
    "\n",
    "    > MAX TREND (Q3+1.5*(Q3-Q1))\n",
    "\n",
    "    > MIN TREND (Q3-1.5*(Q3-Q1))"
   ]
  },
  {
   "cell_type": "markdown",
   "id": "597d9767-b8e1-466f-b05d-44c4ce0d6cb3",
   "metadata": {},
   "source": [
    "# MEAN (AVERAGE):-"
   ]
  },
  {
   "cell_type": "markdown",
   "id": "e041a057-c473-4453-aaf4-1dd4186e1f42",
   "metadata": {},
   "source": [
    "## ARTHMETIC MEAN:-\n",
    "      RANGE DOESN'T VARY MUCH."
   ]
  },
  {
   "cell_type": "code",
   "execution_count": 5,
   "id": "76961a4f-1a43-4d49-ae0b-c587c7a11a0a",
   "metadata": {},
   "outputs": [
    {
     "data": {
      "text/plain": [
       "25"
      ]
     },
     "execution_count": 5,
     "metadata": {},
     "output_type": "execute_result"
    }
   ],
   "source": [
    "A=10\n",
    "B=40\n",
    "(A+B)//2"
   ]
  },
  {
   "cell_type": "markdown",
   "id": "bc8de035-d0ea-4027-9353-4af1d348dfe6",
   "metadata": {},
   "source": [
    "## GEOMATRIC MEAN :-\n",
    "           RANGE VARY MORE THAN 2X"
   ]
  },
  {
   "cell_type": "code",
   "execution_count": 7,
   "id": "53bd9872-8ab2-49b6-b56e-f23558019d81",
   "metadata": {},
   "outputs": [
    {
     "data": {
      "text/plain": [
       "39.71149309806313"
      ]
     },
     "execution_count": 7,
     "metadata": {},
     "output_type": "execute_result"
    }
   ],
   "source": [
    "a=10\n",
    "B=10\n",
    "C=10\n",
    "D=10\n",
    "E=9876\n",
    "(a*B*C*D*E)**(1/5)"
   ]
  },
  {
   "cell_type": "markdown",
   "id": "0972a5b7-5aaf-44a7-bfa6-98ea6da6a37e",
   "metadata": {},
   "source": [
    "## HARMONIC MEAN :-\n",
    "            RATE OF CHANGE"
   ]
  },
  {
   "cell_type": "code",
   "execution_count": 9,
   "id": "ee38cce0-470a-475a-8cb9-23c6d5a45002",
   "metadata": {},
   "outputs": [
    {
     "data": {
      "text/plain": [
       "12.496836564255705"
      ]
     },
     "execution_count": 9,
     "metadata": {},
     "output_type": "execute_result"
    }
   ],
   "source": [
    "a=10\n",
    "B=10\n",
    "C=10\n",
    "D=10\n",
    "E=9876\n",
    "5/((1/a)+(1/B)+(1/C)+(1/D)+(1/E))"
   ]
  },
  {
   "cell_type": "markdown",
   "id": "aa3297e0-7f64-4587-a058-a9f579659872",
   "metadata": {},
   "source": [
    "# MEDIAN :-"
   ]
  },
  {
   "cell_type": "markdown",
   "id": "6b223865-7966-4d17-89f9-880a285699da",
   "metadata": {},
   "source": [
    "## ODD TERM MEDIAN :-"
   ]
  },
  {
   "cell_type": "code",
   "execution_count": 29,
   "id": "9d214df0-48e9-40e6-8576-6005e0623b99",
   "metadata": {},
   "outputs": [
    {
     "name": "stdout",
     "output_type": "stream",
     "text": [
      "[666, 27, 36, 447864, 55, 707, 1, 88, 90]\n"
     ]
    }
   ],
   "source": [
    "A=[666,27,36,447864,55,707,1,88,90]\n",
    "print(A)"
   ]
  },
  {
   "cell_type": "code",
   "execution_count": 30,
   "id": "b975fca8-cea9-4da0-84ed-8fd45cab22a0",
   "metadata": {},
   "outputs": [],
   "source": [
    "A.sort()"
   ]
  },
  {
   "cell_type": "code",
   "execution_count": 31,
   "id": "63ba35b7-3cb9-4295-b46d-4022c681244a",
   "metadata": {},
   "outputs": [
    {
     "data": {
      "text/plain": [
       "[1, 27, 36, 55, 88, 90, 666, 707, 447864]"
      ]
     },
     "execution_count": 31,
     "metadata": {},
     "output_type": "execute_result"
    }
   ],
   "source": [
    "A"
   ]
  },
  {
   "cell_type": "code",
   "execution_count": 35,
   "id": "d02c0f19-6374-4163-823b-1c41f1c38560",
   "metadata": {},
   "outputs": [
    {
     "data": {
      "text/plain": [
       "5"
      ]
     },
     "execution_count": 35,
     "metadata": {},
     "output_type": "execute_result"
    }
   ],
   "source": [
    "MEDIAN=(9+1)//2\n",
    "MEDIAN ## 5 Th term"
   ]
  },
  {
   "cell_type": "markdown",
   "id": "17bdd768-62a3-4e40-a699-1d40df836649",
   "metadata": {},
   "source": [
    "## BY PYTHON MODULE :-"
   ]
  },
  {
   "cell_type": "code",
   "execution_count": 59,
   "id": "bed46239-5d69-4778-ac3e-50fd6635f5f9",
   "metadata": {},
   "outputs": [],
   "source": [
    "import statistics as st"
   ]
  },
  {
   "cell_type": "code",
   "execution_count": 43,
   "id": "1e2c7628-4b42-4dce-9d5d-1c0d97be040a",
   "metadata": {},
   "outputs": [
    {
     "data": {
      "text/plain": [
       "88"
      ]
     },
     "execution_count": 43,
     "metadata": {},
     "output_type": "execute_result"
    }
   ],
   "source": [
    "st.median([666,27,36,447864,55,707,1,88,90])"
   ]
  },
  {
   "cell_type": "markdown",
   "id": "8f5fbf59-f6a0-45fe-8b77-57d58426a584",
   "metadata": {},
   "source": [
    "## EVEN TERM MEDIAN :-"
   ]
  },
  {
   "cell_type": "code",
   "execution_count": 38,
   "id": "af79047b-9a5f-4a80-9579-b71689da1c7f",
   "metadata": {},
   "outputs": [
    {
     "name": "stdout",
     "output_type": "stream",
     "text": [
      "[666, 27, 36, 447864, 55, 707, 1, 88]\n"
     ]
    }
   ],
   "source": [
    "A=[666,27,36,447864,55,707,1,88]\n",
    "print(A)"
   ]
  },
  {
   "cell_type": "code",
   "execution_count": 39,
   "id": "dccb3cbb-dd06-4cb8-8aa8-d25477ab4f95",
   "metadata": {},
   "outputs": [
    {
     "data": {
      "text/plain": [
       "[1, 27, 36, 55, 88, 666, 707, 447864]"
      ]
     },
     "execution_count": 39,
     "metadata": {},
     "output_type": "execute_result"
    }
   ],
   "source": [
    "A.sort()\n",
    "A"
   ]
  },
  {
   "cell_type": "code",
   "execution_count": 41,
   "id": "7f4df56b-acc2-4e10-877b-99fe5a5d9941",
   "metadata": {},
   "outputs": [
    {
     "data": {
      "text/plain": [
       "4.25"
      ]
     },
     "execution_count": 41,
     "metadata": {},
     "output_type": "execute_result"
    }
   ],
   "source": [
    "MEDIAN=((8)/2+(8+1)/2)/2\n",
    "MEDIAN"
   ]
  },
  {
   "cell_type": "markdown",
   "id": "f475256d-1283-46cd-bd13-b5df4a6170de",
   "metadata": {},
   "source": [
    "## BY PYTHON MODULE :-"
   ]
  },
  {
   "cell_type": "code",
   "execution_count": 44,
   "id": "01c52ee1-2eda-453e-9bb1-e347df8ab8e8",
   "metadata": {},
   "outputs": [
    {
     "data": {
      "text/plain": [
       "71.5"
      ]
     },
     "execution_count": 44,
     "metadata": {},
     "output_type": "execute_result"
    }
   ],
   "source": [
    "st.median([666,27,36,447864,55,707,1,88])"
   ]
  },
  {
   "cell_type": "markdown",
   "id": "671fa510-b2b7-435c-b127-131d927c82dc",
   "metadata": {},
   "source": [
    "## MODE :-\n",
    "        MOST COMMAN VALUE IN A DATA SET\n",
    "\n"
   ]
  },
  {
   "cell_type": "code",
   "execution_count": 50,
   "id": "e69c5d71-e805-4649-9846-6182364ef684",
   "metadata": {},
   "outputs": [],
   "source": [
    "A=[11,2221,1111,111,11,11,111,1111,1111,11,222,222,222,222,222,222,222,222,333,333,333,333,3,3,3,3,33333,333,333,333,333]"
   ]
  },
  {
   "cell_type": "code",
   "execution_count": 51,
   "id": "8ba082f6-7833-4b63-92a9-79031ecdff6f",
   "metadata": {},
   "outputs": [
    {
     "data": {
      "text/plain": [
       "222"
      ]
     },
     "execution_count": 51,
     "metadata": {},
     "output_type": "execute_result"
    }
   ],
   "source": [
    "st.mode(A)"
   ]
  },
  {
   "cell_type": "code",
   "execution_count": 52,
   "id": "ccfe53ac-7f43-4864-afea-53aea9fb2ddc",
   "metadata": {},
   "outputs": [
    {
     "data": {
      "text/plain": [
       "[222, 333]"
      ]
     },
     "execution_count": 52,
     "metadata": {},
     "output_type": "execute_result"
    }
   ],
   "source": [
    "st.multimode(A)"
   ]
  },
  {
   "cell_type": "code",
   "execution_count": 53,
   "id": "9fda1d18-77b4-4641-8a04-2f50efbc9f44",
   "metadata": {},
   "outputs": [
    {
     "data": {
      "text/plain": [
       "222"
      ]
     },
     "execution_count": 53,
     "metadata": {},
     "output_type": "execute_result"
    }
   ],
   "source": [
    "st.mode(A)"
   ]
  },
  {
   "cell_type": "code",
   "execution_count": 54,
   "id": "d74ad40b-4421-421e-949a-c50ab16b81e6",
   "metadata": {},
   "outputs": [],
   "source": [
    "a=list('suraj rana')"
   ]
  },
  {
   "cell_type": "code",
   "execution_count": 55,
   "id": "71f73674-e6bb-46a0-902a-9652e2298679",
   "metadata": {},
   "outputs": [
    {
     "data": {
      "text/plain": [
       "['s', 'u', 'r', 'a', 'j', ' ', 'r', 'a', 'n', 'a']"
      ]
     },
     "execution_count": 55,
     "metadata": {},
     "output_type": "execute_result"
    }
   ],
   "source": [
    "a"
   ]
  },
  {
   "cell_type": "code",
   "execution_count": 56,
   "id": "0d864859-b7e7-49a9-8b1a-87d24016a43b",
   "metadata": {},
   "outputs": [
    {
     "data": {
      "text/plain": [
       "['a']"
      ]
     },
     "execution_count": 56,
     "metadata": {},
     "output_type": "execute_result"
    }
   ],
   "source": [
    "st.multimode(a)"
   ]
  },
  {
   "cell_type": "code",
   "execution_count": 57,
   "id": "73439585-a584-40de-b6e1-5ff37512d2e2",
   "metadata": {},
   "outputs": [
    {
     "data": {
      "text/plain": [
       "'a'"
      ]
     },
     "execution_count": 57,
     "metadata": {},
     "output_type": "execute_result"
    }
   ],
   "source": [
    "st.mode(a)"
   ]
  },
  {
   "cell_type": "markdown",
   "id": "9205b0ae-10e8-4f83-9c0a-7488fefa2850",
   "metadata": {},
   "source": [
    "## Standard Deviation and varience :-"
   ]
  },
  {
   "cell_type": "code",
   "execution_count": 66,
   "id": "73c2fd8f-0dd9-4c66-837a-b848244bae97",
   "metadata": {},
   "outputs": [],
   "source": [
    "A=[1,2,3,4,5,6,7,8,9,10]"
   ]
  },
  {
   "cell_type": "code",
   "execution_count": 67,
   "id": "2d151d31-cc47-42d7-89b2-fc915d0ef808",
   "metadata": {},
   "outputs": [
    {
     "name": "stdout",
     "output_type": "stream",
     "text": [
      "[1, 2, 3, 4, 5, 6, 7, 8, 9, 10] --->  3.0276503540974917\n"
     ]
    }
   ],
   "source": [
    "\n",
    "A.sort()\n",
    "print(A,  \"---> \",st.stdev(A))"
   ]
  },
  {
   "cell_type": "code",
   "execution_count": 68,
   "id": "edfd2210-3fe9-4518-951c-5a7ca5b85701",
   "metadata": {},
   "outputs": [
    {
     "data": {
      "text/plain": [
       "5.5"
      ]
     },
     "execution_count": 68,
     "metadata": {},
     "output_type": "execute_result"
    }
   ],
   "source": [
    "st.mean(A)"
   ]
  },
  {
   "cell_type": "code",
   "execution_count": 69,
   "id": "f70fc0b0-7f7d-4908-a49f-b19ebde2ea07",
   "metadata": {},
   "outputs": [
    {
     "data": {
      "text/plain": [
       "9.166666666666666"
      ]
     },
     "execution_count": 69,
     "metadata": {},
     "output_type": "execute_result"
    }
   ],
   "source": [
    "st.variance(A)"
   ]
  },
  {
   "cell_type": "markdown",
   "id": "c87c6f6d-7ad1-4695-83b4-48ccb0bb3972",
   "metadata": {},
   "source": [
    "# Quantiles and IQR :-"
   ]
  },
  {
   "cell_type": "code",
   "execution_count": 100,
   "id": "72d3b7c7-8942-4899-879b-1c13f95facfe",
   "metadata": {},
   "outputs": [],
   "source": [
    "A=A+[1000]"
   ]
  },
  {
   "cell_type": "code",
   "execution_count": 101,
   "id": "06d11832-59bb-45a0-bbe9-785beb764b9a",
   "metadata": {},
   "outputs": [
    {
     "data": {
      "text/plain": [
       "[1, 2, 3, 4, 5, 6, 7, 8, 9, 10, 1000000000000, 1000]"
      ]
     },
     "execution_count": 101,
     "metadata": {},
     "output_type": "execute_result"
    }
   ],
   "source": [
    "A"
   ]
  },
  {
   "cell_type": "code",
   "execution_count": 102,
   "id": "f93df5ab-aeb2-4e51-923d-c259862440d1",
   "metadata": {},
   "outputs": [],
   "source": [
    "Q1,Q2,Q3=st.quantiles(A)"
   ]
  },
  {
   "cell_type": "markdown",
   "id": "0b8b6b37-70bf-412f-82e0-bc3babf5211c",
   "metadata": {},
   "source": [
    "## MAX TREND :-"
   ]
  },
  {
   "cell_type": "code",
   "execution_count": 103,
   "id": "42c78075-f386-4249-94d4-2a32acfe8411",
   "metadata": {},
   "outputs": [],
   "source": [
    "MAX_TREND = (Q3+1.5*(Q3-Q1))"
   ]
  },
  {
   "cell_type": "code",
   "execution_count": 104,
   "id": "7ad42fbf-edcd-490c-816f-98580be6a2ff",
   "metadata": {},
   "outputs": [
    {
     "data": {
      "text/plain": [
       "19.5"
      ]
     },
     "execution_count": 104,
     "metadata": {},
     "output_type": "execute_result"
    }
   ],
   "source": [
    "MAX_TREND"
   ]
  },
  {
   "cell_type": "markdown",
   "id": "1814213c-5538-4e2c-9f91-bb375246f58e",
   "metadata": {},
   "source": [
    "# MIN_TREND:-"
   ]
  },
  {
   "cell_type": "code",
   "execution_count": 105,
   "id": "7425d4bd-12bf-4a81-be16-de76f5792612",
   "metadata": {},
   "outputs": [],
   "source": [
    "MIN_TREND = (Q3-1.5*(Q3-Q1))"
   ]
  },
  {
   "cell_type": "code",
   "execution_count": 106,
   "id": "476ee5c4-8aea-47c4-99f0-a8ff143704ce",
   "metadata": {},
   "outputs": [
    {
     "data": {
      "text/plain": [
       "0.0"
      ]
     },
     "execution_count": 106,
     "metadata": {},
     "output_type": "execute_result"
    }
   ],
   "source": [
    "MIN_TREND"
   ]
  },
  {
   "cell_type": "code",
   "execution_count": null,
   "id": "23b145d8-cd82-4ef3-b074-d67cb1c439ac",
   "metadata": {},
   "outputs": [],
   "source": []
  },
  {
   "cell_type": "code",
   "execution_count": null,
   "id": "04bb1d2f-468e-4d65-81a3-7ec985a48122",
   "metadata": {},
   "outputs": [],
   "source": []
  }
 ],
 "metadata": {
  "kernelspec": {
   "display_name": "Python 3 (ipykernel)",
   "language": "python",
   "name": "python3"
  },
  "language_info": {
   "codemirror_mode": {
    "name": "ipython",
    "version": 3
   },
   "file_extension": ".py",
   "mimetype": "text/x-python",
   "name": "python",
   "nbconvert_exporter": "python",
   "pygments_lexer": "ipython3",
   "version": "3.10.9"
  }
 },
 "nbformat": 4,
 "nbformat_minor": 5
}
