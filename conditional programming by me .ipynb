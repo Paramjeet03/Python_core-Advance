{
 "cells": [
  {
   "cell_type": "markdown",
   "id": "b0650f68-a10c-4210-a2af-898d2e153dae",
   "metadata": {},
   "source": [
    "# CONDITIONAL PROGRAMMING :-\n",
    "\n",
    "> if  else.\n",
    "\n",
    "> NESTED if else.\n",
    "\n",
    "> if elif else\n",
    "\n",
    ">iterative statment\n",
    " (while, for)\n",
    "\n"
   ]
  },
  {
   "cell_type": "markdown",
   "id": "bad2b158-d632-44e0-8930-609520d4a411",
   "metadata": {},
   "source": [
    "# if else"
   ]
  },
  {
   "cell_type": "code",
   "execution_count": 27,
   "id": "f3d89412-c8a1-4b66-9903-dcc3bd33420d",
   "metadata": {},
   "outputs": [
    {
     "name": "stdin",
     "output_type": "stream",
     "text": [
      "enter your roll number 54\n"
     ]
    }
   ],
   "source": [
    "user=input('enter your roll number')"
   ]
  },
  {
   "cell_type": "code",
   "execution_count": 26,
   "id": "f2da9cd7-69b2-4774-9a61-55d9723cbdb5",
   "metadata": {},
   "outputs": [
    {
     "data": {
      "text/plain": [
       "54"
      ]
     },
     "execution_count": 26,
     "metadata": {},
     "output_type": "execute_result"
    }
   ],
   "source": [
    "user "
   ]
  },
  {
   "cell_type": "markdown",
   "id": "7ade11af-274e-445a-9cd3-f0a768967e3a",
   "metadata": {},
   "source": [
    "# we get in str because str having maximum character in comparison of other data type. if we want too remove this str than we use casting."
   ]
  },
  {
   "cell_type": "code",
   "execution_count": 17,
   "id": "37601ee0-8982-49b6-8d01-7b48cc4f0e3e",
   "metadata": {},
   "outputs": [
    {
     "name": "stdin",
     "output_type": "stream",
     "text": [
      "enter your roll number 54\n"
     ]
    },
    {
     "name": "stdout",
     "output_type": "stream",
     "text": [
      "bad\n"
     ]
    }
   ],
   "source": [
    "user=int(input('enter your roll number'))\n",
    "if user<=20:\n",
    " print('good')\n",
    "else:\n",
    "    print('bad')"
   ]
  },
  {
   "cell_type": "code",
   "execution_count": 16,
   "id": "2ef9fd42-6129-4b41-adfa-4640a33457ed",
   "metadata": {},
   "outputs": [
    {
     "name": "stdin",
     "output_type": "stream",
     "text": [
      "enter your exam marks 55\n"
     ]
    },
    {
     "name": "stdout",
     "output_type": "stream",
     "text": [
      "good\n",
      "you got a prize\n"
     ]
    }
   ],
   "source": [
    "user=int(input('enter your exam marks'))\n",
    "if user<=20:\n",
    " print('bad')\n",
    " print(\"try hard next time\")\n",
    "else:\n",
    "    print('good')\n",
    "    print('you got a prize')"
   ]
  },
  {
   "cell_type": "code",
   "execution_count": 19,
   "id": "14d11a84-3e74-46f9-883e-ff81172b0e91",
   "metadata": {},
   "outputs": [
    {
     "name": "stdin",
     "output_type": "stream",
     "text": [
      "enter the number 55\n"
     ]
    },
    {
     "name": "stdout",
     "output_type": "stream",
     "text": [
      "number is odd\n"
     ]
    }
   ],
   "source": [
    "num=int(input('enter the number'))\n",
    "if num%2==0:\n",
    "    print('number is even')\n",
    "else:\n",
    "    print('number is odd')"
   ]
  },
  {
   "cell_type": "code",
   "execution_count": 20,
   "id": "8838ea6f-047c-42b2-b095-59acae387ca2",
   "metadata": {},
   "outputs": [
    {
     "name": "stdin",
     "output_type": "stream",
     "text": [
      "enter the number 10\n"
     ]
    },
    {
     "name": "stdout",
     "output_type": "stream",
     "text": [
      "number is even\n"
     ]
    }
   ],
   "source": [
    "num=int(input('enter the number'))\n",
    "if num%2==0:\n",
    "    print('number is even')\n",
    "else:\n",
    "    print('number is odd')"
   ]
  },
  {
   "cell_type": "markdown",
   "id": "20bd91ab-b49d-4537-999a-856785f3228f",
   "metadata": {},
   "source": [
    "# NESTED if else."
   ]
  },
  {
   "cell_type": "code",
   "execution_count": 24,
   "id": "2498bdd1-9544-4653-a463-298b4e1d55c9",
   "metadata": {},
   "outputs": [
    {
     "name": "stdin",
     "output_type": "stream",
     "text": [
      "enter the number 10\n"
     ]
    },
    {
     "name": "stdout",
     "output_type": "stream",
     "text": [
      "number is even\n",
      "number is positive\n"
     ]
    }
   ],
   "source": [
    "num=int(input('enter the number'))\n",
    "if num%2==0:\n",
    "    print('number is even')\n",
    "    if num>=0:\n",
    "        print('number is positive')\n",
    "    else:\n",
    "        print('number is negative')\n",
    "else:\n",
    "    print('number is odd')"
   ]
  },
  {
   "cell_type": "code",
   "execution_count": 25,
   "id": "aa3cccb2-1f34-420c-a789-09c8e010051a",
   "metadata": {},
   "outputs": [
    {
     "name": "stdin",
     "output_type": "stream",
     "text": [
      "enter the number -55016504847048\n"
     ]
    },
    {
     "name": "stdout",
     "output_type": "stream",
     "text": [
      "number is even\n",
      "number is negative\n"
     ]
    }
   ],
   "source": [
    "num=int(input('enter the number'))\n",
    "if num%2==0:\n",
    "    print('number is even')\n",
    "    if num>=0:\n",
    "        print('number is positive')\n",
    "    else:\n",
    "        print('number is negative')\n",
    "else:\n",
    "    print('number is odd')\n",
    "    if num>=0:\n",
    "        print('number is positive')\n",
    "    else:\n",
    "        print('number is negative')"
   ]
  },
  {
   "cell_type": "markdown",
   "id": "7681719c-978f-4966-9b51-323fd07efc50",
   "metadata": {},
   "source": [
    "# if elif else"
   ]
  },
  {
   "cell_type": "code",
   "execution_count": 1,
   "id": "564d22ff-d788-4616-baf5-7060bde81ea3",
   "metadata": {},
   "outputs": [
    {
     "name": "stdin",
     "output_type": "stream",
     "text": [
      "Enter your age 12\n"
     ]
    },
    {
     "name": "stdout",
     "output_type": "stream",
     "text": [
      "win cycle\n"
     ]
    }
   ],
   "source": [
    "age=int(input('Enter your age'))\n",
    "if age>0 and age<=15:\n",
    "    print('win cycle')\n",
    "elif age>15 and age<=60:\n",
    "    print('win maruti 800')\n",
    "elif age>60 and age<=110:\n",
    "    print(\"win wheelchair\")\n",
    "else:\n",
    "    print('you win coffin')\n",
    "    "
   ]
  },
  {
   "cell_type": "code",
   "execution_count": 2,
   "id": "dcc3e81f-ef90-4a4d-bcca-26e59fc29833",
   "metadata": {},
   "outputs": [
    {
     "name": "stdin",
     "output_type": "stream",
     "text": [
      "Enter your age 55\n"
     ]
    },
    {
     "name": "stdout",
     "output_type": "stream",
     "text": [
      "win maruti 800\n"
     ]
    }
   ],
   "source": [
    "age=int(input('Enter your age'))\n",
    "if age>0 and age<=15:\n",
    "    print('win cycle')\n",
    "elif age>15 and age<=60:\n",
    "    print('win maruti 800')\n",
    "elif age>60 and age<=110:\n",
    "    print(\"win wheelchair\")\n",
    "else:\n",
    "    print('you win coffin')"
   ]
  },
  {
   "cell_type": "code",
   "execution_count": 3,
   "id": "e818d582-3d3f-4094-9927-fefdd19bffea",
   "metadata": {},
   "outputs": [
    {
     "name": "stdin",
     "output_type": "stream",
     "text": [
      "Enter your age 110\n"
     ]
    },
    {
     "name": "stdout",
     "output_type": "stream",
     "text": [
      "win wheelchair\n"
     ]
    }
   ],
   "source": [
    "age=int(input('Enter your age'))\n",
    "if age>0 and age<=15:\n",
    "    print('win cycle')\n",
    "elif age>15 and age<=60:\n",
    "    print('win maruti 800')\n",
    "elif age>60 and age<=110:\n",
    "    print(\"win wheelchair\")\n",
    "else:\n",
    "    print('you win coffin')"
   ]
  },
  {
   "cell_type": "code",
   "execution_count": 4,
   "id": "e1b9c267-e5f7-4b43-be6d-eabde73d097f",
   "metadata": {},
   "outputs": [
    {
     "name": "stdin",
     "output_type": "stream",
     "text": [
      "Enter your age 111\n"
     ]
    },
    {
     "name": "stdout",
     "output_type": "stream",
     "text": [
      "you win coffin\n"
     ]
    }
   ],
   "source": [
    "age=int(input('Enter your age'))\n",
    "if age>0 and age<=15:\n",
    "    print('win cycle')\n",
    "elif age>15 and age<=60:\n",
    "    print('win maruti 800')\n",
    "elif age>60 and age<=110:\n",
    "    print(\"win wheelchair\")\n",
    "else:\n",
    "    print('you win coffin')"
   ]
  },
  {
   "cell_type": "markdown",
   "id": "5de2b627-0db3-48ad-a1fc-a956329bd71a",
   "metadata": {},
   "source": [
    "# Nested if elif else "
   ]
  },
  {
   "cell_type": "code",
   "execution_count": 9,
   "id": "13bb181c-21f0-4ca1-9427-ee2153c8c68f",
   "metadata": {},
   "outputs": [
    {
     "name": "stdin",
     "output_type": "stream",
     "text": [
      "Enter your age 55\n"
     ]
    },
    {
     "name": "stdout",
     "output_type": "stream",
     "text": [
      "win maruti 800\n"
     ]
    }
   ],
   "source": [
    "age=int(input('Enter your age'))\n",
    "if age>0 and age<=15:\n",
    "    if age<=5:\n",
    "        print('win candy box')\n",
    "    else:\n",
    "        print('win cycle')\n",
    "elif age>15 and age<=60:\n",
    "    if age<=30:\n",
    "       print('rajdoot bike ')\n",
    "    else:\n",
    "        print('win maruti 800')\n",
    "elif age>60 and age<=110:\n",
    "    if age<=80:\n",
    "        print(\"win free insurance\")\n",
    "    else:\n",
    "        print('win wheelchair')\n",
    "else:\n",
    "    print('you win coffin')"
   ]
  },
  {
   "cell_type": "code",
   "execution_count": 20,
   "id": "75b1f8ab-3c62-496a-aaed-dbb77cbde1fd",
   "metadata": {},
   "outputs": [
    {
     "name": "stdin",
     "output_type": "stream",
     "text": [
      "enter your option b\n"
     ]
    },
    {
     "name": "stdout",
     "output_type": "stream",
     "text": [
      "option b\n"
     ]
    }
   ],
   "source": [
    "option=input('enter your option')\n",
    "if option=='a':\n",
    "    print('option a')\n",
    "elif option=='b':\n",
    "    print('option b')\n",
    "elif option=='c':   \n",
    "    print('option c')\n",
    "elif option=='d':\n",
    "    print('option d')\n",
    "else:\n",
    "    print('enter valid option')"
   ]
  },
  {
   "cell_type": "markdown",
   "id": "62e758ce-6b38-4461-a54a-7493fc8b82f1",
   "metadata": {},
   "source": [
    "option=input('enter your option')\n",
    "if option=='a':\n",
    "    print('option a')\n",
    "elif option=='a':\n",
    "    print('option b')\n",
    "elif option=='c':   \n",
    "    print('option c')\n",
    "elif option=='d':\n",
    "    print('option d')\n",
    "else:\n",
    "    print('enter valid option')"
   ]
  },
  {
   "cell_type": "markdown",
   "id": "67b41ea1-c4f8-4dc8-b685-e2d9d361b588",
   "metadata": {},
   "source": [
    "# MOST IMPORATNT :-\n",
    " \n",
    ">if elif else AFTER GETTING THE RALEVANT RESULT IS TURN OFF THE INTERPERATER. BUT IN IF ELSE READ COMPLETE STATEMANT.\n",
    "    "
   ]
  },
  {
   "cell_type": "code",
   "execution_count": null,
   "id": "ba269af4-aad8-46d9-a97e-a9d1fe9a7983",
   "metadata": {},
   "outputs": [],
   "source": [
    "num1=int(input('enter your no1'))\n",
    "num2=int(input('enter your no2'))\n",
    "num3=int(input('enter your no3'))\n",
    "if num1>num2:\n",
    "    if  num1>num3:\n",
    "        print('num1 is larger')\n",
    "    else:\n",
    "        print('num3 is larger')\n",
    "elif num2>num3 :\n",
    "        print('num2 is larger')\n",
    "else:\n",
    "    print('num3 is larger')"
   ]
  },
  {
   "cell_type": "markdown",
   "id": "7c5e6a2a-1600-495f-89d4-342ab804e3c7",
   "metadata": {},
   "source": [
    "# calculator:-"
   ]
  },
  {
   "cell_type": "code",
   "execution_count": 29,
   "id": "8b1452d1-b181-4c53-8c36-d46438472b88",
   "metadata": {},
   "outputs": [
    {
     "name": "stdin",
     "output_type": "stream",
     "text": [
      "enter your 1st number 55\n",
      "enter your 2nd number 100\n",
      "enter your operation +,-,/,//,* -\n"
     ]
    },
    {
     "name": "stdout",
     "output_type": "stream",
     "text": [
      "result -45\n"
     ]
    }
   ],
   "source": [
    "num1=int(input('enter your 1st number'))\n",
    "num2=int(input('enter your 2nd number'))\n",
    "operation=input('enter your operation +,-,/,//,*')\n",
    "if operation=='+':\n",
    "    print('result',num1+num2)\n",
    "elif operation=='-':\n",
    "    print('result',num1-num2)\n",
    "elif operation=='/':\n",
    "    print('result',num1/num2)\n",
    "elif operation=='//':\n",
    "    print('result',num1//num2)\n",
    "elif operation=='*':\n",
    "    print('result',num1*num2)\n",
    "else:\n",
    "    print('go to hell')\n",
    "    "
   ]
  },
  {
   "cell_type": "markdown",
   "id": "54edc76f-abef-4460-b71b-b452691fb1c4",
   "metadata": {},
   "source": [
    "# If we want subtraction all give positive result then we use packing and unpacking concept. example given below"
   ]
  },
  {
   "cell_type": "code",
   "execution_count": 16,
   "id": "07e41432-1658-4a38-96f5-c97da9e3573a",
   "metadata": {},
   "outputs": [],
   "source": [
    "a=3\n",
    "b=4"
   ]
  },
  {
   "cell_type": "code",
   "execution_count": 17,
   "id": "f5adaadd-5a27-479c-bb70-63b6c9caf00b",
   "metadata": {},
   "outputs": [
    {
     "data": {
      "text/plain": [
       "3"
      ]
     },
     "execution_count": 17,
     "metadata": {},
     "output_type": "execute_result"
    }
   ],
   "source": [
    "a"
   ]
  },
  {
   "cell_type": "code",
   "execution_count": 18,
   "id": "a8b64149-b58e-4d6f-93a1-849bc2da4329",
   "metadata": {},
   "outputs": [
    {
     "data": {
      "text/plain": [
       "4"
      ]
     },
     "execution_count": 18,
     "metadata": {},
     "output_type": "execute_result"
    }
   ],
   "source": [
    "b"
   ]
  },
  {
   "cell_type": "code",
   "execution_count": 25,
   "id": "c3529e4f-f09d-4889-8962-e82418b95c00",
   "metadata": {},
   "outputs": [],
   "source": [
    "a,b=b,a #it change the value b/w 2 variable"
   ]
  },
  {
   "cell_type": "code",
   "execution_count": 26,
   "id": "8a901aee-fe9b-4981-947b-ce2b27960ba8",
   "metadata": {},
   "outputs": [
    {
     "data": {
      "text/plain": [
       "4"
      ]
     },
     "execution_count": 26,
     "metadata": {},
     "output_type": "execute_result"
    }
   ],
   "source": [
    "a"
   ]
  },
  {
   "cell_type": "code",
   "execution_count": 27,
   "id": "f2d42ea2-f41c-4911-8c20-f2c755773541",
   "metadata": {},
   "outputs": [
    {
     "data": {
      "text/plain": [
       "3"
      ]
     },
     "execution_count": 27,
     "metadata": {},
     "output_type": "execute_result"
    }
   ],
   "source": [
    "b"
   ]
  },
  {
   "cell_type": "code",
   "execution_count": 28,
   "id": "3733235a-d8c8-4d35-8741-ac1dc122c3f8",
   "metadata": {},
   "outputs": [
    {
     "name": "stdin",
     "output_type": "stream",
     "text": [
      "enter your 1st number 55\n",
      "enter your 2nd number 100\n",
      "enter your operation +,-,/,//,* -\n"
     ]
    },
    {
     "name": "stdout",
     "output_type": "stream",
     "text": [
      "result 45\n"
     ]
    }
   ],
   "source": [
    "num1=int(input('enter your 1st number'))\n",
    "num2=int(input('enter your 2nd number'))\n",
    "operation=input('enter your operation +,-,/,//,*')\n",
    "if operation=='+':\n",
    "    print('result',num1+num2)\n",
    "elif operation=='-':\n",
    "    if num1>num2:\n",
    "        print('result',num1-num2)\n",
    "    else:\n",
    "        num1,num2=num2,num1\n",
    "        print('result',num1-num2)\n",
    "elif operation=='/':\n",
    "    print('result',num1/num2)\n",
    "elif operation=='//':\n",
    "    print('result',num1//num2)\n",
    "elif operation=='*':\n",
    "    print('result',num1*num2)\n",
    "else:\n",
    "    print('go to hell')"
   ]
  },
  {
   "cell_type": "markdown",
   "id": "88934d74-47bc-4e53-b0f3-3dfe970703a6",
   "metadata": {},
   "source": [
    "# below content only for class work ignore it  "
   ]
  },
  {
   "cell_type": "code",
   "execution_count": 2,
   "id": "85ba26f0-30b1-4a76-86ae-61c696d4372b",
   "metadata": {},
   "outputs": [
    {
     "ename": "SyntaxError",
     "evalue": "incomplete input (3930817913.py, line 6)",
     "output_type": "error",
     "traceback": [
      "\u001b[1;36m  Cell \u001b[1;32mIn[2], line 6\u001b[1;36m\u001b[0m\n\u001b[1;33m    if temp:\u001b[0m\n\u001b[1;37m            ^\u001b[0m\n\u001b[1;31mSyntaxError\u001b[0m\u001b[1;31m:\u001b[0m incomplete input\n"
     ]
    }
   ],
   "source": [
    "a=3\n",
    "b=4\n",
    "c=1\n",
    "d=7\n",
    "temp=a\n",
    "if temp:"
   ]
  },
  {
   "cell_type": "markdown",
   "id": "d7a211e8-c006-4eea-b9cf-0a60639eae8c",
   "metadata": {},
   "source": [
    "# iterative statement :-\n",
    "\n",
    "# 1) while\n",
    "\n",
    "# 2) for"
   ]
  },
  {
   "cell_type": "markdown",
   "id": "4c29c86b-2b12-46af-87ac-a32e29cee089",
   "metadata": {},
   "source": [
    "# 1) while :-\n",
    " # it is use for repeat the same condition again and again."
   ]
  },
  {
   "cell_type": "code",
   "execution_count": 7,
   "id": "1b96ebe3-e0d9-41e1-a945-26b7fdb553fa",
   "metadata": {},
   "outputs": [
    {
     "name": "stdout",
     "output_type": "stream",
     "text": [
      "*\n",
      "*\n",
      "*\n",
      "*\n",
      "*\n",
      "*\n"
     ]
    }
   ],
   "source": [
    "count=1\n",
    "while count<7:\n",
    "    print(\"*\")\n",
    "    count=count+1"
   ]
  },
  {
   "cell_type": "code",
   "execution_count": 1,
   "id": "a696cc66-7353-475f-a21e-584fbdd62c72",
   "metadata": {},
   "outputs": [
    {
     "name": "stdout",
     "output_type": "stream",
     "text": [
      "ghjk\n",
      "ghjk\n",
      "ghjk\n",
      "ghjk\n",
      "ghjk\n",
      "ghjk\n"
     ]
    }
   ],
   "source": [
    "i=1\n",
    "while i<=6:\n",
    "    print('ghjk')\n",
    "    i = i+1"
   ]
  },
  {
   "cell_type": "code",
   "execution_count": 13,
   "id": "7bc7db40-5aaf-4648-8244-fd924f1ab968",
   "metadata": {},
   "outputs": [
    {
     "name": "stdin",
     "output_type": "stream",
     "text": [
      "enter your no. 5\n"
     ]
    },
    {
     "name": "stdout",
     "output_type": "stream",
     "text": [
      "5\n",
      "10\n",
      "15\n",
      "20\n",
      "25\n",
      "30\n",
      "35\n",
      "40\n",
      "45\n",
      "50\n"
     ]
    }
   ],
   "source": [
    "i=1\n",
    "x=int(input('enter your no.'))\n",
    "while i<=10:\n",
    "    print(i*x,end='\\n')\n",
    "    i=i+1"
   ]
  },
  {
   "cell_type": "code",
   "execution_count": 16,
   "id": "260eefca-4be7-4a3d-ac09-2280f5854bed",
   "metadata": {},
   "outputs": [
    {
     "name": "stdout",
     "output_type": "stream",
     "text": [
      "10\n",
      "9\n",
      "8\n",
      "7\n",
      "6\n",
      "5\n",
      "4\n",
      "3\n",
      "2\n",
      "1\n"
     ]
    }
   ],
   "source": [
    "i=10\n",
    "while i>=1:\n",
    "    print(i,end='\\n')\n",
    "    i=i-1"
   ]
  },
  {
   "cell_type": "code",
   "execution_count": 23,
   "id": "182aae16-23a7-47d0-8b57-3ec9ee1efe78",
   "metadata": {},
   "outputs": [
    {
     "name": "stdin",
     "output_type": "stream",
     "text": [
      "enter your no. 5\n",
      "enter your no. 0\n",
      "enter your no. 5\n",
      "enter your no. 0\n",
      "enter your no. 5\n"
     ]
    },
    {
     "name": "stdout",
     "output_type": "stream",
     "text": [
      "sum of five no. 15\n"
     ]
    }
   ],
   "source": [
    "i=0\n",
    "b=0\n",
    "while i<5:\n",
    "    x=int(input('enter your no.'))\n",
    "    b=b+x\n",
    "    i=i+1\n",
    "print('sum of five no.',b)"
   ]
  },
  {
   "cell_type": "code",
   "execution_count": 4,
   "id": "4bf93aad-22f5-4f47-afc9-a70d67fc92fd",
   "metadata": {},
   "outputs": [
    {
     "name": "stdin",
     "output_type": "stream",
     "text": [
      "enter your no. 7\n",
      "enter your no. 8\n",
      "enter your no. 5\n",
      "enter your no. 6\n",
      "enter your no. 8\n"
     ]
    },
    {
     "name": "stdout",
     "output_type": "stream",
     "text": [
      "sum of five no. 22\n"
     ]
    }
   ],
   "source": [
    "a=0\n",
    "c=0\n",
    "while a<5:\n",
    "    x=int(input('enter your no.'))\n",
    "    if x%2==0:\n",
    "        c=c+x\n",
    "    a=a+1\n",
    "print('sum of five no.',c)"
   ]
  },
  {
   "cell_type": "code",
   "execution_count": 2,
   "id": "50b189c6-d8d1-49f9-a8b8-58e2cc75e1e7",
   "metadata": {},
   "outputs": [
    {
     "name": "stdin",
     "output_type": "stream",
     "text": [
      "enter your no. 2\n",
      "enter your no. 1\n",
      "enter your no. 9\n",
      "enter your no. 5\n",
      "enter your no. 6\n"
     ]
    },
    {
     "name": "stdout",
     "output_type": "stream",
     "text": [
      "sum of even 8\n",
      "sum of odd 7\n"
     ]
    }
   ],
   "source": [
    "s=0\n",
    "c=0\n",
    "while s<5:\n",
    "    x=int(input('enter your no.'))\n",
    "    if x%2==0:\n",
    "        c=c+x\n",
    "    else:\n",
    "        l=c+x                ^# wrong\n",
    "    s=s+1\n",
    "print('sum of even',c)\n",
    "print('sum of odd',l)"
   ]
  }
 ],
 "metadata": {
  "kernelspec": {
   "display_name": "Python 3 (ipykernel)",
   "language": "python",
   "name": "python3"
  },
  "language_info": {
   "codemirror_mode": {
    "name": "ipython",
    "version": 3
   },
   "file_extension": ".py",
   "mimetype": "text/x-python",
   "name": "python",
   "nbconvert_exporter": "python",
   "pygments_lexer": "ipython3",
   "version": "3.10.9"
  }
 },
 "nbformat": 4,
 "nbformat_minor": 5
}
